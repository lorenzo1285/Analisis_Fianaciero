{
  "nbformat": 4,
  "nbformat_minor": 0,
  "metadata": {
    "colab": {
      "name": "Altman_zscore.ipynb",
      "provenance": [],
      "authorship_tag": "ABX9TyO9Ymfa2Qbow6rRQpScVLEi",
      "include_colab_link": true
    },
    "kernelspec": {
      "name": "python3",
      "display_name": "Python 3"
    },
    "language_info": {
      "name": "python"
    }
  },
  "cells": [
    {
      "cell_type": "markdown",
      "metadata": {
        "id": "view-in-github",
        "colab_type": "text"
      },
      "source": [
        "<a href=\"https://colab.research.google.com/github/lorenzo1285/Analisis_Fianaciero/blob/main/Altman_zscore.ipynb\" target=\"_parent\"><img src=\"https://colab.research.google.com/assets/colab-badge.svg\" alt=\"Open In Colab\"/></a>"
      ]
    },
    {
      "cell_type": "code",
      "execution_count": null,
      "metadata": {
        "id": "tFQzNKrG8t7s"
      },
      "outputs": [],
      "source": [
        "  pip install yahoo-fin"
      ]
    },
    {
      "cell_type": "code",
      "source": [
        "pip install FinRatioAnalysis"
      ],
      "metadata": {
        "id": "pHWl3iEh8_gg"
      },
      "execution_count": null,
      "outputs": []
    },
    {
      "cell_type": "code",
      "source": [
        "pip install investpy"
      ],
      "metadata": {
        "id": "odioexHmkpzC"
      },
      "execution_count": null,
      "outputs": []
    },
    {
      "cell_type": "code",
      "source": [
        "from FinRatioAnalysis import FinRatioAnalysis\n",
        "import os\n",
        "import pandas as pd\n",
        "import numpy as np\n",
        "import yahoo_fin.stock_info as si\n",
        "import investpy as ip"
      ],
      "metadata": {
        "id": "F8IuSy029F_w"
      },
      "execution_count": 24,
      "outputs": []
    },
    {
      "cell_type": "code",
      "source": [
        "ticker = 'IBM'"
      ],
      "metadata": {
        "id": "-R43tBUn_AOR"
      },
      "execution_count": 8,
      "outputs": []
    },
    {
      "cell_type": "code",
      "source": [
        "ra = FinRatioAnalysis('IBM')"
      ],
      "metadata": {
        "id": "7weHsumF9Vx4"
      },
      "execution_count": 9,
      "outputs": []
    },
    {
      "cell_type": "code",
      "source": [
        "balance_sheet = ra.BalanceSheet.transpose()\n",
        "balance_sheet"
      ],
      "metadata": {
        "colab": {
          "base_uri": "https://localhost:8080/",
          "height": 340
        },
        "id": "Sfu09PQMdT_d",
        "outputId": "a08fd2fd-4bf7-4ddd-8c19-4880323eb5cc"
      },
      "execution_count": 20,
      "outputs": [
        {
          "output_type": "execute_result",
          "data": {
            "text/html": [
              "\n",
              "  <div id=\"df-c4d77e69-9eb4-4c8f-a396-c7655e400ee5\">\n",
              "    <div class=\"colab-df-container\">\n",
              "      <div>\n",
              "<style scoped>\n",
              "    .dataframe tbody tr th:only-of-type {\n",
              "        vertical-align: middle;\n",
              "    }\n",
              "\n",
              "    .dataframe tbody tr th {\n",
              "        vertical-align: top;\n",
              "    }\n",
              "\n",
              "    .dataframe thead th {\n",
              "        text-align: right;\n",
              "    }\n",
              "</style>\n",
              "<table border=\"1\" class=\"dataframe\">\n",
              "  <thead>\n",
              "    <tr style=\"text-align: right;\">\n",
              "      <th>Breakdown</th>\n",
              "      <th>intangibleAssets</th>\n",
              "      <th>totalLiab</th>\n",
              "      <th>totalStockholderEquity</th>\n",
              "      <th>minorityInterest</th>\n",
              "      <th>deferredLongTermLiab</th>\n",
              "      <th>otherCurrentLiab</th>\n",
              "      <th>totalAssets</th>\n",
              "      <th>commonStock</th>\n",
              "      <th>otherCurrentAssets</th>\n",
              "      <th>retainedEarnings</th>\n",
              "      <th>otherLiab</th>\n",
              "      <th>goodWill</th>\n",
              "      <th>treasuryStock</th>\n",
              "      <th>otherAssets</th>\n",
              "      <th>cash</th>\n",
              "      <th>totalCurrentLiabilities</th>\n",
              "      <th>deferredLongTermAssetCharges</th>\n",
              "      <th>otherStockholderEquity</th>\n",
              "      <th>propertyPlantEquipment</th>\n",
              "      <th>totalCurrentAssets</th>\n",
              "      <th>longTermInvestments</th>\n",
              "      <th>netTangibleAssets</th>\n",
              "      <th>shortTermInvestments</th>\n",
              "      <th>netReceivables</th>\n",
              "      <th>longTermDebt</th>\n",
              "      <th>inventory</th>\n",
              "      <th>accountsPayable</th>\n",
              "      <th>shortLongTermDebt</th>\n",
              "    </tr>\n",
              "    <tr>\n",
              "      <th>endDate</th>\n",
              "      <th></th>\n",
              "      <th></th>\n",
              "      <th></th>\n",
              "      <th></th>\n",
              "      <th></th>\n",
              "      <th></th>\n",
              "      <th></th>\n",
              "      <th></th>\n",
              "      <th></th>\n",
              "      <th></th>\n",
              "      <th></th>\n",
              "      <th></th>\n",
              "      <th></th>\n",
              "      <th></th>\n",
              "      <th></th>\n",
              "      <th></th>\n",
              "      <th></th>\n",
              "      <th></th>\n",
              "      <th></th>\n",
              "      <th></th>\n",
              "      <th></th>\n",
              "      <th></th>\n",
              "      <th></th>\n",
              "      <th></th>\n",
              "      <th></th>\n",
              "      <th></th>\n",
              "      <th></th>\n",
              "      <th></th>\n",
              "    </tr>\n",
              "  </thead>\n",
              "  <tbody>\n",
              "    <tr>\n",
              "      <th>2021-12-31</th>\n",
              "      <td>1.251100e+10</td>\n",
              "      <td>1.130050e+11</td>\n",
              "      <td>1.890100e+10</td>\n",
              "      <td>95000000.0</td>\n",
              "      <td>9.240000e+08</td>\n",
              "      <td>2.190300e+10</td>\n",
              "      <td>1.320010e+11</td>\n",
              "      <td>5.731900e+10</td>\n",
              "      <td>1.404000e+09</td>\n",
              "      <td>1.542090e+11</td>\n",
              "      <td>3.200700e+10</td>\n",
              "      <td>5.564300e+10</td>\n",
              "      <td>-1.926270e+11</td>\n",
              "      <td>1.814400e+10</td>\n",
              "      <td>6.650000e+09</td>\n",
              "      <td>3.361900e+10</td>\n",
              "      <td>7.370000e+09</td>\n",
              "      <td>-2.323500e+10</td>\n",
              "      <td>8.916000e+09</td>\n",
              "      <td>2.953900e+10</td>\n",
              "      <td>1.823000e+09</td>\n",
              "      <td>-4.925300e+10</td>\n",
              "      <td>600000000.0</td>\n",
              "      <td>7.756000e+09</td>\n",
              "      <td>4.491700e+10</td>\n",
              "      <td>1.649000e+09</td>\n",
              "      <td>3.955000e+09</td>\n",
              "      <td>NaN</td>\n",
              "    </tr>\n",
              "    <tr>\n",
              "      <th>2020-12-31</th>\n",
              "      <td>1.379600e+10</td>\n",
              "      <td>1.352450e+11</td>\n",
              "      <td>2.059700e+10</td>\n",
              "      <td>129000000.0</td>\n",
              "      <td>2.449000e+09</td>\n",
              "      <td>1.692500e+10</td>\n",
              "      <td>1.559710e+11</td>\n",
              "      <td>5.655600e+10</td>\n",
              "      <td>2.655000e+09</td>\n",
              "      <td>1.627170e+11</td>\n",
              "      <td>3.744700e+10</td>\n",
              "      <td>5.961700e+10</td>\n",
              "      <td>-1.986760e+11</td>\n",
              "      <td>2.135500e+10</td>\n",
              "      <td>1.321200e+10</td>\n",
              "      <td>3.986900e+10</td>\n",
              "      <td>9.241000e+09</td>\n",
              "      <td>-2.933700e+10</td>\n",
              "      <td>1.472600e+10</td>\n",
              "      <td>3.916500e+10</td>\n",
              "      <td>2.260000e+08</td>\n",
              "      <td>-5.281600e+10</td>\n",
              "      <td>600000000.0</td>\n",
              "      <td>8.343000e+09</td>\n",
              "      <td>5.415600e+10</td>\n",
              "      <td>1.839000e+09</td>\n",
              "      <td>4.908000e+09</td>\n",
              "      <td>6.956000e+09</td>\n",
              "    </tr>\n",
              "    <tr>\n",
              "      <th>2019-12-31</th>\n",
              "      <td>1.523500e+10</td>\n",
              "      <td>1.312010e+11</td>\n",
              "      <td>2.084100e+10</td>\n",
              "      <td>144000000.0</td>\n",
              "      <td>2.472000e+09</td>\n",
              "      <td>1.525900e+10</td>\n",
              "      <td>1.521860e+11</td>\n",
              "      <td>5.589500e+10</td>\n",
              "      <td>2.212000e+09</td>\n",
              "      <td>1.629540e+11</td>\n",
              "      <td>3.551900e+10</td>\n",
              "      <td>5.822200e+10</td>\n",
              "      <td>-1.980080e+11</td>\n",
              "      <td>1.636900e+10</td>\n",
              "      <td>8.172000e+09</td>\n",
              "      <td>3.770100e+10</td>\n",
              "      <td>5.182000e+09</td>\n",
              "      <td>-2.859500e+10</td>\n",
              "      <td>1.500600e+10</td>\n",
              "      <td>3.842000e+10</td>\n",
              "      <td>2.220000e+08</td>\n",
              "      <td>-5.261600e+10</td>\n",
              "      <td>696000000.0</td>\n",
              "      <td>1.006900e+10</td>\n",
              "      <td>5.395100e+10</td>\n",
              "      <td>1.619000e+09</td>\n",
              "      <td>4.896000e+09</td>\n",
              "      <td>7.470000e+09</td>\n",
              "    </tr>\n",
              "    <tr>\n",
              "      <th>2018-12-31</th>\n",
              "      <td>3.087000e+09</td>\n",
              "      <td>1.064520e+11</td>\n",
              "      <td>1.679600e+10</td>\n",
              "      <td>134000000.0</td>\n",
              "      <td>2.676000e+09</td>\n",
              "      <td>1.465900e+10</td>\n",
              "      <td>1.233820e+11</td>\n",
              "      <td>5.515100e+10</td>\n",
              "      <td>2.911000e+09</td>\n",
              "      <td>1.592060e+11</td>\n",
              "      <td>3.262000e+10</td>\n",
              "      <td>3.626500e+10</td>\n",
              "      <td>-1.975610e+11</td>\n",
              "      <td>1.471800e+10</td>\n",
              "      <td>1.137900e+10</td>\n",
              "      <td>3.822700e+10</td>\n",
              "      <td>5.216000e+09</td>\n",
              "      <td>-2.949000e+10</td>\n",
              "      <td>1.079200e+10</td>\n",
              "      <td>4.914600e+10</td>\n",
              "      <td>2.260000e+08</td>\n",
              "      <td>-2.255600e+10</td>\n",
              "      <td>618000000.0</td>\n",
              "      <td>8.645000e+09</td>\n",
              "      <td>3.556700e+10</td>\n",
              "      <td>1.682000e+09</td>\n",
              "      <td>6.558000e+09</td>\n",
              "      <td>7.048000e+09</td>\n",
              "    </tr>\n",
              "  </tbody>\n",
              "</table>\n",
              "</div>\n",
              "      <button class=\"colab-df-convert\" onclick=\"convertToInteractive('df-c4d77e69-9eb4-4c8f-a396-c7655e400ee5')\"\n",
              "              title=\"Convert this dataframe to an interactive table.\"\n",
              "              style=\"display:none;\">\n",
              "        \n",
              "  <svg xmlns=\"http://www.w3.org/2000/svg\" height=\"24px\"viewBox=\"0 0 24 24\"\n",
              "       width=\"24px\">\n",
              "    <path d=\"M0 0h24v24H0V0z\" fill=\"none\"/>\n",
              "    <path d=\"M18.56 5.44l.94 2.06.94-2.06 2.06-.94-2.06-.94-.94-2.06-.94 2.06-2.06.94zm-11 1L8.5 8.5l.94-2.06 2.06-.94-2.06-.94L8.5 2.5l-.94 2.06-2.06.94zm10 10l.94 2.06.94-2.06 2.06-.94-2.06-.94-.94-2.06-.94 2.06-2.06.94z\"/><path d=\"M17.41 7.96l-1.37-1.37c-.4-.4-.92-.59-1.43-.59-.52 0-1.04.2-1.43.59L10.3 9.45l-7.72 7.72c-.78.78-.78 2.05 0 2.83L4 21.41c.39.39.9.59 1.41.59.51 0 1.02-.2 1.41-.59l7.78-7.78 2.81-2.81c.8-.78.8-2.07 0-2.86zM5.41 20L4 18.59l7.72-7.72 1.47 1.35L5.41 20z\"/>\n",
              "  </svg>\n",
              "      </button>\n",
              "      \n",
              "  <style>\n",
              "    .colab-df-container {\n",
              "      display:flex;\n",
              "      flex-wrap:wrap;\n",
              "      gap: 12px;\n",
              "    }\n",
              "\n",
              "    .colab-df-convert {\n",
              "      background-color: #E8F0FE;\n",
              "      border: none;\n",
              "      border-radius: 50%;\n",
              "      cursor: pointer;\n",
              "      display: none;\n",
              "      fill: #1967D2;\n",
              "      height: 32px;\n",
              "      padding: 0 0 0 0;\n",
              "      width: 32px;\n",
              "    }\n",
              "\n",
              "    .colab-df-convert:hover {\n",
              "      background-color: #E2EBFA;\n",
              "      box-shadow: 0px 1px 2px rgba(60, 64, 67, 0.3), 0px 1px 3px 1px rgba(60, 64, 67, 0.15);\n",
              "      fill: #174EA6;\n",
              "    }\n",
              "\n",
              "    [theme=dark] .colab-df-convert {\n",
              "      background-color: #3B4455;\n",
              "      fill: #D2E3FC;\n",
              "    }\n",
              "\n",
              "    [theme=dark] .colab-df-convert:hover {\n",
              "      background-color: #434B5C;\n",
              "      box-shadow: 0px 1px 3px 1px rgba(0, 0, 0, 0.15);\n",
              "      filter: drop-shadow(0px 1px 2px rgba(0, 0, 0, 0.3));\n",
              "      fill: #FFFFFF;\n",
              "    }\n",
              "  </style>\n",
              "\n",
              "      <script>\n",
              "        const buttonEl =\n",
              "          document.querySelector('#df-c4d77e69-9eb4-4c8f-a396-c7655e400ee5 button.colab-df-convert');\n",
              "        buttonEl.style.display =\n",
              "          google.colab.kernel.accessAllowed ? 'block' : 'none';\n",
              "\n",
              "        async function convertToInteractive(key) {\n",
              "          const element = document.querySelector('#df-c4d77e69-9eb4-4c8f-a396-c7655e400ee5');\n",
              "          const dataTable =\n",
              "            await google.colab.kernel.invokeFunction('convertToInteractive',\n",
              "                                                     [key], {});\n",
              "          if (!dataTable) return;\n",
              "\n",
              "          const docLinkHtml = 'Like what you see? Visit the ' +\n",
              "            '<a target=\"_blank\" href=https://colab.research.google.com/notebooks/data_table.ipynb>data table notebook</a>'\n",
              "            + ' to learn more about interactive tables.';\n",
              "          element.innerHTML = '';\n",
              "          dataTable['output_type'] = 'display_data';\n",
              "          await google.colab.output.renderOutput(dataTable, element);\n",
              "          const docLink = document.createElement('div');\n",
              "          docLink.innerHTML = docLinkHtml;\n",
              "          element.appendChild(docLink);\n",
              "        }\n",
              "      </script>\n",
              "    </div>\n",
              "  </div>\n",
              "  "
            ],
            "text/plain": [
              "Breakdown   intangibleAssets     totalLiab  ...  accountsPayable  shortLongTermDebt\n",
              "endDate                                     ...                                    \n",
              "2021-12-31      1.251100e+10  1.130050e+11  ...     3.955000e+09                NaN\n",
              "2020-12-31      1.379600e+10  1.352450e+11  ...     4.908000e+09       6.956000e+09\n",
              "2019-12-31      1.523500e+10  1.312010e+11  ...     4.896000e+09       7.470000e+09\n",
              "2018-12-31      3.087000e+09  1.064520e+11  ...     6.558000e+09       7.048000e+09\n",
              "\n",
              "[4 rows x 28 columns]"
            ]
          },
          "metadata": {},
          "execution_count": 20
        }
      ]
    },
    {
      "cell_type": "code",
      "source": [
        "income_statement = ra.IncomeSatement.transpose()\n",
        "income_statement"
      ],
      "metadata": {
        "colab": {
          "base_uri": "https://localhost:8080/",
          "height": 340
        },
        "id": "JqzLXITtd4O9",
        "outputId": "7119a7cf-9aea-4624-faf2-b456894861a4"
      },
      "execution_count": 38,
      "outputs": [
        {
          "output_type": "execute_result",
          "data": {
            "text/html": [
              "\n",
              "  <div id=\"df-790af379-81bf-4672-a6da-dcc419e9e5e6\">\n",
              "    <div class=\"colab-df-container\">\n",
              "      <div>\n",
              "<style scoped>\n",
              "    .dataframe tbody tr th:only-of-type {\n",
              "        vertical-align: middle;\n",
              "    }\n",
              "\n",
              "    .dataframe tbody tr th {\n",
              "        vertical-align: top;\n",
              "    }\n",
              "\n",
              "    .dataframe thead th {\n",
              "        text-align: right;\n",
              "    }\n",
              "</style>\n",
              "<table border=\"1\" class=\"dataframe\">\n",
              "  <thead>\n",
              "    <tr style=\"text-align: right;\">\n",
              "      <th>Breakdown</th>\n",
              "      <th>researchDevelopment</th>\n",
              "      <th>effectOfAccountingCharges</th>\n",
              "      <th>incomeBeforeTax</th>\n",
              "      <th>minorityInterest</th>\n",
              "      <th>netIncome</th>\n",
              "      <th>sellingGeneralAdministrative</th>\n",
              "      <th>grossProfit</th>\n",
              "      <th>ebit</th>\n",
              "      <th>operatingIncome</th>\n",
              "      <th>otherOperatingExpenses</th>\n",
              "      <th>interestExpense</th>\n",
              "      <th>extraordinaryItems</th>\n",
              "      <th>nonRecurring</th>\n",
              "      <th>otherItems</th>\n",
              "      <th>incomeTaxExpense</th>\n",
              "      <th>totalRevenue</th>\n",
              "      <th>totalOperatingExpenses</th>\n",
              "      <th>costOfRevenue</th>\n",
              "      <th>totalOtherIncomeExpenseNet</th>\n",
              "      <th>discontinuedOperations</th>\n",
              "      <th>netIncomeFromContinuingOps</th>\n",
              "      <th>netIncomeApplicableToCommonShares</th>\n",
              "    </tr>\n",
              "    <tr>\n",
              "      <th>endDate</th>\n",
              "      <th></th>\n",
              "      <th></th>\n",
              "      <th></th>\n",
              "      <th></th>\n",
              "      <th></th>\n",
              "      <th></th>\n",
              "      <th></th>\n",
              "      <th></th>\n",
              "      <th></th>\n",
              "      <th></th>\n",
              "      <th></th>\n",
              "      <th></th>\n",
              "      <th></th>\n",
              "      <th></th>\n",
              "      <th></th>\n",
              "      <th></th>\n",
              "      <th></th>\n",
              "      <th></th>\n",
              "      <th></th>\n",
              "      <th></th>\n",
              "      <th></th>\n",
              "      <th></th>\n",
              "    </tr>\n",
              "  </thead>\n",
              "  <tbody>\n",
              "    <tr>\n",
              "      <th>2021-12-31</th>\n",
              "      <td>6488000000</td>\n",
              "      <td>None</td>\n",
              "      <td>4837000000</td>\n",
              "      <td>95000000</td>\n",
              "      <td>5743000000</td>\n",
              "      <td>20027000000</td>\n",
              "      <td>31486000000</td>\n",
              "      <td>5583000000</td>\n",
              "      <td>5583000000</td>\n",
              "      <td>-612000000</td>\n",
              "      <td>-1155000000</td>\n",
              "      <td>None</td>\n",
              "      <td>None</td>\n",
              "      <td>None</td>\n",
              "      <td>124000000</td>\n",
              "      <td>57350000000</td>\n",
              "      <td>51767000000</td>\n",
              "      <td>25864000000</td>\n",
              "      <td>-746000000</td>\n",
              "      <td>1030000000</td>\n",
              "      <td>4713000000</td>\n",
              "      <td>5743000000</td>\n",
              "    </tr>\n",
              "    <tr>\n",
              "      <th>2020-12-31</th>\n",
              "      <td>6333000000</td>\n",
              "      <td>None</td>\n",
              "      <td>4637000000</td>\n",
              "      <td>129000000</td>\n",
              "      <td>5590000000</td>\n",
              "      <td>21242000000</td>\n",
              "      <td>35575000000</td>\n",
              "      <td>8584000000</td>\n",
              "      <td>8584000000</td>\n",
              "      <td>-584000000</td>\n",
              "      <td>-1288000000</td>\n",
              "      <td>None</td>\n",
              "      <td>None</td>\n",
              "      <td>None</td>\n",
              "      <td>-864000000</td>\n",
              "      <td>73621000000</td>\n",
              "      <td>65037000000</td>\n",
              "      <td>38046000000</td>\n",
              "      <td>-3947000000</td>\n",
              "      <td>89000000</td>\n",
              "      <td>5501000000</td>\n",
              "      <td>5590000000</td>\n",
              "    </tr>\n",
              "    <tr>\n",
              "      <th>2019-12-31</th>\n",
              "      <td>5936000000</td>\n",
              "      <td>None</td>\n",
              "      <td>10166000000</td>\n",
              "      <td>144000000</td>\n",
              "      <td>9431000000</td>\n",
              "      <td>20382000000</td>\n",
              "      <td>36489000000</td>\n",
              "      <td>10785000000</td>\n",
              "      <td>10785000000</td>\n",
              "      <td>-614000000</td>\n",
              "      <td>-1344000000</td>\n",
              "      <td>None</td>\n",
              "      <td>None</td>\n",
              "      <td>None</td>\n",
              "      <td>731000000</td>\n",
              "      <td>77147000000</td>\n",
              "      <td>66362000000</td>\n",
              "      <td>40658000000</td>\n",
              "      <td>-619000000</td>\n",
              "      <td>-4000000</td>\n",
              "      <td>9435000000</td>\n",
              "      <td>9431000000</td>\n",
              "    </tr>\n",
              "    <tr>\n",
              "      <th>2018-12-31</th>\n",
              "      <td>5379000000</td>\n",
              "      <td>None</td>\n",
              "      <td>11342000000</td>\n",
              "      <td>134000000</td>\n",
              "      <td>8728000000</td>\n",
              "      <td>19366000000</td>\n",
              "      <td>36937000000</td>\n",
              "      <td>13218000000</td>\n",
              "      <td>13218000000</td>\n",
              "      <td>-1026000000</td>\n",
              "      <td>-723000000</td>\n",
              "      <td>None</td>\n",
              "      <td>None</td>\n",
              "      <td>None</td>\n",
              "      <td>2619000000</td>\n",
              "      <td>79591000000</td>\n",
              "      <td>66373000000</td>\n",
              "      <td>42654000000</td>\n",
              "      <td>-1876000000</td>\n",
              "      <td>5000000</td>\n",
              "      <td>8723000000</td>\n",
              "      <td>8728000000</td>\n",
              "    </tr>\n",
              "  </tbody>\n",
              "</table>\n",
              "</div>\n",
              "      <button class=\"colab-df-convert\" onclick=\"convertToInteractive('df-790af379-81bf-4672-a6da-dcc419e9e5e6')\"\n",
              "              title=\"Convert this dataframe to an interactive table.\"\n",
              "              style=\"display:none;\">\n",
              "        \n",
              "  <svg xmlns=\"http://www.w3.org/2000/svg\" height=\"24px\"viewBox=\"0 0 24 24\"\n",
              "       width=\"24px\">\n",
              "    <path d=\"M0 0h24v24H0V0z\" fill=\"none\"/>\n",
              "    <path d=\"M18.56 5.44l.94 2.06.94-2.06 2.06-.94-2.06-.94-.94-2.06-.94 2.06-2.06.94zm-11 1L8.5 8.5l.94-2.06 2.06-.94-2.06-.94L8.5 2.5l-.94 2.06-2.06.94zm10 10l.94 2.06.94-2.06 2.06-.94-2.06-.94-.94-2.06-.94 2.06-2.06.94z\"/><path d=\"M17.41 7.96l-1.37-1.37c-.4-.4-.92-.59-1.43-.59-.52 0-1.04.2-1.43.59L10.3 9.45l-7.72 7.72c-.78.78-.78 2.05 0 2.83L4 21.41c.39.39.9.59 1.41.59.51 0 1.02-.2 1.41-.59l7.78-7.78 2.81-2.81c.8-.78.8-2.07 0-2.86zM5.41 20L4 18.59l7.72-7.72 1.47 1.35L5.41 20z\"/>\n",
              "  </svg>\n",
              "      </button>\n",
              "      \n",
              "  <style>\n",
              "    .colab-df-container {\n",
              "      display:flex;\n",
              "      flex-wrap:wrap;\n",
              "      gap: 12px;\n",
              "    }\n",
              "\n",
              "    .colab-df-convert {\n",
              "      background-color: #E8F0FE;\n",
              "      border: none;\n",
              "      border-radius: 50%;\n",
              "      cursor: pointer;\n",
              "      display: none;\n",
              "      fill: #1967D2;\n",
              "      height: 32px;\n",
              "      padding: 0 0 0 0;\n",
              "      width: 32px;\n",
              "    }\n",
              "\n",
              "    .colab-df-convert:hover {\n",
              "      background-color: #E2EBFA;\n",
              "      box-shadow: 0px 1px 2px rgba(60, 64, 67, 0.3), 0px 1px 3px 1px rgba(60, 64, 67, 0.15);\n",
              "      fill: #174EA6;\n",
              "    }\n",
              "\n",
              "    [theme=dark] .colab-df-convert {\n",
              "      background-color: #3B4455;\n",
              "      fill: #D2E3FC;\n",
              "    }\n",
              "\n",
              "    [theme=dark] .colab-df-convert:hover {\n",
              "      background-color: #434B5C;\n",
              "      box-shadow: 0px 1px 3px 1px rgba(0, 0, 0, 0.15);\n",
              "      filter: drop-shadow(0px 1px 2px rgba(0, 0, 0, 0.3));\n",
              "      fill: #FFFFFF;\n",
              "    }\n",
              "  </style>\n",
              "\n",
              "      <script>\n",
              "        const buttonEl =\n",
              "          document.querySelector('#df-790af379-81bf-4672-a6da-dcc419e9e5e6 button.colab-df-convert');\n",
              "        buttonEl.style.display =\n",
              "          google.colab.kernel.accessAllowed ? 'block' : 'none';\n",
              "\n",
              "        async function convertToInteractive(key) {\n",
              "          const element = document.querySelector('#df-790af379-81bf-4672-a6da-dcc419e9e5e6');\n",
              "          const dataTable =\n",
              "            await google.colab.kernel.invokeFunction('convertToInteractive',\n",
              "                                                     [key], {});\n",
              "          if (!dataTable) return;\n",
              "\n",
              "          const docLinkHtml = 'Like what you see? Visit the ' +\n",
              "            '<a target=\"_blank\" href=https://colab.research.google.com/notebooks/data_table.ipynb>data table notebook</a>'\n",
              "            + ' to learn more about interactive tables.';\n",
              "          element.innerHTML = '';\n",
              "          dataTable['output_type'] = 'display_data';\n",
              "          await google.colab.output.renderOutput(dataTable, element);\n",
              "          const docLink = document.createElement('div');\n",
              "          docLink.innerHTML = docLinkHtml;\n",
              "          element.appendChild(docLink);\n",
              "        }\n",
              "      </script>\n",
              "    </div>\n",
              "  </div>\n",
              "  "
            ],
            "text/plain": [
              "Breakdown  researchDevelopment  ... netIncomeApplicableToCommonShares\n",
              "endDate                         ...                                  \n",
              "2021-12-31          6488000000  ...                        5743000000\n",
              "2020-12-31          6333000000  ...                        5590000000\n",
              "2019-12-31          5936000000  ...                        9431000000\n",
              "2018-12-31          5379000000  ...                        8728000000\n",
              "\n",
              "[4 rows x 22 columns]"
            ]
          },
          "metadata": {},
          "execution_count": 38
        }
      ]
    },
    {
      "cell_type": "code",
      "source": [
        "search_result = ip.search_quotes(text='ibm', products=['stocks'],\n",
        "                                       countries=['united states'], n_results=1)\n",
        "print(search_result)"
      ],
      "metadata": {
        "colab": {
          "base_uri": "https://localhost:8080/"
        },
        "id": "gZ1FGKiLqH82",
        "outputId": "d92b6e1e-8ec5-4745-c013-82a1874a3f29"
      },
      "execution_count": 26,
      "outputs": [
        {
          "output_type": "stream",
          "name": "stdout",
          "text": [
            "{\"id_\": 8082, \"name\": \"International Business Machines\", \"symbol\": \"IBM\", \"country\": \"united states\", \"tag\": \"/equities/ibm\", \"pair_type\": \"stocks\", \"exchange\": \"NYSE\"}\n"
          ]
        }
      ]
    },
    {
      "cell_type": "markdown",
      "source": [
        "**X_1**"
      ],
      "metadata": {
        "id": "i6Z12o57Nnsr"
      }
    },
    {
      "cell_type": "code",
      "source": [
        "work_cap = np.subtract(balance_sheet.totalCurrentAssets, \n",
        "                       balance_sheet.totalCurrentLiabilities)\n",
        "x_1 = np.divide(work_cap, balance_sheet.totalAssets)\n",
        "X_1 = x_1.iloc[0,]\n",
        "X_1"
      ],
      "metadata": {
        "colab": {
          "base_uri": "https://localhost:8080/"
        },
        "id": "EqcO5sa8JDM5",
        "outputId": "e67abcd4-6e6c-4992-89f5-109d40eaa786"
      },
      "execution_count": 69,
      "outputs": [
        {
          "output_type": "execute_result",
          "data": {
            "text/plain": [
              "-0.03090885675108522"
            ]
          },
          "metadata": {},
          "execution_count": 69
        }
      ]
    },
    {
      "cell_type": "markdown",
      "source": [
        "**X_2**"
      ],
      "metadata": {
        "id": "Xj5WwG-WPEfG"
      }
    },
    {
      "cell_type": "code",
      "source": [
        "X_2 =  np.divide(balance_sheet.retainedEarnings, \n",
        "                 balance_sheet.totalAssets)\n",
        "X_2 = X_2.iloc[0,]\n",
        "X_2"
      ],
      "metadata": {
        "colab": {
          "base_uri": "https://localhost:8080/"
        },
        "id": "580JoJ_-NvQV",
        "outputId": "12381594-1f08-4ced-8b84-d8b6459c52ed"
      },
      "execution_count": 70,
      "outputs": [
        {
          "output_type": "execute_result",
          "data": {
            "text/plain": [
              "1.1682411496882599"
            ]
          },
          "metadata": {},
          "execution_count": 70
        }
      ]
    },
    {
      "cell_type": "markdown",
      "source": [
        "**X_3**"
      ],
      "metadata": {
        "id": "me4bsCSjWzlY"
      }
    },
    {
      "cell_type": "code",
      "source": [
        "X_3 = np.divide(income_statement.ebit,\n",
        "                balance_sheet.totalAssets)\n",
        "X_3.sort_values(axis=0, ascending=True, inplace=True)\n",
        "X_3 = X_3.iloc[0,]\n",
        "X_3"
      ],
      "metadata": {
        "colab": {
          "base_uri": "https://localhost:8080/"
        },
        "id": "M-b1sMbwPQ_R",
        "outputId": "1cb193f3-fcb9-4c16-c347-df566a8edcb4"
      },
      "execution_count": 71,
      "outputs": [
        {
          "output_type": "execute_result",
          "data": {
            "text/plain": [
              "0.04229513412777176"
            ]
          },
          "metadata": {},
          "execution_count": 71
        }
      ]
    },
    {
      "cell_type": "markdown",
      "source": [
        "**X_4**\n"
      ],
      "metadata": {
        "id": "loWPgntoeKQ2"
      }
    },
    {
      "cell_type": "code",
      "source": [
        "information = search_result.retrieve_information()\n",
        "information = pd.DataFrame.from_dict(information, orient='index')\n",
        "market_cap = information.loc['marketCap',]\n",
        "market_cap = market_cap.astype(float)\n",
        "market_cap"
      ],
      "metadata": {
        "colab": {
          "base_uri": "https://localhost:8080/"
        },
        "id": "RGUufcP8rRhc",
        "outputId": "99d1079f-109a-4baf-c899-c410621e7096"
      },
      "execution_count": 78,
      "outputs": [
        {
          "output_type": "execute_result",
          "data": {
            "text/plain": [
              "0    1.205700e+11\n",
              "Name: marketCap, dtype: float64"
            ]
          },
          "metadata": {},
          "execution_count": 78
        }
      ]
    },
    {
      "cell_type": "code",
      "source": [
        " X_4 = np.divide(market_cap, balance_sheet.totalLiab.iloc[0,])\n",
        " X_4"
      ],
      "metadata": {
        "colab": {
          "base_uri": "https://localhost:8080/"
        },
        "id": "MjeGDfuiSq26",
        "outputId": "7a0f97fc-7ee1-4543-a08f-e0c54f7587f3"
      },
      "execution_count": 79,
      "outputs": [
        {
          "output_type": "execute_result",
          "data": {
            "text/plain": [
              "0    1.066944\n",
              "Name: marketCap, dtype: float64"
            ]
          },
          "metadata": {},
          "execution_count": 79
        }
      ]
    },
    {
      "cell_type": "markdown",
      "source": [
        "#**X_5**\n"
      ],
      "metadata": {
        "id": "nFN-Ka-8qHEX"
      }
    },
    {
      "cell_type": "code",
      "source": [
        "X_5 = np.divide(income_statement.totalRevenue, balance_sheet.totalAssets)\n",
        "X_5.sort_values(axis=0, ascending=True, inplace=True)\n",
        "X_5 = X_5.iloc[0,]\n",
        "X_5"
      ],
      "metadata": {
        "colab": {
          "base_uri": "https://localhost:8080/"
        },
        "id": "Q4RbfBzCqK-U",
        "outputId": "e3bebd7d-2037-4cd2-dedd-5a89df204043"
      },
      "execution_count": 82,
      "outputs": [
        {
          "output_type": "execute_result",
          "data": {
            "text/plain": [
              "0.43446640555753363"
            ]
          },
          "metadata": {},
          "execution_count": 82
        }
      ]
    },
    {
      "cell_type": "markdown",
      "source": [
        "# **Z_Score**"
      ],
      "metadata": {
        "id": "DK7ufbuY0JaX"
      }
    },
    {
      "cell_type": "code",
      "source": [
        "Z_score = 1.2*X_1 + 1.4*X_2 + 3.3*X_3 + .6*X_4 + .99*X_5\n",
        "Z_score"
      ],
      "metadata": {
        "colab": {
          "base_uri": "https://localhost:8080/"
        },
        "id": "nLWTYkLJ0bHm",
        "outputId": "de136088-aeba-4d0c-c7d2-5d5669102097"
      },
      "execution_count": 87,
      "outputs": [
        {
          "output_type": "execute_result",
          "data": {
            "text/plain": [
              "0    2.808309\n",
              "Name: marketCap, dtype: float64"
            ]
          },
          "metadata": {},
          "execution_count": 87
        }
      ]
    }
  ]
}