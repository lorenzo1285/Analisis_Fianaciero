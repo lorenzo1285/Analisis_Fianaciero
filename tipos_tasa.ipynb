{
  "nbformat": 4,
  "nbformat_minor": 0,
  "metadata": {
    "colab": {
      "name": "tipos_tasa.ipynb",
      "provenance": [],
      "authorship_tag": "ABX9TyO/SauMyVBZH96d38AQ017f",
      "include_colab_link": true
    },
    "kernelspec": {
      "name": "python3",
      "display_name": "Python 3"
    },
    "language_info": {
      "name": "python"
    }
  },
  "cells": [
    {
      "cell_type": "markdown",
      "metadata": {
        "id": "view-in-github",
        "colab_type": "text"
      },
      "source": [
        "<a href=\"https://colab.research.google.com/github/lorenzo1285/Analisis_Fianaciero/blob/main/tipos_tasa.ipynb\" target=\"_parent\"><img src=\"https://colab.research.google.com/assets/colab-badge.svg\" alt=\"Open In Colab\"/></a>"
      ]
    },
    {
      "cell_type": "code",
      "execution_count": null,
      "metadata": {
        "id": "1yZlH9ef8hac"
      },
      "outputs": [],
      "source": [
        "pip install numpy-financial"
      ]
    },
    {
      "cell_type": "code",
      "source": [
        "import numpy as np\n",
        "import numpy_financial as npf\n",
        "import matplotlib.pyplot as plt\n",
        "import pandas as pd\n",
        "import seaborn as sns\n",
        "%matplotlib inline\n",
        "sns.set_style(\"whitegrid\")"
      ],
      "metadata": {
        "id": "cRelmANNABqG"
      },
      "execution_count": null,
      "outputs": []
    },
    {
      "cell_type": "markdown",
      "source": [
        "Resolver lo siguiente: \n",
        "\n",
        "¿Cuál es la tasa nominal capitalizable mensual con la que un capital inicial de 175,000   crecerá hasta $250,000 en 2 años?\n"
      ],
      "metadata": {
        "id": "ZcfyyOM5AKFB"
      }
    },
    {
      "cell_type": "code",
      "source": [
        "C = 175000 # Valor presente \n",
        "M = 250000 # Valor Futuro\n",
        "t = 2*12 # Numero de periodos"
      ],
      "metadata": {
        "id": "5h35dcPqAI82"
      },
      "execution_count": null,
      "outputs": []
    },
    {
      "cell_type": "code",
      "source": [
        "interes = round(npf.rate(nper=t, pmt=0, pv=-C, fv=M, when='end'), 5)\n",
        "print('Interes mensual capitalisable de:')\n",
        "print(interes)\n",
        "print('Interes Anual:')\n",
        "print(round(interes*12,5)) "
      ],
      "metadata": {
        "colab": {
          "base_uri": "https://localhost:8080/"
        },
        "id": "6CA6YdydArhk",
        "outputId": "43a3d5a2-fcd9-4e55-d2ca-19d7c8683704"
      },
      "execution_count": null,
      "outputs": [
        {
          "output_type": "stream",
          "name": "stdout",
          "text": [
            "Interes mensual capitalisable de:\n",
            "0.01497\n",
            "Interes Anual:\n",
            "0.17964\n"
          ]
        }
      ]
    },
    {
      "cell_type": "markdown",
      "source": [
        "Si la inflación anual fue 4.99% y una inversión pagó por el mismo plazo una tasa de 2.40% anual capitalizable cada mes, ¿cuál fue la tasa real obtenida en el año?"
      ],
      "metadata": {
        "id": "psqHiw1jDfat"
      }
    },
    {
      "cell_type": "code",
      "source": [
        "#Datos\n",
        "inflación= .0499\n",
        "tasa_nominal = .024\n",
        "t = 12"
      ],
      "metadata": {
        "id": "cRsozD3JmTyZ"
      },
      "execution_count": null,
      "outputs": []
    },
    {
      "cell_type": "code",
      "source": [
        "# Tasa Efectiva \n",
        "def tasa_efectiva(i,n):\n",
        "  \n",
        "  # i = tasa de interes anual\n",
        "  # n = numero de periodos\n",
        "  \n",
        "  tasaf = ((1+ i/n)**n)-1\n",
        "  return round(tasaf, 5)"
      ],
      "metadata": {
        "id": "zCG-8e74DVHV"
      },
      "execution_count": null,
      "outputs": []
    },
    {
      "cell_type": "code",
      "source": [
        "# Tasa Real\n",
        "def tasa_real(f,inf):\n",
        "\n",
        "  # f = tasa efectiva\n",
        "  # inf = inflación\n",
        "\n",
        "  tasa = (f - inf) / (1 + inf)\n",
        "  return round(tasa, 5)"
      ],
      "metadata": {
        "id": "7gFPrdVtN5mU"
      },
      "execution_count": null,
      "outputs": []
    },
    {
      "cell_type": "code",
      "source": [
        "tasaf = tasa_efectiva(tasa_nominal, t)\n",
        "tasaf # Tasa efectiva"
      ],
      "metadata": {
        "colab": {
          "base_uri": "https://localhost:8080/"
        },
        "id": "9xLlTu7BMdq0",
        "outputId": "47d37d16-6952-4e15-f6bb-f65a1b1c2814"
      },
      "execution_count": null,
      "outputs": [
        {
          "output_type": "execute_result",
          "data": {
            "text/plain": [
              "0.02427"
            ]
          },
          "metadata": {},
          "execution_count": 44
        }
      ]
    },
    {
      "cell_type": "code",
      "source": [
        "tasareal = tasa_real(tasaf, inflación)\n",
        "tasareal # Tasa real "
      ],
      "metadata": {
        "colab": {
          "base_uri": "https://localhost:8080/"
        },
        "id": "JBj-rmyyOxd6",
        "outputId": "d1e7451b-9b95-4003-c12d-64e527781300"
      },
      "execution_count": null,
      "outputs": [
        {
          "output_type": "execute_result",
          "data": {
            "text/plain": [
              "-0.02441"
            ]
          },
          "metadata": {},
          "execution_count": 45
        }
      ]
    },
    {
      "cell_type": "markdown",
      "source": [
        "¿Cuál es la tasa nominal capitalizable bimestral con la que un capital inicial de $200,000 crecerá hasta 600,000 en 3 años?"
      ],
      "metadata": {
        "id": "Xf2U7zsNP-Po"
      }
    },
    {
      "cell_type": "code",
      "source": [
        "C_2 = 200000\n",
        "M_2 = 600000\n",
        "t_2 = 3*6"
      ],
      "metadata": {
        "id": "E8dBhOGGQTjm"
      },
      "execution_count": null,
      "outputs": []
    },
    {
      "cell_type": "code",
      "source": [
        "interes_2 = round(npf.rate(nper=t_2, pmt=0, pv=-C_2, fv=M_2, when='end'), 5)\n",
        "print('Interes bimestral capitalisable de:')\n",
        "print(interes_2)\n",
        "print('Interes Anual:')\n",
        "print(round(interes_2*6,5)) "
      ],
      "metadata": {
        "colab": {
          "base_uri": "https://localhost:8080/"
        },
        "id": "L4yOK-ouQxOd",
        "outputId": "6173d638-008d-4828-d62f-b1cef2e9c363"
      },
      "execution_count": null,
      "outputs": [
        {
          "output_type": "stream",
          "name": "stdout",
          "text": [
            "Interes bimestral capitalisable de:\n",
            "0.06294\n",
            "Interes Anual:\n",
            "0.37764\n"
          ]
        }
      ]
    },
    {
      "cell_type": "markdown",
      "source": [
        "\n",
        "Cristina solicita un préstamo por 6,000,000 para la compra de una impresora. Acuerda pagar $210,000 de intereses al cabo de 36 días. ¿Qué tasa efectiva por periodo paga por el préstamo?\n"
      ],
      "metadata": {
        "id": "JO3TnDFUR5f_"
      }
    },
    {
      "cell_type": "code",
      "source": [
        "C_3 = 6000000\n",
        "intereses = 210000 \n",
        "t_3 = 365/36"
      ],
      "metadata": {
        "id": "N4QnxrIjR8uh"
      },
      "execution_count": null,
      "outputs": []
    },
    {
      "cell_type": "code",
      "source": [
        "tasa = (intereses/C_3)\n",
        "round(tasa,5)"
      ],
      "metadata": {
        "colab": {
          "base_uri": "https://localhost:8080/"
        },
        "id": "CMpHZHoMTI6K",
        "outputId": "d8019418-ce13-4d2b-a83a-800896ff20ab"
      },
      "execution_count": null,
      "outputs": [
        {
          "output_type": "execute_result",
          "data": {
            "text/plain": [
              "0.035"
            ]
          },
          "metadata": {},
          "execution_count": 55
        }
      ]
    },
    {
      "cell_type": "code",
      "source": [
        "tasa_f = tasa_efectiva(tasa, t_3)\n",
        "round(tasa_f, 5)"
      ],
      "metadata": {
        "colab": {
          "base_uri": "https://localhost:8080/"
        },
        "id": "sCFcPkUtHXPr",
        "outputId": "8ef26fba-eaea-48eb-f3d7-1ccf4bb008c7"
      },
      "execution_count": null,
      "outputs": [
        {
          "output_type": "execute_result",
          "data": {
            "text/plain": [
              "0.03556"
            ]
          },
          "metadata": {},
          "execution_count": 56
        }
      ]
    }
  ]
}