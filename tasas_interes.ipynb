{
  "nbformat": 4,
  "nbformat_minor": 0,
  "metadata": {
    "colab": {
      "name": "tasas_interes.ipynb",
      "provenance": [],
      "authorship_tag": "ABX9TyNW1BzGjMsIvHCu6F+tcmK5",
      "include_colab_link": true
    },
    "kernelspec": {
      "name": "python3",
      "display_name": "Python 3"
    },
    "language_info": {
      "name": "python"
    }
  },
  "cells": [
    {
      "cell_type": "markdown",
      "metadata": {
        "id": "view-in-github",
        "colab_type": "text"
      },
      "source": [
        "<a href=\"https://colab.research.google.com/github/lorenzo1285/Analisis_Fianaciero/blob/main/tasas_interes.ipynb\" target=\"_parent\"><img src=\"https://colab.research.google.com/assets/colab-badge.svg\" alt=\"Open In Colab\"/></a>"
      ]
    },
    {
      "cell_type": "code",
      "source": [
        "pip install numpy-financial"
      ],
      "metadata": {
        "id": "J8Kk3fHsJKS0"
      },
      "execution_count": null,
      "outputs": []
    },
    {
      "cell_type": "code",
      "execution_count": 2,
      "metadata": {
        "id": "jmPyIeqmDDty"
      },
      "outputs": [],
      "source": [
        "import numpy as np\n",
        "import numpy_financial as npf\n",
        "import matplotlib.pyplot as plt\n",
        "import pandas as pd\n",
        "%matplotlib inline "
      ]
    },
    {
      "cell_type": "markdown",
      "source": [
        "a) El señor Martínez solicitó un préstamo al banco por $18,500.00 a 9% anual durante un año. \n",
        "Calcular el interés simple a pagar. (Usar Interés Simple)\n"
      ],
      "metadata": {
        "id": "L_pPC8joINFP"
      }
    },
    {
      "cell_type": "code",
      "source": [
        "c = 18500 # Capital \n",
        "i = .09 # Tasa de Interes anual \n",
        "n = 1 # Numero de Periodos "
      ],
      "metadata": {
        "id": "9DtTkYOCIO-M"
      },
      "execution_count": 3,
      "outputs": []
    },
    {
      "cell_type": "code",
      "source": [
        "I = c*i*n\n",
        "I"
      ],
      "metadata": {
        "colab": {
          "base_uri": "https://localhost:8080/"
        },
        "id": "RiKSNcj8JhR_",
        "outputId": "4f836c3b-83e5-4a7e-878b-a14162de6420"
      },
      "execution_count": 4,
      "outputs": [
        {
          "output_type": "execute_result",
          "data": {
            "text/plain": [
              "1665.0"
            ]
          },
          "metadata": {},
          "execution_count": 4
        }
      ]
    },
    {
      "cell_type": "markdown",
      "source": [
        "b) ¿Qué cantidad se tiene que depositar hoy en un fondo de inversión que paga 8.4% capitalizable mensualmente para tener $8,000.00 dentro de cuatro años? (Usar Interés Compuesto)"
      ],
      "metadata": {
        "id": "s6iNnqsZLnqj"
      }
    },
    {
      "cell_type": "code",
      "source": [
        "c_1 = -8000 # Capital\n",
        "i_1 = .084/12 # Tasa Interes Capitalizable Mensualmente \n",
        "n_1 = 4 # Numero de Depositos "
      ],
      "metadata": {
        "id": "Gy-zVa1NL23E"
      },
      "execution_count": 19,
      "outputs": []
    },
    {
      "cell_type": "code",
      "source": [
        "deposito = npf.pmt(rate= i_1, nper= n_1, pv=0, fv=c_1, when='end')\n",
        "deposito.round(5)"
      ],
      "metadata": {
        "colab": {
          "base_uri": "https://localhost:8080/"
        },
        "id": "mFakgvYkPqe5",
        "outputId": "cc2db87a-8372-4b12-d82c-1f755ef87d6f"
      },
      "execution_count": 12,
      "outputs": [
        {
          "output_type": "execute_result",
          "data": {
            "text/plain": [
              "1979.12207"
            ]
          },
          "metadata": {},
          "execution_count": 12
        }
      ]
    },
    {
      "cell_type": "code",
      "source": [
        "PV = npf.pv(fv=c_1, rate=i_1, nper=n_1, pmt=0)\n",
        "PV.round(5)"
      ],
      "metadata": {
        "colab": {
          "base_uri": "https://localhost:8080/"
        },
        "id": "4kMURYVdJI7Z",
        "outputId": "7589ed7e-9793-482b-a088-a16ea0b47fa6"
      },
      "execution_count": 20,
      "outputs": [
        {
          "output_type": "execute_result",
          "data": {
            "text/plain": [
              "7779.86578"
            ]
          },
          "metadata": {},
          "execution_count": 20
        }
      ]
    }
  ]
}