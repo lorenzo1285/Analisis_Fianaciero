{
  "nbformat": 4,
  "nbformat_minor": 0,
  "metadata": {
    "colab": {
      "name": "Analisis_Fin.ipynb",
      "provenance": [],
      "authorship_tag": "ABX9TyPcGyNfjuWDFZSYOHdIfyth",
      "include_colab_link": true
    },
    "kernelspec": {
      "name": "python3",
      "display_name": "Python 3"
    },
    "language_info": {
      "name": "python"
    }
  },
  "cells": [
    {
      "cell_type": "markdown",
      "metadata": {
        "id": "view-in-github",
        "colab_type": "text"
      },
      "source": [
        "<a href=\"https://colab.research.google.com/github/lorenzo1285/Analisis_Fianaciero/blob/main/Analisis_Fin.ipynb\" target=\"_parent\"><img src=\"https://colab.research.google.com/assets/colab-badge.svg\" alt=\"Open In Colab\"/></a>"
      ]
    },
    {
      "cell_type": "code",
      "metadata": {
        "colab": {
          "base_uri": "https://localhost:8080/"
        },
        "id": "DWXkhjjYXz4X",
        "outputId": "5546e319-e749-4add-bf33-e3239cac0fea"
      },
      "source": [
        "pip install yahoo-fin"
      ],
      "execution_count": 2,
      "outputs": [
        {
          "output_type": "stream",
          "name": "stdout",
          "text": [
            "Collecting yahoo-fin\n",
            "  Downloading yahoo_fin-0.8.9.1-py3-none-any.whl (10 kB)\n",
            "Collecting feedparser\n",
            "  Downloading feedparser-6.0.8-py3-none-any.whl (81 kB)\n",
            "\u001b[K     |████████████████████████████████| 81 kB 5.0 MB/s \n",
            "\u001b[?25hCollecting requests-html\n",
            "  Downloading requests_html-0.10.0-py3-none-any.whl (13 kB)\n",
            "Requirement already satisfied: requests in /usr/local/lib/python3.7/dist-packages (from yahoo-fin) (2.23.0)\n",
            "Requirement already satisfied: pandas in /usr/local/lib/python3.7/dist-packages (from yahoo-fin) (1.1.5)\n",
            "Collecting sgmllib3k\n",
            "  Downloading sgmllib3k-1.0.0.tar.gz (5.8 kB)\n",
            "Requirement already satisfied: python-dateutil>=2.7.3 in /usr/local/lib/python3.7/dist-packages (from pandas->yahoo-fin) (2.8.2)\n",
            "Requirement already satisfied: pytz>=2017.2 in /usr/local/lib/python3.7/dist-packages (from pandas->yahoo-fin) (2018.9)\n",
            "Requirement already satisfied: numpy>=1.15.4 in /usr/local/lib/python3.7/dist-packages (from pandas->yahoo-fin) (1.19.5)\n",
            "Requirement already satisfied: six>=1.5 in /usr/local/lib/python3.7/dist-packages (from python-dateutil>=2.7.3->pandas->yahoo-fin) (1.15.0)\n",
            "Requirement already satisfied: urllib3!=1.25.0,!=1.25.1,<1.26,>=1.21.1 in /usr/local/lib/python3.7/dist-packages (from requests->yahoo-fin) (1.24.3)\n",
            "Requirement already satisfied: idna<3,>=2.5 in /usr/local/lib/python3.7/dist-packages (from requests->yahoo-fin) (2.10)\n",
            "Requirement already satisfied: certifi>=2017.4.17 in /usr/local/lib/python3.7/dist-packages (from requests->yahoo-fin) (2021.5.30)\n",
            "Requirement already satisfied: chardet<4,>=3.0.2 in /usr/local/lib/python3.7/dist-packages (from requests->yahoo-fin) (3.0.4)\n",
            "Requirement already satisfied: bs4 in /usr/local/lib/python3.7/dist-packages (from requests-html->yahoo-fin) (0.0.1)\n",
            "Collecting w3lib\n",
            "  Downloading w3lib-1.22.0-py2.py3-none-any.whl (20 kB)\n",
            "Collecting pyppeteer>=0.0.14\n",
            "  Downloading pyppeteer-0.2.6-py3-none-any.whl (83 kB)\n",
            "\u001b[K     |████████████████████████████████| 83 kB 3.0 MB/s \n",
            "\u001b[?25hCollecting pyquery\n",
            "  Downloading pyquery-1.4.3-py3-none-any.whl (22 kB)\n",
            "Collecting parse\n",
            "  Downloading parse-1.19.0.tar.gz (30 kB)\n",
            "Collecting fake-useragent\n",
            "  Downloading fake-useragent-0.1.11.tar.gz (13 kB)\n",
            "Requirement already satisfied: importlib-metadata>=1.4 in /usr/local/lib/python3.7/dist-packages (from pyppeteer>=0.0.14->requests-html->yahoo-fin) (4.6.4)\n",
            "Collecting pyee<9.0.0,>=8.1.0\n",
            "  Downloading pyee-8.2.2-py2.py3-none-any.whl (12 kB)\n",
            "Collecting websockets<10.0,>=9.1\n",
            "  Downloading websockets-9.1-cp37-cp37m-manylinux2010_x86_64.whl (103 kB)\n",
            "\u001b[K     |████████████████████████████████| 103 kB 42.0 MB/s \n",
            "\u001b[?25hRequirement already satisfied: tqdm<5.0.0,>=4.42.1 in /usr/local/lib/python3.7/dist-packages (from pyppeteer>=0.0.14->requests-html->yahoo-fin) (4.62.0)\n",
            "Collecting urllib3!=1.25.0,!=1.25.1,<1.26,>=1.21.1\n",
            "  Downloading urllib3-1.25.11-py2.py3-none-any.whl (127 kB)\n",
            "\u001b[K     |████████████████████████████████| 127 kB 42.4 MB/s \n",
            "\u001b[?25hRequirement already satisfied: appdirs<2.0.0,>=1.4.3 in /usr/local/lib/python3.7/dist-packages (from pyppeteer>=0.0.14->requests-html->yahoo-fin) (1.4.4)\n",
            "Requirement already satisfied: zipp>=0.5 in /usr/local/lib/python3.7/dist-packages (from importlib-metadata>=1.4->pyppeteer>=0.0.14->requests-html->yahoo-fin) (3.5.0)\n",
            "Requirement already satisfied: typing-extensions>=3.6.4 in /usr/local/lib/python3.7/dist-packages (from importlib-metadata>=1.4->pyppeteer>=0.0.14->requests-html->yahoo-fin) (3.7.4.3)\n",
            "Requirement already satisfied: beautifulsoup4 in /usr/local/lib/python3.7/dist-packages (from bs4->requests-html->yahoo-fin) (4.6.3)\n",
            "Requirement already satisfied: lxml>=2.1 in /usr/local/lib/python3.7/dist-packages (from pyquery->requests-html->yahoo-fin) (4.2.6)\n",
            "Collecting cssselect>0.7.9\n",
            "  Downloading cssselect-1.1.0-py2.py3-none-any.whl (16 kB)\n",
            "Building wheels for collected packages: fake-useragent, parse, sgmllib3k\n",
            "  Building wheel for fake-useragent (setup.py) ... \u001b[?25l\u001b[?25hdone\n",
            "  Created wheel for fake-useragent: filename=fake_useragent-0.1.11-py3-none-any.whl size=13502 sha256=d2f2402ec72aef9f5e8efba3f2f1887f787f59b4ce3da2eec9761ae5c83c5f18\n",
            "  Stored in directory: /root/.cache/pip/wheels/ed/f7/62/50ab6c9a0b5567267ab76a9daa9d06315704209b2c5d032031\n",
            "  Building wheel for parse (setup.py) ... \u001b[?25l\u001b[?25hdone\n",
            "  Created wheel for parse: filename=parse-1.19.0-py3-none-any.whl size=24591 sha256=42f4fa054792e0656713faca981de3131096889df753db3f67739e14c3127990\n",
            "  Stored in directory: /root/.cache/pip/wheels/9c/aa/cc/f2228050ccb40f22144b073f15a2c84f11204f29fc0dce028e\n",
            "  Building wheel for sgmllib3k (setup.py) ... \u001b[?25l\u001b[?25hdone\n",
            "  Created wheel for sgmllib3k: filename=sgmllib3k-1.0.0-py3-none-any.whl size=6065 sha256=4ca46b27a9413d4cb8d272fd63225650f0ae203e4a3e958517709d4fc512f83c\n",
            "  Stored in directory: /root/.cache/pip/wheels/73/ad/a4/0dff4a6ef231fc0dfa12ffbac2a36cebfdddfe059f50e019aa\n",
            "Successfully built fake-useragent parse sgmllib3k\n",
            "Installing collected packages: websockets, urllib3, pyee, cssselect, w3lib, sgmllib3k, pyquery, pyppeteer, parse, fake-useragent, requests-html, feedparser, yahoo-fin\n",
            "  Attempting uninstall: urllib3\n",
            "    Found existing installation: urllib3 1.24.3\n",
            "    Uninstalling urllib3-1.24.3:\n",
            "      Successfully uninstalled urllib3-1.24.3\n",
            "\u001b[31mERROR: pip's dependency resolver does not currently take into account all the packages that are installed. This behaviour is the source of the following dependency conflicts.\n",
            "datascience 0.10.6 requires folium==0.2.1, but you have folium 0.8.3 which is incompatible.\u001b[0m\n",
            "Successfully installed cssselect-1.1.0 fake-useragent-0.1.11 feedparser-6.0.8 parse-1.19.0 pyee-8.2.2 pyppeteer-0.2.6 pyquery-1.4.3 requests-html-0.10.0 sgmllib3k-1.0.0 urllib3-1.25.11 w3lib-1.22.0 websockets-9.1 yahoo-fin-0.8.9.1\n"
          ]
        }
      ]
    },
    {
      "cell_type": "code",
      "metadata": {
        "id": "qPG8_SqoX3vB"
      },
      "source": [
        "import yahoo_fin.stock_info as yf\n",
        "import pandas as pd\n",
        "import matplotlib.pylab as plt\n",
        "import seaborn as sns\n",
        "%matplotlib inline\n",
        "sns.set_style(\"whitegrid\")"
      ],
      "execution_count": 3,
      "outputs": []
    },
    {
      "cell_type": "code",
      "metadata": {
        "id": "F0vzV3L7YBH7"
      },
      "source": [
        "KOF = yf.get_balance_sheet('KOF')\n",
        "IBM = yf.get_balance_sheet('IBM')\n",
        "AAPL = yf.get_balance_sheet('AAPL')\n",
        "GOOG = yf.get_balance_sheet('GOOG')"
      ],
      "execution_count": 4,
      "outputs": []
    },
    {
      "cell_type": "code",
      "metadata": {
        "id": "XMcVedNTqnKY"
      },
      "source": [
        "KOF_IS = yf.get_income_statement('KOF')\n",
        "IBM_IS =  yf.get_income_statement('IBM')\n",
        "AAPL_IS =  yf.get_income_statement('AAPL')\n",
        "GOOG_IS =  yf.get_income_statement('GOOG')"
      ],
      "execution_count": 5,
      "outputs": []
    },
    {
      "cell_type": "code",
      "metadata": {
        "colab": {
          "base_uri": "https://localhost:8080/",
          "height": 948
        },
        "id": "I7wXEwvZlJ1v",
        "outputId": "cf4d43d0-90b8-45d4-ca56-7c3aeaaf912b"
      },
      "source": [
        "IBM"
      ],
      "execution_count": null,
      "outputs": [
        {
          "output_type": "execute_result",
          "data": {
            "text/html": [
              "<div>\n",
              "<style scoped>\n",
              "    .dataframe tbody tr th:only-of-type {\n",
              "        vertical-align: middle;\n",
              "    }\n",
              "\n",
              "    .dataframe tbody tr th {\n",
              "        vertical-align: top;\n",
              "    }\n",
              "\n",
              "    .dataframe thead th {\n",
              "        text-align: right;\n",
              "    }\n",
              "</style>\n",
              "<table border=\"1\" class=\"dataframe\">\n",
              "  <thead>\n",
              "    <tr style=\"text-align: right;\">\n",
              "      <th>endDate</th>\n",
              "      <th>2020-12-31</th>\n",
              "      <th>2019-12-31</th>\n",
              "      <th>2018-12-31</th>\n",
              "      <th>2017-12-31</th>\n",
              "    </tr>\n",
              "    <tr>\n",
              "      <th>Breakdown</th>\n",
              "      <th></th>\n",
              "      <th></th>\n",
              "      <th></th>\n",
              "      <th></th>\n",
              "    </tr>\n",
              "  </thead>\n",
              "  <tbody>\n",
              "    <tr>\n",
              "      <th>intangibleAssets</th>\n",
              "      <td>13796000000</td>\n",
              "      <td>15235000000</td>\n",
              "      <td>3087000000</td>\n",
              "      <td>3742000000</td>\n",
              "    </tr>\n",
              "    <tr>\n",
              "      <th>totalLiab</th>\n",
              "      <td>135245000000</td>\n",
              "      <td>131201000000</td>\n",
              "      <td>106452000000</td>\n",
              "      <td>107631000000</td>\n",
              "    </tr>\n",
              "    <tr>\n",
              "      <th>totalStockholderEquity</th>\n",
              "      <td>20597000000</td>\n",
              "      <td>20841000000</td>\n",
              "      <td>16796000000</td>\n",
              "      <td>17594000000</td>\n",
              "    </tr>\n",
              "    <tr>\n",
              "      <th>minorityInterest</th>\n",
              "      <td>129000000</td>\n",
              "      <td>144000000</td>\n",
              "      <td>134000000</td>\n",
              "      <td>131000000</td>\n",
              "    </tr>\n",
              "    <tr>\n",
              "      <th>deferredLongTermLiab</th>\n",
              "      <td>2449000000</td>\n",
              "      <td>2472000000</td>\n",
              "      <td>2676000000</td>\n",
              "      <td>2136000000</td>\n",
              "    </tr>\n",
              "    <tr>\n",
              "      <th>otherCurrentLiab</th>\n",
              "      <td>16925000000</td>\n",
              "      <td>15259000000</td>\n",
              "      <td>14659000000</td>\n",
              "      <td>16451000000</td>\n",
              "    </tr>\n",
              "    <tr>\n",
              "      <th>totalAssets</th>\n",
              "      <td>155971000000</td>\n",
              "      <td>152186000000</td>\n",
              "      <td>123382000000</td>\n",
              "      <td>125356000000</td>\n",
              "    </tr>\n",
              "    <tr>\n",
              "      <th>commonStock</th>\n",
              "      <td>56556000000</td>\n",
              "      <td>55895000000</td>\n",
              "      <td>55151000000</td>\n",
              "      <td>54566000000</td>\n",
              "    </tr>\n",
              "    <tr>\n",
              "      <th>otherCurrentAssets</th>\n",
              "      <td>2655000000</td>\n",
              "      <td>2212000000</td>\n",
              "      <td>2911000000</td>\n",
              "      <td>2266000000</td>\n",
              "    </tr>\n",
              "    <tr>\n",
              "      <th>retainedEarnings</th>\n",
              "      <td>162717000000</td>\n",
              "      <td>162954000000</td>\n",
              "      <td>159206000000</td>\n",
              "      <td>153126000000</td>\n",
              "    </tr>\n",
              "    <tr>\n",
              "      <th>otherLiab</th>\n",
              "      <td>37447000000</td>\n",
              "      <td>35519000000</td>\n",
              "      <td>32620000000</td>\n",
              "      <td>30397000000</td>\n",
              "    </tr>\n",
              "    <tr>\n",
              "      <th>goodWill</th>\n",
              "      <td>59617000000</td>\n",
              "      <td>58222000000</td>\n",
              "      <td>36265000000</td>\n",
              "      <td>36788000000</td>\n",
              "    </tr>\n",
              "    <tr>\n",
              "      <th>treasuryStock</th>\n",
              "      <td>-198676000000</td>\n",
              "      <td>-198008000000</td>\n",
              "      <td>-197561000000</td>\n",
              "      <td>-190098000000</td>\n",
              "    </tr>\n",
              "    <tr>\n",
              "      <th>otherAssets</th>\n",
              "      <td>21355000000</td>\n",
              "      <td>16369000000</td>\n",
              "      <td>14718000000</td>\n",
              "      <td>13844000000</td>\n",
              "    </tr>\n",
              "    <tr>\n",
              "      <th>cash</th>\n",
              "      <td>13212000000</td>\n",
              "      <td>8172000000</td>\n",
              "      <td>11379000000</td>\n",
              "      <td>11972000000</td>\n",
              "    </tr>\n",
              "    <tr>\n",
              "      <th>totalCurrentLiabilities</th>\n",
              "      <td>39869000000</td>\n",
              "      <td>37701000000</td>\n",
              "      <td>38227000000</td>\n",
              "      <td>37363000000</td>\n",
              "    </tr>\n",
              "    <tr>\n",
              "      <th>deferredLongTermAssetCharges</th>\n",
              "      <td>9241000000</td>\n",
              "      <td>5182000000</td>\n",
              "      <td>5216000000</td>\n",
              "      <td>4862000000</td>\n",
              "    </tr>\n",
              "    <tr>\n",
              "      <th>shortLongTermDebt</th>\n",
              "      <td>6956000000</td>\n",
              "      <td>7470000000</td>\n",
              "      <td>7048000000</td>\n",
              "      <td>5215000000</td>\n",
              "    </tr>\n",
              "    <tr>\n",
              "      <th>otherStockholderEquity</th>\n",
              "      <td>-29337000000</td>\n",
              "      <td>-28595000000</td>\n",
              "      <td>-29490000000</td>\n",
              "      <td>-26591000000</td>\n",
              "    </tr>\n",
              "    <tr>\n",
              "      <th>propertyPlantEquipment</th>\n",
              "      <td>14726000000</td>\n",
              "      <td>15006000000</td>\n",
              "      <td>10792000000</td>\n",
              "      <td>11116000000</td>\n",
              "    </tr>\n",
              "    <tr>\n",
              "      <th>totalCurrentAssets</th>\n",
              "      <td>39165000000</td>\n",
              "      <td>38420000000</td>\n",
              "      <td>49146000000</td>\n",
              "      <td>49735000000</td>\n",
              "    </tr>\n",
              "    <tr>\n",
              "      <th>longTermInvestments</th>\n",
              "      <td>226000000</td>\n",
              "      <td>222000000</td>\n",
              "      <td>226000000</td>\n",
              "      <td>581000000</td>\n",
              "    </tr>\n",
              "    <tr>\n",
              "      <th>netTangibleAssets</th>\n",
              "      <td>-52816000000</td>\n",
              "      <td>-52616000000</td>\n",
              "      <td>-22556000000</td>\n",
              "      <td>-22936000000</td>\n",
              "    </tr>\n",
              "    <tr>\n",
              "      <th>shortTermInvestments</th>\n",
              "      <td>600000000</td>\n",
              "      <td>696000000</td>\n",
              "      <td>618000000</td>\n",
              "      <td>608000000</td>\n",
              "    </tr>\n",
              "    <tr>\n",
              "      <th>netReceivables</th>\n",
              "      <td>8343000000</td>\n",
              "      <td>10069000000</td>\n",
              "      <td>8645000000</td>\n",
              "      <td>10380000000</td>\n",
              "    </tr>\n",
              "    <tr>\n",
              "      <th>longTermDebt</th>\n",
              "      <td>54156000000</td>\n",
              "      <td>53951000000</td>\n",
              "      <td>35567000000</td>\n",
              "      <td>39871000000</td>\n",
              "    </tr>\n",
              "    <tr>\n",
              "      <th>inventory</th>\n",
              "      <td>1839000000</td>\n",
              "      <td>1619000000</td>\n",
              "      <td>1682000000</td>\n",
              "      <td>1583000000</td>\n",
              "    </tr>\n",
              "    <tr>\n",
              "      <th>accountsPayable</th>\n",
              "      <td>4908000000</td>\n",
              "      <td>4896000000</td>\n",
              "      <td>6558000000</td>\n",
              "      <td>6451000000</td>\n",
              "    </tr>\n",
              "  </tbody>\n",
              "</table>\n",
              "</div>"
            ],
            "text/plain": [
              "endDate                         2020-12-31  ...    2017-12-31\n",
              "Breakdown                                   ...              \n",
              "intangibleAssets               13796000000  ...    3742000000\n",
              "totalLiab                     135245000000  ...  107631000000\n",
              "totalStockholderEquity         20597000000  ...   17594000000\n",
              "minorityInterest                 129000000  ...     131000000\n",
              "deferredLongTermLiab            2449000000  ...    2136000000\n",
              "otherCurrentLiab               16925000000  ...   16451000000\n",
              "totalAssets                   155971000000  ...  125356000000\n",
              "commonStock                    56556000000  ...   54566000000\n",
              "otherCurrentAssets              2655000000  ...    2266000000\n",
              "retainedEarnings              162717000000  ...  153126000000\n",
              "otherLiab                      37447000000  ...   30397000000\n",
              "goodWill                       59617000000  ...   36788000000\n",
              "treasuryStock                -198676000000  ... -190098000000\n",
              "otherAssets                    21355000000  ...   13844000000\n",
              "cash                           13212000000  ...   11972000000\n",
              "totalCurrentLiabilities        39869000000  ...   37363000000\n",
              "deferredLongTermAssetCharges    9241000000  ...    4862000000\n",
              "shortLongTermDebt               6956000000  ...    5215000000\n",
              "otherStockholderEquity        -29337000000  ...  -26591000000\n",
              "propertyPlantEquipment         14726000000  ...   11116000000\n",
              "totalCurrentAssets             39165000000  ...   49735000000\n",
              "longTermInvestments              226000000  ...     581000000\n",
              "netTangibleAssets             -52816000000  ...  -22936000000\n",
              "shortTermInvestments             600000000  ...     608000000\n",
              "netReceivables                  8343000000  ...   10380000000\n",
              "longTermDebt                   54156000000  ...   39871000000\n",
              "inventory                       1839000000  ...    1583000000\n",
              "accountsPayable                 4908000000  ...    6451000000\n",
              "\n",
              "[28 rows x 4 columns]"
            ]
          },
          "metadata": {},
          "execution_count": 56
        }
      ]
    },
    {
      "cell_type": "code",
      "metadata": {
        "colab": {
          "base_uri": "https://localhost:8080/",
          "height": 762
        },
        "id": "-WEQYWHkCFcZ",
        "outputId": "98120301-3697-4617-b741-7ca8e7fbd598"
      },
      "source": [
        "IBM_IS"
      ],
      "execution_count": null,
      "outputs": [
        {
          "output_type": "execute_result",
          "data": {
            "text/html": [
              "<div>\n",
              "<style scoped>\n",
              "    .dataframe tbody tr th:only-of-type {\n",
              "        vertical-align: middle;\n",
              "    }\n",
              "\n",
              "    .dataframe tbody tr th {\n",
              "        vertical-align: top;\n",
              "    }\n",
              "\n",
              "    .dataframe thead th {\n",
              "        text-align: right;\n",
              "    }\n",
              "</style>\n",
              "<table border=\"1\" class=\"dataframe\">\n",
              "  <thead>\n",
              "    <tr style=\"text-align: right;\">\n",
              "      <th>endDate</th>\n",
              "      <th>2020-12-31</th>\n",
              "      <th>2019-12-31</th>\n",
              "      <th>2018-12-31</th>\n",
              "      <th>2017-12-31</th>\n",
              "    </tr>\n",
              "    <tr>\n",
              "      <th>Breakdown</th>\n",
              "      <th></th>\n",
              "      <th></th>\n",
              "      <th></th>\n",
              "      <th></th>\n",
              "    </tr>\n",
              "  </thead>\n",
              "  <tbody>\n",
              "    <tr>\n",
              "      <th>researchDevelopment</th>\n",
              "      <td>6333000000</td>\n",
              "      <td>5936000000</td>\n",
              "      <td>5379000000</td>\n",
              "      <td>5590000000</td>\n",
              "    </tr>\n",
              "    <tr>\n",
              "      <th>effectOfAccountingCharges</th>\n",
              "      <td>None</td>\n",
              "      <td>None</td>\n",
              "      <td>None</td>\n",
              "      <td>None</td>\n",
              "    </tr>\n",
              "    <tr>\n",
              "      <th>incomeBeforeTax</th>\n",
              "      <td>4637000000</td>\n",
              "      <td>10166000000</td>\n",
              "      <td>11342000000</td>\n",
              "      <td>11400000000</td>\n",
              "    </tr>\n",
              "    <tr>\n",
              "      <th>minorityInterest</th>\n",
              "      <td>129000000</td>\n",
              "      <td>144000000</td>\n",
              "      <td>134000000</td>\n",
              "      <td>131000000</td>\n",
              "    </tr>\n",
              "    <tr>\n",
              "      <th>netIncome</th>\n",
              "      <td>5590000000</td>\n",
              "      <td>9431000000</td>\n",
              "      <td>8728000000</td>\n",
              "      <td>5753000000</td>\n",
              "    </tr>\n",
              "    <tr>\n",
              "      <th>sellingGeneralAdministrative</th>\n",
              "      <td>21242000000</td>\n",
              "      <td>20382000000</td>\n",
              "      <td>19366000000</td>\n",
              "      <td>21137000000</td>\n",
              "    </tr>\n",
              "    <tr>\n",
              "      <th>grossProfit</th>\n",
              "      <td>35575000000</td>\n",
              "      <td>36489000000</td>\n",
              "      <td>36937000000</td>\n",
              "      <td>36943000000</td>\n",
              "    </tr>\n",
              "    <tr>\n",
              "      <th>ebit</th>\n",
              "      <td>8584000000</td>\n",
              "      <td>10785000000</td>\n",
              "      <td>13218000000</td>\n",
              "      <td>11682000000</td>\n",
              "    </tr>\n",
              "    <tr>\n",
              "      <th>operatingIncome</th>\n",
              "      <td>8584000000</td>\n",
              "      <td>10785000000</td>\n",
              "      <td>13218000000</td>\n",
              "      <td>11682000000</td>\n",
              "    </tr>\n",
              "    <tr>\n",
              "      <th>otherOperatingExpenses</th>\n",
              "      <td>-584000000</td>\n",
              "      <td>-614000000</td>\n",
              "      <td>-1026000000</td>\n",
              "      <td>-1466000000</td>\n",
              "    </tr>\n",
              "    <tr>\n",
              "      <th>interestExpense</th>\n",
              "      <td>-1288000000</td>\n",
              "      <td>-1344000000</td>\n",
              "      <td>-723000000</td>\n",
              "      <td>-615000000</td>\n",
              "    </tr>\n",
              "    <tr>\n",
              "      <th>extraordinaryItems</th>\n",
              "      <td>None</td>\n",
              "      <td>None</td>\n",
              "      <td>None</td>\n",
              "      <td>None</td>\n",
              "    </tr>\n",
              "    <tr>\n",
              "      <th>nonRecurring</th>\n",
              "      <td>None</td>\n",
              "      <td>None</td>\n",
              "      <td>None</td>\n",
              "      <td>None</td>\n",
              "    </tr>\n",
              "    <tr>\n",
              "      <th>otherItems</th>\n",
              "      <td>None</td>\n",
              "      <td>None</td>\n",
              "      <td>None</td>\n",
              "      <td>None</td>\n",
              "    </tr>\n",
              "    <tr>\n",
              "      <th>incomeTaxExpense</th>\n",
              "      <td>-864000000</td>\n",
              "      <td>731000000</td>\n",
              "      <td>2619000000</td>\n",
              "      <td>5642000000</td>\n",
              "    </tr>\n",
              "    <tr>\n",
              "      <th>totalRevenue</th>\n",
              "      <td>73621000000</td>\n",
              "      <td>77147000000</td>\n",
              "      <td>79591000000</td>\n",
              "      <td>79139000000</td>\n",
              "    </tr>\n",
              "    <tr>\n",
              "      <th>totalOperatingExpenses</th>\n",
              "      <td>65037000000</td>\n",
              "      <td>66362000000</td>\n",
              "      <td>66373000000</td>\n",
              "      <td>67457000000</td>\n",
              "    </tr>\n",
              "    <tr>\n",
              "      <th>costOfRevenue</th>\n",
              "      <td>38046000000</td>\n",
              "      <td>40658000000</td>\n",
              "      <td>42654000000</td>\n",
              "      <td>42196000000</td>\n",
              "    </tr>\n",
              "    <tr>\n",
              "      <th>totalOtherIncomeExpenseNet</th>\n",
              "      <td>-3947000000</td>\n",
              "      <td>-619000000</td>\n",
              "      <td>-1876000000</td>\n",
              "      <td>-282000000</td>\n",
              "    </tr>\n",
              "    <tr>\n",
              "      <th>discontinuedOperations</th>\n",
              "      <td>89000000</td>\n",
              "      <td>-4000000</td>\n",
              "      <td>5000000</td>\n",
              "      <td>-5000000</td>\n",
              "    </tr>\n",
              "    <tr>\n",
              "      <th>netIncomeFromContinuingOps</th>\n",
              "      <td>5501000000</td>\n",
              "      <td>9435000000</td>\n",
              "      <td>8723000000</td>\n",
              "      <td>5758000000</td>\n",
              "    </tr>\n",
              "    <tr>\n",
              "      <th>netIncomeApplicableToCommonShares</th>\n",
              "      <td>5590000000</td>\n",
              "      <td>9431000000</td>\n",
              "      <td>8728000000</td>\n",
              "      <td>5753000000</td>\n",
              "    </tr>\n",
              "  </tbody>\n",
              "</table>\n",
              "</div>"
            ],
            "text/plain": [
              "endDate                             2020-12-31  ...   2017-12-31\n",
              "Breakdown                                       ...             \n",
              "researchDevelopment                 6333000000  ...   5590000000\n",
              "effectOfAccountingCharges                 None  ...         None\n",
              "incomeBeforeTax                     4637000000  ...  11400000000\n",
              "minorityInterest                     129000000  ...    131000000\n",
              "netIncome                           5590000000  ...   5753000000\n",
              "sellingGeneralAdministrative       21242000000  ...  21137000000\n",
              "grossProfit                        35575000000  ...  36943000000\n",
              "ebit                                8584000000  ...  11682000000\n",
              "operatingIncome                     8584000000  ...  11682000000\n",
              "otherOperatingExpenses              -584000000  ...  -1466000000\n",
              "interestExpense                    -1288000000  ...   -615000000\n",
              "extraordinaryItems                        None  ...         None\n",
              "nonRecurring                              None  ...         None\n",
              "otherItems                                None  ...         None\n",
              "incomeTaxExpense                    -864000000  ...   5642000000\n",
              "totalRevenue                       73621000000  ...  79139000000\n",
              "totalOperatingExpenses             65037000000  ...  67457000000\n",
              "costOfRevenue                      38046000000  ...  42196000000\n",
              "totalOtherIncomeExpenseNet         -3947000000  ...   -282000000\n",
              "discontinuedOperations                89000000  ...     -5000000\n",
              "netIncomeFromContinuingOps          5501000000  ...   5758000000\n",
              "netIncomeApplicableToCommonShares   5590000000  ...   5753000000\n",
              "\n",
              "[22 rows x 4 columns]"
            ]
          },
          "metadata": {},
          "execution_count": 57
        }
      ]
    },
    {
      "cell_type": "code",
      "metadata": {
        "colab": {
          "base_uri": "https://localhost:8080/"
        },
        "id": "gQvwLD6XY6NQ",
        "outputId": "91cfee2d-f645-407e-fa3e-ca307892d79f"
      },
      "source": [
        "KOF.columns"
      ],
      "execution_count": null,
      "outputs": [
        {
          "output_type": "execute_result",
          "data": {
            "text/plain": [
              "DatetimeIndex(['2020-12-31', '2019-12-31', '2018-12-31', '2017-12-31'], dtype='datetime64[ns]', name='endDate', freq=None)"
            ]
          },
          "metadata": {},
          "execution_count": 13
        }
      ]
    },
    {
      "cell_type": "code",
      "metadata": {
        "colab": {
          "base_uri": "https://localhost:8080/"
        },
        "id": "GABfo5c4ZIlk",
        "outputId": "a4c8a3db-7083-43b2-b119-715ee68efe1f"
      },
      "source": [
        "KOF.index"
      ],
      "execution_count": null,
      "outputs": [
        {
          "output_type": "execute_result",
          "data": {
            "text/plain": [
              "Index(['intangibleAssets', 'capitalSurplus', 'totalLiab',\n",
              "       'totalStockholderEquity', 'minorityInterest', 'otherCurrentLiab',\n",
              "       'totalAssets', 'commonStock', 'otherCurrentAssets', 'retainedEarnings',\n",
              "       'otherLiab', 'goodWill', 'treasuryStock', 'otherAssets', 'cash',\n",
              "       'totalCurrentLiabilities', 'deferredLongTermAssetCharges',\n",
              "       'shortLongTermDebt', 'otherStockholderEquity', 'propertyPlantEquipment',\n",
              "       'totalCurrentAssets', 'longTermInvestments', 'netTangibleAssets',\n",
              "       'netReceivables', 'longTermDebt', 'inventory', 'accountsPayable',\n",
              "       'deferredLongTermLiab'],\n",
              "      dtype='object', name='Breakdown')"
            ]
          },
          "metadata": {},
          "execution_count": 14
        }
      ]
    },
    {
      "cell_type": "markdown",
      "metadata": {
        "id": "DHy_p2zmhek4"
      },
      "source": [
        "**Analisis de Solvencia**"
      ]
    },
    {
      "cell_type": "code",
      "metadata": {
        "id": "v6hxsMAQaqE0"
      },
      "source": [
        " def Analisis_Solvencia (ticker):\n",
        "  Solv_Circulante = print('Solv_Circulante', ticker.loc['totalCurrentAssets', :]/ ticker.loc['totalCurrentLiabilities', :])\n",
        "  Prueba_Acida = print('Prueba Acida',(ticker.loc['totalCurrentAssets', :] - ticker.loc['inventory', :])  / ticker.loc['totalCurrentLiabilities', :])\n",
        "  Solv_Inmediata = print('Solv_Inmediata', ticker.loc['cash', :] /  ticker.loc['totalCurrentLiabilities', :])\n",
        "  return(Solv_Circulante, Prueba_Acida, Solv_Inmediata)"
      ],
      "execution_count": null,
      "outputs": []
    },
    {
      "cell_type": "code",
      "metadata": {
        "id": "7Ibj9zUMTTW6"
      },
      "source": [
        " def Grafico_Solvencia (ticker):\n",
        "  Solv_Circulante =ticker.loc['totalCurrentAssets', :]/ ticker.loc['totalCurrentLiabilities', :]\n",
        "  Prueba_Acida = (ticker.loc['totalCurrentAssets', :] - ticker.loc['inventory', :])  / ticker.loc['totalCurrentLiabilities', :]\n",
        "  Solv_Inmediata = ticker.loc['cash', :] /  ticker.loc['totalCurrentLiabilities', :]\n",
        "  plot = plt.figure(figsize=(10,7))\n",
        "  plt.title('Analisis de Solvencia')\n",
        "  plt.xlabel('Años')\n",
        "  plt.ylabel('Ratio')\n",
        "  plt.plot(Solv_Circulante, 'b.-', label='Solvencia de Circulante')\n",
        "  plt.plot(Prueba_Acida, 'y.-', label='Prueba Acida')\n",
        "  plt.plot(Solv_Inmediata, 'r.-', label='Solvencia Inmediata')\n",
        "  plt.legend()\n",
        "  return()"
      ],
      "execution_count": null,
      "outputs": []
    },
    {
      "cell_type": "code",
      "metadata": {
        "colab": {
          "base_uri": "https://localhost:8080/",
          "height": 475
        },
        "id": "2wE3oKDIU4wP",
        "outputId": "0183e6f9-3086-4a37-8635-3b7d0769bc7b"
      },
      "source": [
        "Grafico_Solvencia(IBM)"
      ],
      "execution_count": null,
      "outputs": [
        {
          "output_type": "execute_result",
          "data": {
            "text/plain": [
              "()"
            ]
          },
          "metadata": {},
          "execution_count": 53
        },
        {
          "output_type": "display_data",
          "data": {
            "image/png": "[encoded data removed]",
            "text/plain": [
              "<Figure size 720x504 with 1 Axes>"
            ]
          },
          "metadata": {}
        }
      ]
    },
    {
      "cell_type": "code",
      "metadata": {
        "colab": {
          "base_uri": "https://localhost:8080/"
        },
        "id": "jxI_QA9Tuqfs",
        "outputId": "b678cf9f-b707-465a-f962-96dc1fd20724"
      },
      "source": [
        "Analisis_Solvencia(IBM)"
      ],
      "execution_count": null,
      "outputs": [
        {
          "output_type": "stream",
          "name": "stdout",
          "text": [
            "Solv_Circulante endDate\n",
            "2020-12-31    0.982342\n",
            "2019-12-31    1.019071\n",
            "2018-12-31    1.285636\n",
            "2017-12-31    1.331130\n",
            "dtype: float64\n",
            "Prueba Acida endDate\n",
            "2020-12-31    0.936216\n",
            "2019-12-31    0.976128\n",
            "2018-12-31    1.241635\n",
            "2017-12-31    1.288762\n",
            "dtype: float64\n",
            "Solv_Inmediata endDate\n",
            "2020-12-31    0.331385\n",
            "2019-12-31    0.216758\n",
            "2018-12-31    0.297669\n",
            "2017-12-31    0.320424\n",
            "dtype: float64\n"
          ]
        },
        {
          "output_type": "execute_result",
          "data": {
            "text/plain": [
              "(None, None, None)"
            ]
          },
          "metadata": {},
          "execution_count": 8
        }
      ]
    },
    {
      "cell_type": "markdown",
      "metadata": {
        "id": "f-gmQs5A_XMN"
      },
      "source": [
        "**Analisis de Apalancamiento**"
      ]
    },
    {
      "cell_type": "code",
      "metadata": {
        "id": "lMEF1L2E_pzA"
      },
      "source": [
        " def Analisis_Apalancamiento (ticker, IS):\n",
        "   Debtto_Assets = print('Debt to Assets', ticker.loc['shortLongTermDebt', :]/ ticker.loc['totalAssets', :])\n",
        "   Debtto_Equity = print('Debt to Equity', ticker.loc['shortLongTermDebt', :]/ ticker.loc['totalStockholderEquity', :])\n",
        "   Debtto_Capital = print('Debt to Capital', ticker.loc['shortLongTermDebt', :]/ (ticker.loc['totalStockholderEquity', :] + ticker.loc['shortLongTermDebt', :]))\n",
        "   Debtto_EBITDA = print('Debt to Ebit', ticker.loc['shortLongTermDebt', :]/ IS.loc['ebit', :])\n",
        "   return(Debtto_Assets, Debtto_Equity, Debtto_Capital, Debtto_EBITDA)"
      ],
      "execution_count": null,
      "outputs": []
    },
    {
      "cell_type": "code",
      "metadata": {
        "id": "9onFybqBQUfI"
      },
      "source": [
        " def Grafica_Apalancamiento (ticker, IS):\n",
        "   Debtto_Assets = ticker.loc['shortLongTermDebt', :]/ ticker.loc['totalAssets', :]\n",
        "   Debtto_Equity = ticker.loc['shortLongTermDebt', :]/ ticker.loc['totalStockholderEquity', :]\n",
        "   Debtto_Capital = ticker.loc['shortLongTermDebt', :]/ (ticker.loc['totalStockholderEquity', :] + ticker.loc['shortLongTermDebt', :])\n",
        "   Debtto_EBITDA = ticker.loc['shortLongTermDebt', :]/ IS.loc['ebit', :]\n",
        "   plot = plt.figure(figsize=(10,7))\n",
        "   plt.title('Analisis de apalancamiento')\n",
        "   plt.xlabel('Años')\n",
        "   plt.ylabel('Ratio')\n",
        "   plt.plot(Debtto_Assets, 'b.-', label='Debt to Assets')\n",
        "   plt.plot(Debtto_Equity, 'y.-', label='Debt to Equity')\n",
        "   plt.plot(Debtto_Capital, 'r.-', label='Debt to Capital')\n",
        "   plt.plot(Debtto_EBITDA, 'g.-', label='Debt to EBITDA')\n",
        "   plt.legend()\n",
        "   return()"
      ],
      "execution_count": null,
      "outputs": []
    },
    {
      "cell_type": "code",
      "metadata": {
        "colab": {
          "base_uri": "https://localhost:8080/",
          "height": 475
        },
        "id": "Z7LLStk_SMzA",
        "outputId": "84d38ae2-6d60-4d52-8a40-b4fd30fcaf41"
      },
      "source": [
        "Grafica_Apalancamiento(IBM, IBM_IS)"
      ],
      "execution_count": null,
      "outputs": [
        {
          "output_type": "execute_result",
          "data": {
            "text/plain": [
              "()"
            ]
          },
          "metadata": {},
          "execution_count": 55
        },
        {
          "output_type": "display_data",
          "data": {
            "image/png": "[encoded data removed]",
            "text/plain": [
              "<Figure size 720x504 with 1 Axes>"
            ]
          },
          "metadata": {}
        }
      ]
    },
    {
      "cell_type": "code",
      "metadata": {
        "colab": {
          "base_uri": "https://localhost:8080/"
        },
        "id": "z-l7H83lF_eN",
        "outputId": "bdb1368d-3eba-4629-b5d4-56a584e7f747"
      },
      "source": [
        "Analisis_Apalancamiento(IBM,IBM_IS)"
      ],
      "execution_count": null,
      "outputs": [
        {
          "output_type": "stream",
          "name": "stdout",
          "text": [
            "Debt to Assets endDate\n",
            "2020-12-31    0.044598\n",
            "2019-12-31    0.049085\n",
            "2018-12-31    0.057123\n",
            "2017-12-31    0.041602\n",
            "dtype: float64\n",
            "Debt to Equity endDate\n",
            "2020-12-31    0.337719\n",
            "2019-12-31    0.358428\n",
            "2018-12-31    0.419624\n",
            "2017-12-31    0.296408\n",
            "dtype: float64\n",
            "Debt to Capital endDate\n",
            "2020-12-31    0.252459\n",
            "2019-12-31    0.263855\n",
            "2018-12-31    0.295588\n",
            "2017-12-31    0.228638\n",
            "dtype: float64\n",
            "Debt to Ebit endDate\n",
            "2020-12-31    0.810345\n",
            "2019-12-31    0.692629\n",
            "2018-12-31    0.533212\n",
            "2017-12-31    0.446413\n",
            "dtype: object\n"
          ]
        },
        {
          "output_type": "execute_result",
          "data": {
            "text/plain": [
              "(None, None, None, None)"
            ]
          },
          "metadata": {},
          "execution_count": 21
        }
      ]
    },
    {
      "cell_type": "markdown",
      "metadata": {
        "id": "6QRi27MpbsvO"
      },
      "source": [
        "**Analisis de Rentabilidad**"
      ]
    },
    {
      "cell_type": "code",
      "metadata": {
        "id": "e8c-vCiMeNlz"
      },
      "source": [
        " def Analisis_Rentabilidad (IS):\n",
        "   GrossProfit_Margin = print('Gross Profit Margin', IS.loc['grossProfit', :]/ IS.loc['totalRevenue', :])\n",
        "   OpProfit_Margin = print('Operating Profit Margin', IS.loc['ebit', :]/ IS.loc['totalRevenue', :])\n",
        "   NetProfit_Margin = print('Net Profit Margin', IS.loc['netIncome', :]/ IS.loc['totalRevenue', :])\n",
        "   return(GrossProfit_Margin, OpProfit_Margin, NetProfit_Margin)"
      ],
      "execution_count": 6,
      "outputs": []
    },
    {
      "cell_type": "code",
      "metadata": {
        "colab": {
          "base_uri": "https://localhost:8080/"
        },
        "id": "zV_DNtfTfNK7",
        "outputId": "f3b85668-0beb-47a4-ff50-774b2b96d7fa"
      },
      "source": [
        "Analisis_Rentabilidad (IBM_IS)"
      ],
      "execution_count": 7,
      "outputs": [
        {
          "output_type": "stream",
          "name": "stdout",
          "text": [
            "Gross Profit Margin endDate\n",
            "2020-12-31    0.483218\n",
            "2019-12-31     0.47298\n",
            "2018-12-31    0.464085\n",
            "2017-12-31    0.466812\n",
            "dtype: object\n",
            "Operating Profit Margin endDate\n",
            "2020-12-31    0.116597\n",
            "2019-12-31    0.139798\n",
            "2018-12-31    0.166074\n",
            "2017-12-31    0.147614\n",
            "dtype: object\n",
            "Net Profit Margin endDate\n",
            "2020-12-31    0.0759294\n",
            "2019-12-31     0.122247\n",
            "2018-12-31     0.109661\n",
            "2017-12-31    0.0726949\n",
            "dtype: object\n"
          ]
        },
        {
          "output_type": "execute_result",
          "data": {
            "text/plain": [
              "(None, None, None)"
            ]
          },
          "metadata": {},
          "execution_count": 7
        }
      ]
    },
    {
      "cell_type": "code",
      "metadata": {
        "id": "HV8DyXntlX0K"
      },
      "source": [
        " def Grafica_Rentabilidad (IS):\n",
        "   GrossProfit_Margin = IS.loc['grossProfit', :]/ IS.loc['totalRevenue', :]\n",
        "   OpProfit_Margin = IS.loc['ebit', :]/ IS.loc['totalRevenue', :]\n",
        "   NetProfit_Margin = IS.loc['netIncome', :]/ IS.loc['totalRevenue', :]\n",
        "   plot = plt.figure(figsize=(10,7))\n",
        "   plt.title('Analisis de Rentabilidad')\n",
        "   plt.xlabel('Años')\n",
        "   plt.ylabel('Ratio')\n",
        "   plt.plot(GrossProfit_Margin, 'b.-', label='Gross Profit Margin')\n",
        "   plt.plot(OpProfit_Margin, 'y.-', label='Operating Profit Margin')\n",
        "   plt.plot(NetProfit_Margin, 'r.-', label='Net Profit Margin')\n",
        "   plt.legend()\n",
        "   return()"
      ],
      "execution_count": 8,
      "outputs": []
    },
    {
      "cell_type": "code",
      "metadata": {
        "colab": {
          "base_uri": "https://localhost:8080/",
          "height": 475
        },
        "id": "iMvq4DaZmMZT",
        "outputId": "8bbdf624-f34d-47ef-cde0-0486bf7e039d"
      },
      "source": [
        "Grafica_Rentabilidad(IBM_IS)"
      ],
      "execution_count": 9,
      "outputs": [
        {
          "output_type": "execute_result",
          "data": {
            "text/plain": [
              "()"
            ]
          },
          "metadata": {},
          "execution_count": 9
        },
        {
          "output_type": "display_data",
          "data": {
            "image/png": "[encoded data removed]",
            "text/plain": [
              "<Figure size 720x504 with 1 Axes>"
            ]
          },
          "metadata": {}
        }
      ]
    },
    {
      "cell_type": "markdown",
      "metadata": {
        "id": "5h0i9KMOhw7A"
      },
      "source": [
        "**Estudio Del Capital**"
      ]
    },
    {
      "cell_type": "code",
      "metadata": {
        "id": "oKiNZiAEjrMq"
      },
      "source": [
        "Origen_Cap = KOF.loc['totalLiab', '2020-12-31'] / KOF.loc['totalStockholderEquity', '2020-12-31']\n",
        "Invercion_Cap =  KOF.loc['netTangibleAssets', '2020-12-31'] / KOF.loc['totalStockholderEquity', '2020-12-31']"
      ],
      "execution_count": null,
      "outputs": []
    },
    {
      "cell_type": "code",
      "metadata": {
        "colab": {
          "base_uri": "https://localhost:8080/"
        },
        "id": "BYMlZIu0loLp",
        "outputId": "4f983c81-7ee4-4faf-a77f-98e66144ec6d"
      },
      "source": [
        "Origen_Capital, Invercion_Cap"
      ],
      "execution_count": null,
      "outputs": [
        {
          "output_type": "execute_result",
          "data": {
            "text/plain": [
              "(endDate\n",
              " 2020-12-31    1.203082\n",
              " dtype: float64, endDate\n",
              " 2020-12-31    0.110401\n",
              " dtype: float64)"
            ]
          },
          "metadata": {
            "tags": []
          },
          "execution_count": 31
        }
      ]
    }
  ]
}