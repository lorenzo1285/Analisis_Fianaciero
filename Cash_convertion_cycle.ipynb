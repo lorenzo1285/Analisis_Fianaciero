{
  "cells": [
    {
      "cell_type": "markdown",
      "metadata": {
        "id": "view-in-github",
        "colab_type": "text"
      },
      "source": [
        "<a href=\"https://colab.research.google.com/github/lorenzo1285/Analisis_Fianaciero/blob/main/Cash_convertion_cycle.ipynb\" target=\"_parent\"><img src=\"https://colab.research.google.com/assets/colab-badge.svg\" alt=\"Open In Colab\"/></a>"
      ]
    },
    {
      "cell_type": "markdown",
      "metadata": {
        "id": "AUuOxRDM4jrW"
      },
      "source": [
        "# Instalación e Importación de paqueterias "
      ]
    },
    {
      "cell_type": "code",
      "execution_count": null,
      "metadata": {
        "id": "fNl8yUArQG4S"
      },
      "outputs": [],
      "source": [
        "pip install FinRatioAnalysis"
      ]
    },
    {
      "cell_type": "code",
      "execution_count": null,
      "metadata": {
        "id": "X7oQvikCIUAN"
      },
      "outputs": [],
      "source": [
        "pip install yahoo-fin"
      ]
    },
    {
      "cell_type": "code",
      "execution_count": null,
      "metadata": {
        "id": "9m_ESPr6OI9V"
      },
      "outputs": [],
      "source": [
        "pip install FinQuant"
      ]
    },
    {
      "cell_type": "code",
      "execution_count": null,
      "metadata": {
        "id": "1tGdmPgWjT54"
      },
      "outputs": [],
      "source": [
        "pip install numpy-financial"
      ]
    },
    {
      "cell_type": "code",
      "execution_count": null,
      "metadata": {
        "id": "zJ2-LJAzswbU"
      },
      "outputs": [],
      "source": [
        "pip install investpy"
      ]
    },
    {
      "cell_type": "code",
      "execution_count": 7,
      "metadata": {
        "id": "hn9YEZweQXe_"
      },
      "outputs": [],
      "source": [
        "import datetime\n",
        "import pandas as pd\n",
        "import numpy as np\n",
        "import yahoo_fin.stock_info as yf\n",
        "import numpy_financial as npf\n",
        "import investpy as ip\n",
        "from FinRatioAnalysis import FinRatioAnalysis\n",
        "import seaborn as sns\n",
        "import matplotlib.pylab as plt\n",
        "import os\n",
        "from finquant.portfolio import build_portfolio\n",
        "%matplotlib inline\n",
        "sns.set_style(\"whitegrid\")"
      ]
    },
    {
      "cell_type": "code",
      "execution_count": 8,
      "metadata": {
        "id": "F06SrrC2Qg3D"
      },
      "outputs": [],
      "source": [
        "ra = FinRatioAnalysis('IBM')"
      ]
    },
    {
      "cell_type": "markdown",
      "metadata": {
        "id": "RvQ3tYkPSIPV"
      },
      "source": [
        "# Valuacion de Acciones"
      ]
    },
    {
      "cell_type": "code",
      "execution_count": 9,
      "metadata": {
        "colab": {
          "base_uri": "https://localhost:8080/",
          "height": 81
        },
        "id": "6ihmcPzpSPzL",
        "outputId": "e13222bb-35b4-46ee-bc67-9d3b75157b0f"
      },
      "outputs": [
        {
          "output_type": "execute_result",
          "data": {
            "text/plain": [
              "  Name  Allocation\n",
              "0  IBM         100"
            ],
            "text/html": [
              "\n",
              "  <div id=\"df-689d4c1f-bf5e-44d1-835d-5d8fc6930334\">\n",
              "    <div class=\"colab-df-container\">\n",
              "      <div>\n",
              "<style scoped>\n",
              "    .dataframe tbody tr th:only-of-type {\n",
              "        vertical-align: middle;\n",
              "    }\n",
              "\n",
              "    .dataframe tbody tr th {\n",
              "        vertical-align: top;\n",
              "    }\n",
              "\n",
              "    .dataframe thead th {\n",
              "        text-align: right;\n",
              "    }\n",
              "</style>\n",
              "<table border=\"1\" class=\"dataframe\">\n",
              "  <thead>\n",
              "    <tr style=\"text-align: right;\">\n",
              "      <th></th>\n",
              "      <th>Name</th>\n",
              "      <th>Allocation</th>\n",
              "    </tr>\n",
              "  </thead>\n",
              "  <tbody>\n",
              "    <tr>\n",
              "      <th>0</th>\n",
              "      <td>IBM</td>\n",
              "      <td>100</td>\n",
              "    </tr>\n",
              "  </tbody>\n",
              "</table>\n",
              "</div>\n",
              "      <button class=\"colab-df-convert\" onclick=\"convertToInteractive('df-689d4c1f-bf5e-44d1-835d-5d8fc6930334')\"\n",
              "              title=\"Convert this dataframe to an interactive table.\"\n",
              "              style=\"display:none;\">\n",
              "        \n",
              "  <svg xmlns=\"http://www.w3.org/2000/svg\" height=\"24px\"viewBox=\"0 0 24 24\"\n",
              "       width=\"24px\">\n",
              "    <path d=\"M0 0h24v24H0V0z\" fill=\"none\"/>\n",
              "    <path d=\"M18.56 5.44l.94 2.06.94-2.06 2.06-.94-2.06-.94-.94-2.06-.94 2.06-2.06.94zm-11 1L8.5 8.5l.94-2.06 2.06-.94-2.06-.94L8.5 2.5l-.94 2.06-2.06.94zm10 10l.94 2.06.94-2.06 2.06-.94-2.06-.94-.94-2.06-.94 2.06-2.06.94z\"/><path d=\"M17.41 7.96l-1.37-1.37c-.4-.4-.92-.59-1.43-.59-.52 0-1.04.2-1.43.59L10.3 9.45l-7.72 7.72c-.78.78-.78 2.05 0 2.83L4 21.41c.39.39.9.59 1.41.59.51 0 1.02-.2 1.41-.59l7.78-7.78 2.81-2.81c.8-.78.8-2.07 0-2.86zM5.41 20L4 18.59l7.72-7.72 1.47 1.35L5.41 20z\"/>\n",
              "  </svg>\n",
              "      </button>\n",
              "      \n",
              "  <style>\n",
              "    .colab-df-container {\n",
              "      display:flex;\n",
              "      flex-wrap:wrap;\n",
              "      gap: 12px;\n",
              "    }\n",
              "\n",
              "    .colab-df-convert {\n",
              "      background-color: #E8F0FE;\n",
              "      border: none;\n",
              "      border-radius: 50%;\n",
              "      cursor: pointer;\n",
              "      display: none;\n",
              "      fill: #1967D2;\n",
              "      height: 32px;\n",
              "      padding: 0 0 0 0;\n",
              "      width: 32px;\n",
              "    }\n",
              "\n",
              "    .colab-df-convert:hover {\n",
              "      background-color: #E2EBFA;\n",
              "      box-shadow: 0px 1px 2px rgba(60, 64, 67, 0.3), 0px 1px 3px 1px rgba(60, 64, 67, 0.15);\n",
              "      fill: #174EA6;\n",
              "    }\n",
              "\n",
              "    [theme=dark] .colab-df-convert {\n",
              "      background-color: #3B4455;\n",
              "      fill: #D2E3FC;\n",
              "    }\n",
              "\n",
              "    [theme=dark] .colab-df-convert:hover {\n",
              "      background-color: #434B5C;\n",
              "      box-shadow: 0px 1px 3px 1px rgba(0, 0, 0, 0.15);\n",
              "      filter: drop-shadow(0px 1px 2px rgba(0, 0, 0, 0.3));\n",
              "      fill: #FFFFFF;\n",
              "    }\n",
              "  </style>\n",
              "\n",
              "      <script>\n",
              "        const buttonEl =\n",
              "          document.querySelector('#df-689d4c1f-bf5e-44d1-835d-5d8fc6930334 button.colab-df-convert');\n",
              "        buttonEl.style.display =\n",
              "          google.colab.kernel.accessAllowed ? 'block' : 'none';\n",
              "\n",
              "        async function convertToInteractive(key) {\n",
              "          const element = document.querySelector('#df-689d4c1f-bf5e-44d1-835d-5d8fc6930334');\n",
              "          const dataTable =\n",
              "            await google.colab.kernel.invokeFunction('convertToInteractive',\n",
              "                                                     [key], {});\n",
              "          if (!dataTable) return;\n",
              "\n",
              "          const docLinkHtml = 'Like what you see? Visit the ' +\n",
              "            '<a target=\"_blank\" href=https://colab.research.google.com/notebooks/data_table.ipynb>data table notebook</a>'\n",
              "            + ' to learn more about interactive tables.';\n",
              "          element.innerHTML = '';\n",
              "          dataTable['output_type'] = 'display_data';\n",
              "          await google.colab.output.renderOutput(dataTable, element);\n",
              "          const docLink = document.createElement('div');\n",
              "          docLink.innerHTML = docLinkHtml;\n",
              "          element.appendChild(docLink);\n",
              "        }\n",
              "      </script>\n",
              "    </div>\n",
              "  </div>\n",
              "  "
            ]
          },
          "metadata": {},
          "execution_count": 9
        }
      ],
      "source": [
        "d_1 =  {'Name':[ 'IBM'],\n",
        "      \n",
        "      'Allocation':[100]\n",
        "        }\n",
        "df_1 = pd.DataFrame(data=d_1)\n",
        "df_1.head()"
      ]
    },
    {
      "cell_type": "code",
      "execution_count": 10,
      "metadata": {
        "colab": {
          "base_uri": "https://localhost:8080/"
        },
        "id": "SoETy59JS4mr",
        "outputId": "53a68b62-3a1d-4b39-bf94-c03c6a868000"
      },
      "outputs": [
        {
          "output_type": "stream",
          "name": "stdout",
          "text": [
            "\r[*********************100%***********************]  1 of 1 completed\n"
          ]
        }
      ],
      "source": [
        "from finquant.portfolio import build_portfolio\n",
        "names = df_1['Name'].to_list()\n",
        "start_date = '2021-03-25'\n",
        "end_date = '2022-03-24'\n",
        "pf = build_portfolio(names= names,\n",
        "                     pf_allocation=df_1,\n",
        "                     start_date= start_date,\n",
        "                     end_date=end_date,\n",
        "                     data_api=\"yfinance\")"
      ]
    },
    {
      "cell_type": "code",
      "execution_count": 11,
      "metadata": {
        "colab": {
          "base_uri": "https://localhost:8080/"
        },
        "id": "-w_LU7-fS9jp",
        "outputId": "b71da91d-3632-4a2d-c6e1-1a9163c83b87"
      },
      "outputs": [
        {
          "output_type": "stream",
          "name": "stdout",
          "text": [
            "----------------------------------------------------------------------\n",
            "Stocks: IBM\n",
            "Time window/frequency: 252\n",
            "Risk free rate: 0.005\n",
            "Portfolio Expected Return: 0.078\n",
            "Portfolio Volatility: 0.208\n",
            "Portfolio Sharpe Ratio: 0.352\n",
            "\n",
            "Skewness:\n",
            "        IBM\n",
            "0 -0.629705\n",
            "\n",
            "Kurtosis:\n",
            "        IBM\n",
            "0 -0.480558\n",
            "\n",
            "Information:\n",
            "  Name  Allocation\n",
            "0  IBM       100.0\n",
            "----------------------------------------------------------------------\n"
          ]
        }
      ],
      "source": [
        "pf.properties()"
      ]
    },
    {
      "cell_type": "code",
      "execution_count": 12,
      "metadata": {
        "colab": {
          "base_uri": "https://localhost:8080/",
          "height": 277
        },
        "id": "xbagrtvFTIU_",
        "outputId": "f4dd0214-ccae-4f63-c05d-3478d43b4335"
      },
      "outputs": [
        {
          "output_type": "display_data",
          "data": {
            "text/plain": [
              "<Figure size 432x288 with 1 Axes>"
            ],
            "image/png": "[encoded data removed]"
          },
          "metadata": {}
        }
      ],
      "source": [
        "pf.comp_cumulative_returns().plot().axhline(y = 0, color = \"black\", lw = 3)\n",
        "plt.rcParams[\"figure.figsize\"] = (12, 12)\n",
        "plt.show()"
      ]
    },
    {
      "cell_type": "code",
      "execution_count": 13,
      "metadata": {
        "colab": {
          "base_uri": "https://localhost:8080/"
        },
        "id": "l9gSwWcgTNjy",
        "outputId": "20111559-3002-4007-8293-7e22957fb88c"
      },
      "outputs": [
        {
          "output_type": "execute_result",
          "data": {
            "text/plain": [
              "0.07831961623979976"
            ]
          },
          "metadata": {},
          "execution_count": 13
        }
      ],
      "source": [
        "exp_return = pf.comp_mean_returns(freq=252)\n",
        "exp_return[0]\n"
      ]
    },
    {
      "cell_type": "markdown",
      "metadata": {
        "id": "k6gV5ZFO4wHB"
      },
      "source": [
        "# Analisis DuPont"
      ]
    },
    {
      "cell_type": "code",
      "execution_count": 14,
      "metadata": {
        "colab": {
          "base_uri": "https://localhost:8080/",
          "height": 206
        },
        "id": "wtWreL_Qfnpd",
        "outputId": "9552537e-35c8-41fb-e0d3-eed48c4948ed"
      },
      "outputs": [
        {
          "output_type": "execute_result",
          "data": {
            "text/plain": [
              "           Return_Equity Return_Assets Return_CapitalEmploy\n",
              "endDate                                                    \n",
              "2021-12-31      0.303846      0.043507             0.058669\n",
              "2020-12-31      0.271399       0.03584             0.048199\n",
              "2019-12-31      0.452521       0.06197             0.065851\n",
              "2018-12-31      0.519648       0.07074             0.155223"
            ],
            "text/html": [
              "\n",
              "  <div id=\"df-8f91d3c9-caac-41bb-8c19-2729f5589860\">\n",
              "    <div class=\"colab-df-container\">\n",
              "      <div>\n",
              "<style scoped>\n",
              "    .dataframe tbody tr th:only-of-type {\n",
              "        vertical-align: middle;\n",
              "    }\n",
              "\n",
              "    .dataframe tbody tr th {\n",
              "        vertical-align: top;\n",
              "    }\n",
              "\n",
              "    .dataframe thead th {\n",
              "        text-align: right;\n",
              "    }\n",
              "</style>\n",
              "<table border=\"1\" class=\"dataframe\">\n",
              "  <thead>\n",
              "    <tr style=\"text-align: right;\">\n",
              "      <th></th>\n",
              "      <th>Return_Equity</th>\n",
              "      <th>Return_Assets</th>\n",
              "      <th>Return_CapitalEmploy</th>\n",
              "    </tr>\n",
              "    <tr>\n",
              "      <th>endDate</th>\n",
              "      <th></th>\n",
              "      <th></th>\n",
              "      <th></th>\n",
              "    </tr>\n",
              "  </thead>\n",
              "  <tbody>\n",
              "    <tr>\n",
              "      <th>2021-12-31</th>\n",
              "      <td>0.303846</td>\n",
              "      <td>0.043507</td>\n",
              "      <td>0.058669</td>\n",
              "    </tr>\n",
              "    <tr>\n",
              "      <th>2020-12-31</th>\n",
              "      <td>0.271399</td>\n",
              "      <td>0.03584</td>\n",
              "      <td>0.048199</td>\n",
              "    </tr>\n",
              "    <tr>\n",
              "      <th>2019-12-31</th>\n",
              "      <td>0.452521</td>\n",
              "      <td>0.06197</td>\n",
              "      <td>0.065851</td>\n",
              "    </tr>\n",
              "    <tr>\n",
              "      <th>2018-12-31</th>\n",
              "      <td>0.519648</td>\n",
              "      <td>0.07074</td>\n",
              "      <td>0.155223</td>\n",
              "    </tr>\n",
              "  </tbody>\n",
              "</table>\n",
              "</div>\n",
              "      <button class=\"colab-df-convert\" onclick=\"convertToInteractive('df-8f91d3c9-caac-41bb-8c19-2729f5589860')\"\n",
              "              title=\"Convert this dataframe to an interactive table.\"\n",
              "              style=\"display:none;\">\n",
              "        \n",
              "  <svg xmlns=\"http://www.w3.org/2000/svg\" height=\"24px\"viewBox=\"0 0 24 24\"\n",
              "       width=\"24px\">\n",
              "    <path d=\"M0 0h24v24H0V0z\" fill=\"none\"/>\n",
              "    <path d=\"M18.56 5.44l.94 2.06.94-2.06 2.06-.94-2.06-.94-.94-2.06-.94 2.06-2.06.94zm-11 1L8.5 8.5l.94-2.06 2.06-.94-2.06-.94L8.5 2.5l-.94 2.06-2.06.94zm10 10l.94 2.06.94-2.06 2.06-.94-2.06-.94-.94-2.06-.94 2.06-2.06.94z\"/><path d=\"M17.41 7.96l-1.37-1.37c-.4-.4-.92-.59-1.43-.59-.52 0-1.04.2-1.43.59L10.3 9.45l-7.72 7.72c-.78.78-.78 2.05 0 2.83L4 21.41c.39.39.9.59 1.41.59.51 0 1.02-.2 1.41-.59l7.78-7.78 2.81-2.81c.8-.78.8-2.07 0-2.86zM5.41 20L4 18.59l7.72-7.72 1.47 1.35L5.41 20z\"/>\n",
              "  </svg>\n",
              "      </button>\n",
              "      \n",
              "  <style>\n",
              "    .colab-df-container {\n",
              "      display:flex;\n",
              "      flex-wrap:wrap;\n",
              "      gap: 12px;\n",
              "    }\n",
              "\n",
              "    .colab-df-convert {\n",
              "      background-color: #E8F0FE;\n",
              "      border: none;\n",
              "      border-radius: 50%;\n",
              "      cursor: pointer;\n",
              "      display: none;\n",
              "      fill: #1967D2;\n",
              "      height: 32px;\n",
              "      padding: 0 0 0 0;\n",
              "      width: 32px;\n",
              "    }\n",
              "\n",
              "    .colab-df-convert:hover {\n",
              "      background-color: #E2EBFA;\n",
              "      box-shadow: 0px 1px 2px rgba(60, 64, 67, 0.3), 0px 1px 3px 1px rgba(60, 64, 67, 0.15);\n",
              "      fill: #174EA6;\n",
              "    }\n",
              "\n",
              "    [theme=dark] .colab-df-convert {\n",
              "      background-color: #3B4455;\n",
              "      fill: #D2E3FC;\n",
              "    }\n",
              "\n",
              "    [theme=dark] .colab-df-convert:hover {\n",
              "      background-color: #434B5C;\n",
              "      box-shadow: 0px 1px 3px 1px rgba(0, 0, 0, 0.15);\n",
              "      filter: drop-shadow(0px 1px 2px rgba(0, 0, 0, 0.3));\n",
              "      fill: #FFFFFF;\n",
              "    }\n",
              "  </style>\n",
              "\n",
              "      <script>\n",
              "        const buttonEl =\n",
              "          document.querySelector('#df-8f91d3c9-caac-41bb-8c19-2729f5589860 button.colab-df-convert');\n",
              "        buttonEl.style.display =\n",
              "          google.colab.kernel.accessAllowed ? 'block' : 'none';\n",
              "\n",
              "        async function convertToInteractive(key) {\n",
              "          const element = document.querySelector('#df-8f91d3c9-caac-41bb-8c19-2729f5589860');\n",
              "          const dataTable =\n",
              "            await google.colab.kernel.invokeFunction('convertToInteractive',\n",
              "                                                     [key], {});\n",
              "          if (!dataTable) return;\n",
              "\n",
              "          const docLinkHtml = 'Like what you see? Visit the ' +\n",
              "            '<a target=\"_blank\" href=https://colab.research.google.com/notebooks/data_table.ipynb>data table notebook</a>'\n",
              "            + ' to learn more about interactive tables.';\n",
              "          element.innerHTML = '';\n",
              "          dataTable['output_type'] = 'display_data';\n",
              "          await google.colab.output.renderOutput(dataTable, element);\n",
              "          const docLink = document.createElement('div');\n",
              "          docLink.innerHTML = docLinkHtml;\n",
              "          element.appendChild(docLink);\n",
              "        }\n",
              "      </script>\n",
              "    </div>\n",
              "  </div>\n",
              "  "
            ]
          },
          "metadata": {},
          "execution_count": 14
        }
      ],
      "source": [
        "ra.Return_Ratios()"
      ]
    },
    {
      "cell_type": "markdown",
      "metadata": {
        "id": "YfnmytjQ418H"
      },
      "source": [
        "# Ciclo de Conversión de Efectivo "
      ]
    },
    {
      "cell_type": "code",
      "execution_count": 15,
      "metadata": {
        "id": "HkWWYdTVjJbW"
      },
      "outputs": [],
      "source": [
        "def CCC(ticker=''):\n",
        "\n",
        "  #Cash Convertion Cycle\n",
        "  \n",
        "  ra = FinRatioAnalysis(ticker)\n",
        "\n",
        "  avg_inventory = np.divide(ra.BalanceSheet.loc['inventory'].iloc[0] + \n",
        "                            ra.BalanceSheet.loc['inventory'].iloc[1],2)\n",
        "  \n",
        "  avg_netReceivables = np.divide(ra.BalanceSheet.loc['netReceivables'].iloc[0] + \n",
        "                                 ra.BalanceSheet.loc['netReceivables'].iloc[1],2)\n",
        "\n",
        "  avg_accountsPayable = np.divide(ra.BalanceSheet.loc['accountsPayable'].iloc[0] + \n",
        "                                  ra.BalanceSheet.loc['accountsPayable'].iloc[1],2)\n",
        "  \n",
        "\n",
        "  costOfRevenue_day = np.divide(ra.IncomeSatement.loc['costOfRevenue'].iloc[0],360)\n",
        "  \n",
        "  totalRevenue_day = np.divide(ra.IncomeSatement.loc['totalRevenue'].iloc[0],360)\n",
        "\n",
        "  DIO = np.divide(avg_inventory, costOfRevenue_day).round(5)\n",
        "  #Days of inventory outstanding DIO\n",
        "  \n",
        "  DSO = np.divide(avg_netReceivables, totalRevenue_day).round(5)\n",
        "  #Days of sales outstanding DSO\n",
        "  \n",
        "  DPO = np.divide(avg_accountsPayable, costOfRevenue_day).round(5)\n",
        "  # Days payable outstanding DPO\n",
        "  \n",
        "  CCC = DIO + DSO - DPO\n",
        "  # Cash Convertion Cycle\n",
        "  return pd.DataFrame(data=[DIO, DSO, DPO, CCC], columns=['Ultimo Periodo'], \n",
        "                      index=['DIO', 'DSO', 'DPO', 'CCC'])"
      ]
    },
    {
      "cell_type": "code",
      "execution_count": 16,
      "metadata": {
        "id": "3UO4tAP_PThp"
      },
      "outputs": [],
      "source": [
        "df = CCC('IBM')"
      ]
    },
    {
      "cell_type": "code",
      "execution_count": 17,
      "metadata": {
        "id": "wGV5jnwyFHhh"
      },
      "outputs": [],
      "source": [
        "def CCC_Anterior(ticker=''):\n",
        "\n",
        "  #Cash Convertion Cycle\n",
        "  \n",
        "  ra = FinRatioAnalysis(ticker)\n",
        "\n",
        "  avg_inventory = np.divide(ra.BalanceSheet.loc['inventory'].iloc[1] + \n",
        "                            ra.BalanceSheet.loc['inventory'].iloc[2],2)\n",
        "  \n",
        "  avg_netReceivables = np.divide(ra.BalanceSheet.loc['netReceivables'].iloc[1] + \n",
        "                                 ra.BalanceSheet.loc['netReceivables'].iloc[2],2)\n",
        "\n",
        "  avg_accountsPayable = np.divide(ra.BalanceSheet.loc['accountsPayable'].iloc[0] + \n",
        "                                  ra.BalanceSheet.loc['accountsPayable'].iloc[1],2)\n",
        "  \n",
        "\n",
        "  costOfRevenue_day = np.divide(ra.IncomeSatement.loc['costOfRevenue'].iloc[1],360)\n",
        "  \n",
        "  totalRevenue_day = np.divide(ra.IncomeSatement.loc['totalRevenue'].iloc[1],360)\n",
        "\n",
        "  DIO = np.divide(avg_inventory, costOfRevenue_day).round(5)\n",
        "  #Days of inventory outstanding DIO\n",
        "  \n",
        "  DSO = np.divide(avg_netReceivables, totalRevenue_day).round(5)\n",
        "  #Days of sales outstanding DSO\n",
        "  \n",
        "  DPO = np.divide(avg_accountsPayable, costOfRevenue_day).round(5)\n",
        "  # Days payable outstanding DPO\n",
        "  \n",
        "  CCC = DIO + DSO - DPO\n",
        "  # Cash Convertion Cycle\n",
        "  return pd.DataFrame(data=[DIO, DSO, DPO, CCC], columns=['Ultimo Anterior'], \n",
        "                      index=['DIO', 'DSO', 'DPO', 'CCC'])"
      ]
    },
    {
      "cell_type": "code",
      "execution_count": 18,
      "metadata": {
        "id": "I1vx-tk8FYrK"
      },
      "outputs": [],
      "source": [
        "df1 = CCC_Anterior('IBM')"
      ]
    },
    {
      "cell_type": "code",
      "execution_count": 19,
      "metadata": {
        "colab": {
          "base_uri": "https://localhost:8080/",
          "height": 175
        },
        "id": "NAF6dbgxFrm9",
        "outputId": "90ed35e3-d1c1-40d4-ee22-50eb23f3ac4a"
      },
      "outputs": [
        {
          "output_type": "execute_result",
          "data": {
            "text/plain": [
              "     Ultimo Periodo  Periodo Anterior  Diferencia\n",
              "DIO        24.08583          25.40018    -1.31435\n",
              "DSO        47.50222          55.38738    -7.88516\n",
              "DPO        55.59018          59.13630    -3.54612\n",
              "CCC        15.99787          21.65126    -5.65339"
            ],
            "text/html": [
              "\n",
              "  <div id=\"df-5292c421-835d-4e23-9dd5-754adabc4943\">\n",
              "    <div class=\"colab-df-container\">\n",
              "      <div>\n",
              "<style scoped>\n",
              "    .dataframe tbody tr th:only-of-type {\n",
              "        vertical-align: middle;\n",
              "    }\n",
              "\n",
              "    .dataframe tbody tr th {\n",
              "        vertical-align: top;\n",
              "    }\n",
              "\n",
              "    .dataframe thead th {\n",
              "        text-align: right;\n",
              "    }\n",
              "</style>\n",
              "<table border=\"1\" class=\"dataframe\">\n",
              "  <thead>\n",
              "    <tr style=\"text-align: right;\">\n",
              "      <th></th>\n",
              "      <th>Ultimo Periodo</th>\n",
              "      <th>Periodo Anterior</th>\n",
              "      <th>Diferencia</th>\n",
              "    </tr>\n",
              "  </thead>\n",
              "  <tbody>\n",
              "    <tr>\n",
              "      <th>DIO</th>\n",
              "      <td>24.08583</td>\n",
              "      <td>25.40018</td>\n",
              "      <td>-1.31435</td>\n",
              "    </tr>\n",
              "    <tr>\n",
              "      <th>DSO</th>\n",
              "      <td>47.50222</td>\n",
              "      <td>55.38738</td>\n",
              "      <td>-7.88516</td>\n",
              "    </tr>\n",
              "    <tr>\n",
              "      <th>DPO</th>\n",
              "      <td>55.59018</td>\n",
              "      <td>59.13630</td>\n",
              "      <td>-3.54612</td>\n",
              "    </tr>\n",
              "    <tr>\n",
              "      <th>CCC</th>\n",
              "      <td>15.99787</td>\n",
              "      <td>21.65126</td>\n",
              "      <td>-5.65339</td>\n",
              "    </tr>\n",
              "  </tbody>\n",
              "</table>\n",
              "</div>\n",
              "      <button class=\"colab-df-convert\" onclick=\"convertToInteractive('df-5292c421-835d-4e23-9dd5-754adabc4943')\"\n",
              "              title=\"Convert this dataframe to an interactive table.\"\n",
              "              style=\"display:none;\">\n",
              "        \n",
              "  <svg xmlns=\"http://www.w3.org/2000/svg\" height=\"24px\"viewBox=\"0 0 24 24\"\n",
              "       width=\"24px\">\n",
              "    <path d=\"M0 0h24v24H0V0z\" fill=\"none\"/>\n",
              "    <path d=\"M18.56 5.44l.94 2.06.94-2.06 2.06-.94-2.06-.94-.94-2.06-.94 2.06-2.06.94zm-11 1L8.5 8.5l.94-2.06 2.06-.94-2.06-.94L8.5 2.5l-.94 2.06-2.06.94zm10 10l.94 2.06.94-2.06 2.06-.94-2.06-.94-.94-2.06-.94 2.06-2.06.94z\"/><path d=\"M17.41 7.96l-1.37-1.37c-.4-.4-.92-.59-1.43-.59-.52 0-1.04.2-1.43.59L10.3 9.45l-7.72 7.72c-.78.78-.78 2.05 0 2.83L4 21.41c.39.39.9.59 1.41.59.51 0 1.02-.2 1.41-.59l7.78-7.78 2.81-2.81c.8-.78.8-2.07 0-2.86zM5.41 20L4 18.59l7.72-7.72 1.47 1.35L5.41 20z\"/>\n",
              "  </svg>\n",
              "      </button>\n",
              "      \n",
              "  <style>\n",
              "    .colab-df-container {\n",
              "      display:flex;\n",
              "      flex-wrap:wrap;\n",
              "      gap: 12px;\n",
              "    }\n",
              "\n",
              "    .colab-df-convert {\n",
              "      background-color: #E8F0FE;\n",
              "      border: none;\n",
              "      border-radius: 50%;\n",
              "      cursor: pointer;\n",
              "      display: none;\n",
              "      fill: #1967D2;\n",
              "      height: 32px;\n",
              "      padding: 0 0 0 0;\n",
              "      width: 32px;\n",
              "    }\n",
              "\n",
              "    .colab-df-convert:hover {\n",
              "      background-color: #E2EBFA;\n",
              "      box-shadow: 0px 1px 2px rgba(60, 64, 67, 0.3), 0px 1px 3px 1px rgba(60, 64, 67, 0.15);\n",
              "      fill: #174EA6;\n",
              "    }\n",
              "\n",
              "    [theme=dark] .colab-df-convert {\n",
              "      background-color: #3B4455;\n",
              "      fill: #D2E3FC;\n",
              "    }\n",
              "\n",
              "    [theme=dark] .colab-df-convert:hover {\n",
              "      background-color: #434B5C;\n",
              "      box-shadow: 0px 1px 3px 1px rgba(0, 0, 0, 0.15);\n",
              "      filter: drop-shadow(0px 1px 2px rgba(0, 0, 0, 0.3));\n",
              "      fill: #FFFFFF;\n",
              "    }\n",
              "  </style>\n",
              "\n",
              "      <script>\n",
              "        const buttonEl =\n",
              "          document.querySelector('#df-5292c421-835d-4e23-9dd5-754adabc4943 button.colab-df-convert');\n",
              "        buttonEl.style.display =\n",
              "          google.colab.kernel.accessAllowed ? 'block' : 'none';\n",
              "\n",
              "        async function convertToInteractive(key) {\n",
              "          const element = document.querySelector('#df-5292c421-835d-4e23-9dd5-754adabc4943');\n",
              "          const dataTable =\n",
              "            await google.colab.kernel.invokeFunction('convertToInteractive',\n",
              "                                                     [key], {});\n",
              "          if (!dataTable) return;\n",
              "\n",
              "          const docLinkHtml = 'Like what you see? Visit the ' +\n",
              "            '<a target=\"_blank\" href=https://colab.research.google.com/notebooks/data_table.ipynb>data table notebook</a>'\n",
              "            + ' to learn more about interactive tables.';\n",
              "          element.innerHTML = '';\n",
              "          dataTable['output_type'] = 'display_data';\n",
              "          await google.colab.output.renderOutput(dataTable, element);\n",
              "          const docLink = document.createElement('div');\n",
              "          docLink.innerHTML = docLinkHtml;\n",
              "          element.appendChild(docLink);\n",
              "        }\n",
              "      </script>\n",
              "    </div>\n",
              "  </div>\n",
              "  "
            ]
          },
          "metadata": {},
          "execution_count": 19
        }
      ],
      "source": [
        "df['Periodo Anterior'] = df1['Ultimo Anterior']\n",
        "df['Diferencia'] = df['Ultimo Periodo'] - df['Periodo Anterior']\n",
        "df"
      ]
    },
    {
      "cell_type": "markdown",
      "metadata": {
        "id": "IvBexQWW4-gp"
      },
      "source": [
        "# Administracion de Inventarios "
      ]
    },
    {
      "cell_type": "code",
      "execution_count": 20,
      "metadata": {
        "id": "f4SwRG-c5weC"
      },
      "outputs": [],
      "source": [
        "def admon_inventario (ticker=''):\n",
        "\n",
        "  ra = FinRatioAnalysis(ticker)\n",
        "\n",
        "  rotacion_inventario = np.divide(ra.IncomeSatement.loc['costOfRevenue'],\n",
        "                                ra.BalanceSheet.loc['inventory']\n",
        "                                ).to_frame('Rotacion_Inventarios')\n",
        "\n",
        "  Dias_RotacionInv = np.divide(360, \n",
        "                               rotacion_inventario['Rotacion_Inventarios']\n",
        "                               ).to_frame(name='Dias_RotacionInv')\n",
        "\n",
        "  df = pd.concat([rotacion_inventario, Dias_RotacionInv], axis=1)\n",
        "\n",
        "  return df"
      ]
    },
    {
      "cell_type": "code",
      "execution_count": 21,
      "metadata": {
        "colab": {
          "base_uri": "https://localhost:8080/",
          "height": 0
        },
        "id": "gJySks5e7hXz",
        "outputId": "72157b7d-0d8d-4578-cb7a-affe39b5a4cb"
      },
      "outputs": [
        {
          "output_type": "execute_result",
          "data": {
            "text/plain": [
              "           Rotacion_Inventarios Dias_RotacionInv\n",
              "endDate                                         \n",
              "2021-12-31            15.685264        22.951479\n",
              "2020-12-31            13.418322        26.828987\n",
              "2019-12-31            16.170476        22.262796\n",
              "2018-12-31            25.359096        14.196089"
            ],
            "text/html": [
              "\n",
              "  <div id=\"df-e2575b22-ed9b-475c-9d8f-eb1f23d0be08\">\n",
              "    <div class=\"colab-df-container\">\n",
              "      <div>\n",
              "<style scoped>\n",
              "    .dataframe tbody tr th:only-of-type {\n",
              "        vertical-align: middle;\n",
              "    }\n",
              "\n",
              "    .dataframe tbody tr th {\n",
              "        vertical-align: top;\n",
              "    }\n",
              "\n",
              "    .dataframe thead th {\n",
              "        text-align: right;\n",
              "    }\n",
              "</style>\n",
              "<table border=\"1\" class=\"dataframe\">\n",
              "  <thead>\n",
              "    <tr style=\"text-align: right;\">\n",
              "      <th></th>\n",
              "      <th>Rotacion_Inventarios</th>\n",
              "      <th>Dias_RotacionInv</th>\n",
              "    </tr>\n",
              "    <tr>\n",
              "      <th>endDate</th>\n",
              "      <th></th>\n",
              "      <th></th>\n",
              "    </tr>\n",
              "  </thead>\n",
              "  <tbody>\n",
              "    <tr>\n",
              "      <th>2021-12-31</th>\n",
              "      <td>15.685264</td>\n",
              "      <td>22.951479</td>\n",
              "    </tr>\n",
              "    <tr>\n",
              "      <th>2020-12-31</th>\n",
              "      <td>13.418322</td>\n",
              "      <td>26.828987</td>\n",
              "    </tr>\n",
              "    <tr>\n",
              "      <th>2019-12-31</th>\n",
              "      <td>16.170476</td>\n",
              "      <td>22.262796</td>\n",
              "    </tr>\n",
              "    <tr>\n",
              "      <th>2018-12-31</th>\n",
              "      <td>25.359096</td>\n",
              "      <td>14.196089</td>\n",
              "    </tr>\n",
              "  </tbody>\n",
              "</table>\n",
              "</div>\n",
              "      <button class=\"colab-df-convert\" onclick=\"convertToInteractive('df-e2575b22-ed9b-475c-9d8f-eb1f23d0be08')\"\n",
              "              title=\"Convert this dataframe to an interactive table.\"\n",
              "              style=\"display:none;\">\n",
              "        \n",
              "  <svg xmlns=\"http://www.w3.org/2000/svg\" height=\"24px\"viewBox=\"0 0 24 24\"\n",
              "       width=\"24px\">\n",
              "    <path d=\"M0 0h24v24H0V0z\" fill=\"none\"/>\n",
              "    <path d=\"M18.56 5.44l.94 2.06.94-2.06 2.06-.94-2.06-.94-.94-2.06-.94 2.06-2.06.94zm-11 1L8.5 8.5l.94-2.06 2.06-.94-2.06-.94L8.5 2.5l-.94 2.06-2.06.94zm10 10l.94 2.06.94-2.06 2.06-.94-2.06-.94-.94-2.06-.94 2.06-2.06.94z\"/><path d=\"M17.41 7.96l-1.37-1.37c-.4-.4-.92-.59-1.43-.59-.52 0-1.04.2-1.43.59L10.3 9.45l-7.72 7.72c-.78.78-.78 2.05 0 2.83L4 21.41c.39.39.9.59 1.41.59.51 0 1.02-.2 1.41-.59l7.78-7.78 2.81-2.81c.8-.78.8-2.07 0-2.86zM5.41 20L4 18.59l7.72-7.72 1.47 1.35L5.41 20z\"/>\n",
              "  </svg>\n",
              "      </button>\n",
              "      \n",
              "  <style>\n",
              "    .colab-df-container {\n",
              "      display:flex;\n",
              "      flex-wrap:wrap;\n",
              "      gap: 12px;\n",
              "    }\n",
              "\n",
              "    .colab-df-convert {\n",
              "      background-color: #E8F0FE;\n",
              "      border: none;\n",
              "      border-radius: 50%;\n",
              "      cursor: pointer;\n",
              "      display: none;\n",
              "      fill: #1967D2;\n",
              "      height: 32px;\n",
              "      padding: 0 0 0 0;\n",
              "      width: 32px;\n",
              "    }\n",
              "\n",
              "    .colab-df-convert:hover {\n",
              "      background-color: #E2EBFA;\n",
              "      box-shadow: 0px 1px 2px rgba(60, 64, 67, 0.3), 0px 1px 3px 1px rgba(60, 64, 67, 0.15);\n",
              "      fill: #174EA6;\n",
              "    }\n",
              "\n",
              "    [theme=dark] .colab-df-convert {\n",
              "      background-color: #3B4455;\n",
              "      fill: #D2E3FC;\n",
              "    }\n",
              "\n",
              "    [theme=dark] .colab-df-convert:hover {\n",
              "      background-color: #434B5C;\n",
              "      box-shadow: 0px 1px 3px 1px rgba(0, 0, 0, 0.15);\n",
              "      filter: drop-shadow(0px 1px 2px rgba(0, 0, 0, 0.3));\n",
              "      fill: #FFFFFF;\n",
              "    }\n",
              "  </style>\n",
              "\n",
              "      <script>\n",
              "        const buttonEl =\n",
              "          document.querySelector('#df-e2575b22-ed9b-475c-9d8f-eb1f23d0be08 button.colab-df-convert');\n",
              "        buttonEl.style.display =\n",
              "          google.colab.kernel.accessAllowed ? 'block' : 'none';\n",
              "\n",
              "        async function convertToInteractive(key) {\n",
              "          const element = document.querySelector('#df-e2575b22-ed9b-475c-9d8f-eb1f23d0be08');\n",
              "          const dataTable =\n",
              "            await google.colab.kernel.invokeFunction('convertToInteractive',\n",
              "                                                     [key], {});\n",
              "          if (!dataTable) return;\n",
              "\n",
              "          const docLinkHtml = 'Like what you see? Visit the ' +\n",
              "            '<a target=\"_blank\" href=https://colab.research.google.com/notebooks/data_table.ipynb>data table notebook</a>'\n",
              "            + ' to learn more about interactive tables.';\n",
              "          element.innerHTML = '';\n",
              "          dataTable['output_type'] = 'display_data';\n",
              "          await google.colab.output.renderOutput(dataTable, element);\n",
              "          const docLink = document.createElement('div');\n",
              "          docLink.innerHTML = docLinkHtml;\n",
              "          element.appendChild(docLink);\n",
              "        }\n",
              "      </script>\n",
              "    </div>\n",
              "  </div>\n",
              "  "
            ]
          },
          "metadata": {},
          "execution_count": 21
        }
      ],
      "source": [
        "admon_inventario('IBM')"
      ]
    },
    {
      "cell_type": "markdown",
      "metadata": {
        "id": "S2OvrwmoCd3E"
      },
      "source": [
        "# Administracion de Cuentas por Cobrar "
      ]
    },
    {
      "cell_type": "code",
      "execution_count": 22,
      "metadata": {
        "id": "u3IXu-wFVE-e"
      },
      "outputs": [],
      "source": [
        "def cuentas_cobrar (ticker=''):\n",
        "\n",
        "  ra = FinRatioAnalysis(ticker)\n",
        "\n",
        "  sales = ra.IncomeSatement.loc['totalRevenue'].iloc[0]\n",
        "\n",
        "  avg_netReceivables = np.divide(ra.BalanceSheet.loc['netReceivables'].iloc[0] + \n",
        "                                 ra.BalanceSheet.loc['netReceivables'].iloc[1],2)\n",
        "\n",
        "  receivableTurnOver = np.divide(sales, avg_netReceivables)\n",
        "\n",
        "  velocidad_cobro = np.divide(360, receivableTurnOver)\n",
        "\n",
        "  return pd.DataFrame(data=[receivableTurnOver.round(5), velocidad_cobro.round(5)], \n",
        "                      columns=['Periodo en Curso'],\n",
        "                      index=['receivableTurnOver', 'velocidad_cobro'])\n",
        "  "
      ]
    },
    {
      "cell_type": "code",
      "execution_count": 23,
      "metadata": {
        "colab": {
          "base_uri": "https://localhost:8080/",
          "height": 0
        },
        "id": "yKpvzVqbiZ3P",
        "outputId": "a5970f3d-b2d1-48bd-9479-c0c867a50ceb"
      },
      "outputs": [
        {
          "output_type": "execute_result",
          "data": {
            "text/plain": [
              "                    Periodo en Curso\n",
              "receivableTurnOver           7.57859\n",
              "velocidad_cobro             47.50222"
            ],
            "text/html": [
              "\n",
              "  <div id=\"df-543c438e-edcc-481f-a9e0-a6c06f705775\">\n",
              "    <div class=\"colab-df-container\">\n",
              "      <div>\n",
              "<style scoped>\n",
              "    .dataframe tbody tr th:only-of-type {\n",
              "        vertical-align: middle;\n",
              "    }\n",
              "\n",
              "    .dataframe tbody tr th {\n",
              "        vertical-align: top;\n",
              "    }\n",
              "\n",
              "    .dataframe thead th {\n",
              "        text-align: right;\n",
              "    }\n",
              "</style>\n",
              "<table border=\"1\" class=\"dataframe\">\n",
              "  <thead>\n",
              "    <tr style=\"text-align: right;\">\n",
              "      <th></th>\n",
              "      <th>Periodo en Curso</th>\n",
              "    </tr>\n",
              "  </thead>\n",
              "  <tbody>\n",
              "    <tr>\n",
              "      <th>receivableTurnOver</th>\n",
              "      <td>7.57859</td>\n",
              "    </tr>\n",
              "    <tr>\n",
              "      <th>velocidad_cobro</th>\n",
              "      <td>47.50222</td>\n",
              "    </tr>\n",
              "  </tbody>\n",
              "</table>\n",
              "</div>\n",
              "      <button class=\"colab-df-convert\" onclick=\"convertToInteractive('df-543c438e-edcc-481f-a9e0-a6c06f705775')\"\n",
              "              title=\"Convert this dataframe to an interactive table.\"\n",
              "              style=\"display:none;\">\n",
              "        \n",
              "  <svg xmlns=\"http://www.w3.org/2000/svg\" height=\"24px\"viewBox=\"0 0 24 24\"\n",
              "       width=\"24px\">\n",
              "    <path d=\"M0 0h24v24H0V0z\" fill=\"none\"/>\n",
              "    <path d=\"M18.56 5.44l.94 2.06.94-2.06 2.06-.94-2.06-.94-.94-2.06-.94 2.06-2.06.94zm-11 1L8.5 8.5l.94-2.06 2.06-.94-2.06-.94L8.5 2.5l-.94 2.06-2.06.94zm10 10l.94 2.06.94-2.06 2.06-.94-2.06-.94-.94-2.06-.94 2.06-2.06.94z\"/><path d=\"M17.41 7.96l-1.37-1.37c-.4-.4-.92-.59-1.43-.59-.52 0-1.04.2-1.43.59L10.3 9.45l-7.72 7.72c-.78.78-.78 2.05 0 2.83L4 21.41c.39.39.9.59 1.41.59.51 0 1.02-.2 1.41-.59l7.78-7.78 2.81-2.81c.8-.78.8-2.07 0-2.86zM5.41 20L4 18.59l7.72-7.72 1.47 1.35L5.41 20z\"/>\n",
              "  </svg>\n",
              "      </button>\n",
              "      \n",
              "  <style>\n",
              "    .colab-df-container {\n",
              "      display:flex;\n",
              "      flex-wrap:wrap;\n",
              "      gap: 12px;\n",
              "    }\n",
              "\n",
              "    .colab-df-convert {\n",
              "      background-color: #E8F0FE;\n",
              "      border: none;\n",
              "      border-radius: 50%;\n",
              "      cursor: pointer;\n",
              "      display: none;\n",
              "      fill: #1967D2;\n",
              "      height: 32px;\n",
              "      padding: 0 0 0 0;\n",
              "      width: 32px;\n",
              "    }\n",
              "\n",
              "    .colab-df-convert:hover {\n",
              "      background-color: #E2EBFA;\n",
              "      box-shadow: 0px 1px 2px rgba(60, 64, 67, 0.3), 0px 1px 3px 1px rgba(60, 64, 67, 0.15);\n",
              "      fill: #174EA6;\n",
              "    }\n",
              "\n",
              "    [theme=dark] .colab-df-convert {\n",
              "      background-color: #3B4455;\n",
              "      fill: #D2E3FC;\n",
              "    }\n",
              "\n",
              "    [theme=dark] .colab-df-convert:hover {\n",
              "      background-color: #434B5C;\n",
              "      box-shadow: 0px 1px 3px 1px rgba(0, 0, 0, 0.15);\n",
              "      filter: drop-shadow(0px 1px 2px rgba(0, 0, 0, 0.3));\n",
              "      fill: #FFFFFF;\n",
              "    }\n",
              "  </style>\n",
              "\n",
              "      <script>\n",
              "        const buttonEl =\n",
              "          document.querySelector('#df-543c438e-edcc-481f-a9e0-a6c06f705775 button.colab-df-convert');\n",
              "        buttonEl.style.display =\n",
              "          google.colab.kernel.accessAllowed ? 'block' : 'none';\n",
              "\n",
              "        async function convertToInteractive(key) {\n",
              "          const element = document.querySelector('#df-543c438e-edcc-481f-a9e0-a6c06f705775');\n",
              "          const dataTable =\n",
              "            await google.colab.kernel.invokeFunction('convertToInteractive',\n",
              "                                                     [key], {});\n",
              "          if (!dataTable) return;\n",
              "\n",
              "          const docLinkHtml = 'Like what you see? Visit the ' +\n",
              "            '<a target=\"_blank\" href=https://colab.research.google.com/notebooks/data_table.ipynb>data table notebook</a>'\n",
              "            + ' to learn more about interactive tables.';\n",
              "          element.innerHTML = '';\n",
              "          dataTable['output_type'] = 'display_data';\n",
              "          await google.colab.output.renderOutput(dataTable, element);\n",
              "          const docLink = document.createElement('div');\n",
              "          docLink.innerHTML = docLinkHtml;\n",
              "          element.appendChild(docLink);\n",
              "        }\n",
              "      </script>\n",
              "    </div>\n",
              "  </div>\n",
              "  "
            ]
          },
          "metadata": {},
          "execution_count": 23
        }
      ],
      "source": [
        "cuentas_cobrar('IBM')"
      ]
    },
    {
      "cell_type": "markdown",
      "metadata": {
        "id": "C9xq9K7ZoUb-"
      },
      "source": [
        "# Administración de Cuentas por Pagar "
      ]
    },
    {
      "cell_type": "code",
      "execution_count": 24,
      "metadata": {
        "id": "c5v6psUXo8jf"
      },
      "outputs": [],
      "source": [
        "def cuentas_pagar(ticker=''):\n",
        "\n",
        "  ra = FinRatioAnalysis(ticker)\n",
        "\n",
        "  cost_goods = ra.IncomeSatement.loc['costOfRevenue'].iloc[0]\n",
        "\n",
        "  avg_accountsPayable = np.divide(ra.BalanceSheet.loc['accountsPayable'].iloc[0] + \n",
        "                                  ra.BalanceSheet.loc['accountsPayable'].iloc[1],2)\n",
        "  \n",
        "  compras_credito = np.divide(cost_goods, avg_accountsPayable)\n",
        "  \n",
        "  velocidad_pago = np.divide(360, compras_credito)\n",
        "\n",
        "  return pd.DataFrame(data=[compras_credito.round(5),\n",
        "                            velocidad_pago.round(5)],\n",
        "                      columns=['Periodo en Curso'],\n",
        "                      index=['compras_credito', 'velocidad_pago'])"
      ]
    },
    {
      "cell_type": "code",
      "execution_count": 25,
      "metadata": {
        "colab": {
          "base_uri": "https://localhost:8080/",
          "height": 0
        },
        "id": "-4tDLxIusSaX",
        "outputId": "35f5aaa6-7784-42ea-c001-a88a758bc387"
      },
      "outputs": [
        {
          "output_type": "execute_result",
          "data": {
            "text/plain": [
              "                 Periodo en Curso\n",
              "compras_credito           6.47596\n",
              "velocidad_pago           55.59018"
            ],
            "text/html": [
              "\n",
              "  <div id=\"df-29354a2a-953c-48e5-b67f-d2116daf6fbc\">\n",
              "    <div class=\"colab-df-container\">\n",
              "      <div>\n",
              "<style scoped>\n",
              "    .dataframe tbody tr th:only-of-type {\n",
              "        vertical-align: middle;\n",
              "    }\n",
              "\n",
              "    .dataframe tbody tr th {\n",
              "        vertical-align: top;\n",
              "    }\n",
              "\n",
              "    .dataframe thead th {\n",
              "        text-align: right;\n",
              "    }\n",
              "</style>\n",
              "<table border=\"1\" class=\"dataframe\">\n",
              "  <thead>\n",
              "    <tr style=\"text-align: right;\">\n",
              "      <th></th>\n",
              "      <th>Periodo en Curso</th>\n",
              "    </tr>\n",
              "  </thead>\n",
              "  <tbody>\n",
              "    <tr>\n",
              "      <th>compras_credito</th>\n",
              "      <td>6.47596</td>\n",
              "    </tr>\n",
              "    <tr>\n",
              "      <th>velocidad_pago</th>\n",
              "      <td>55.59018</td>\n",
              "    </tr>\n",
              "  </tbody>\n",
              "</table>\n",
              "</div>\n",
              "      <button class=\"colab-df-convert\" onclick=\"convertToInteractive('df-29354a2a-953c-48e5-b67f-d2116daf6fbc')\"\n",
              "              title=\"Convert this dataframe to an interactive table.\"\n",
              "              style=\"display:none;\">\n",
              "        \n",
              "  <svg xmlns=\"http://www.w3.org/2000/svg\" height=\"24px\"viewBox=\"0 0 24 24\"\n",
              "       width=\"24px\">\n",
              "    <path d=\"M0 0h24v24H0V0z\" fill=\"none\"/>\n",
              "    <path d=\"M18.56 5.44l.94 2.06.94-2.06 2.06-.94-2.06-.94-.94-2.06-.94 2.06-2.06.94zm-11 1L8.5 8.5l.94-2.06 2.06-.94-2.06-.94L8.5 2.5l-.94 2.06-2.06.94zm10 10l.94 2.06.94-2.06 2.06-.94-2.06-.94-.94-2.06-.94 2.06-2.06.94z\"/><path d=\"M17.41 7.96l-1.37-1.37c-.4-.4-.92-.59-1.43-.59-.52 0-1.04.2-1.43.59L10.3 9.45l-7.72 7.72c-.78.78-.78 2.05 0 2.83L4 21.41c.39.39.9.59 1.41.59.51 0 1.02-.2 1.41-.59l7.78-7.78 2.81-2.81c.8-.78.8-2.07 0-2.86zM5.41 20L4 18.59l7.72-7.72 1.47 1.35L5.41 20z\"/>\n",
              "  </svg>\n",
              "      </button>\n",
              "      \n",
              "  <style>\n",
              "    .colab-df-container {\n",
              "      display:flex;\n",
              "      flex-wrap:wrap;\n",
              "      gap: 12px;\n",
              "    }\n",
              "\n",
              "    .colab-df-convert {\n",
              "      background-color: #E8F0FE;\n",
              "      border: none;\n",
              "      border-radius: 50%;\n",
              "      cursor: pointer;\n",
              "      display: none;\n",
              "      fill: #1967D2;\n",
              "      height: 32px;\n",
              "      padding: 0 0 0 0;\n",
              "      width: 32px;\n",
              "    }\n",
              "\n",
              "    .colab-df-convert:hover {\n",
              "      background-color: #E2EBFA;\n",
              "      box-shadow: 0px 1px 2px rgba(60, 64, 67, 0.3), 0px 1px 3px 1px rgba(60, 64, 67, 0.15);\n",
              "      fill: #174EA6;\n",
              "    }\n",
              "\n",
              "    [theme=dark] .colab-df-convert {\n",
              "      background-color: #3B4455;\n",
              "      fill: #D2E3FC;\n",
              "    }\n",
              "\n",
              "    [theme=dark] .colab-df-convert:hover {\n",
              "      background-color: #434B5C;\n",
              "      box-shadow: 0px 1px 3px 1px rgba(0, 0, 0, 0.15);\n",
              "      filter: drop-shadow(0px 1px 2px rgba(0, 0, 0, 0.3));\n",
              "      fill: #FFFFFF;\n",
              "    }\n",
              "  </style>\n",
              "\n",
              "      <script>\n",
              "        const buttonEl =\n",
              "          document.querySelector('#df-29354a2a-953c-48e5-b67f-d2116daf6fbc button.colab-df-convert');\n",
              "        buttonEl.style.display =\n",
              "          google.colab.kernel.accessAllowed ? 'block' : 'none';\n",
              "\n",
              "        async function convertToInteractive(key) {\n",
              "          const element = document.querySelector('#df-29354a2a-953c-48e5-b67f-d2116daf6fbc');\n",
              "          const dataTable =\n",
              "            await google.colab.kernel.invokeFunction('convertToInteractive',\n",
              "                                                     [key], {});\n",
              "          if (!dataTable) return;\n",
              "\n",
              "          const docLinkHtml = 'Like what you see? Visit the ' +\n",
              "            '<a target=\"_blank\" href=https://colab.research.google.com/notebooks/data_table.ipynb>data table notebook</a>'\n",
              "            + ' to learn more about interactive tables.';\n",
              "          element.innerHTML = '';\n",
              "          dataTable['output_type'] = 'display_data';\n",
              "          await google.colab.output.renderOutput(dataTable, element);\n",
              "          const docLink = document.createElement('div');\n",
              "          docLink.innerHTML = docLinkHtml;\n",
              "          element.appendChild(docLink);\n",
              "        }\n",
              "      </script>\n",
              "    </div>\n",
              "  </div>\n",
              "  "
            ]
          },
          "metadata": {},
          "execution_count": 25
        }
      ],
      "source": [
        "cuentas_pagar('IBM')"
      ]
    },
    {
      "cell_type": "markdown",
      "metadata": {
        "id": "F1JHyMpgVDhL"
      },
      "source": [
        "# Administración de Pasivo Circulante "
      ]
    },
    {
      "cell_type": "code",
      "execution_count": 26,
      "metadata": {
        "colab": {
          "base_uri": "https://localhost:8080/",
          "height": 0
        },
        "id": "3JLIjfQ2VYtk",
        "outputId": "00a90817-b7ee-45a0-801f-08676c3e146d"
      },
      "outputs": [
        {
          "output_type": "execute_result",
          "data": {
            "text/plain": [
              "            current_liab_rat\n",
              "endDate                     \n",
              "2021-12-31          0.297500\n",
              "2020-12-31          0.294791\n",
              "2019-12-31          0.287353\n",
              "2018-12-31          0.359101"
            ],
            "text/html": [
              "\n",
              "  <div id=\"df-2a2505b4-e863-41ff-a862-fa212df47350\">\n",
              "    <div class=\"colab-df-container\">\n",
              "      <div>\n",
              "<style scoped>\n",
              "    .dataframe tbody tr th:only-of-type {\n",
              "        vertical-align: middle;\n",
              "    }\n",
              "\n",
              "    .dataframe tbody tr th {\n",
              "        vertical-align: top;\n",
              "    }\n",
              "\n",
              "    .dataframe thead th {\n",
              "        text-align: right;\n",
              "    }\n",
              "</style>\n",
              "<table border=\"1\" class=\"dataframe\">\n",
              "  <thead>\n",
              "    <tr style=\"text-align: right;\">\n",
              "      <th></th>\n",
              "      <th>current_liab_rat</th>\n",
              "    </tr>\n",
              "    <tr>\n",
              "      <th>endDate</th>\n",
              "      <th></th>\n",
              "    </tr>\n",
              "  </thead>\n",
              "  <tbody>\n",
              "    <tr>\n",
              "      <th>2021-12-31</th>\n",
              "      <td>0.297500</td>\n",
              "    </tr>\n",
              "    <tr>\n",
              "      <th>2020-12-31</th>\n",
              "      <td>0.294791</td>\n",
              "    </tr>\n",
              "    <tr>\n",
              "      <th>2019-12-31</th>\n",
              "      <td>0.287353</td>\n",
              "    </tr>\n",
              "    <tr>\n",
              "      <th>2018-12-31</th>\n",
              "      <td>0.359101</td>\n",
              "    </tr>\n",
              "  </tbody>\n",
              "</table>\n",
              "</div>\n",
              "      <button class=\"colab-df-convert\" onclick=\"convertToInteractive('df-2a2505b4-e863-41ff-a862-fa212df47350')\"\n",
              "              title=\"Convert this dataframe to an interactive table.\"\n",
              "              style=\"display:none;\">\n",
              "        \n",
              "  <svg xmlns=\"http://www.w3.org/2000/svg\" height=\"24px\"viewBox=\"0 0 24 24\"\n",
              "       width=\"24px\">\n",
              "    <path d=\"M0 0h24v24H0V0z\" fill=\"none\"/>\n",
              "    <path d=\"M18.56 5.44l.94 2.06.94-2.06 2.06-.94-2.06-.94-.94-2.06-.94 2.06-2.06.94zm-11 1L8.5 8.5l.94-2.06 2.06-.94-2.06-.94L8.5 2.5l-.94 2.06-2.06.94zm10 10l.94 2.06.94-2.06 2.06-.94-2.06-.94-.94-2.06-.94 2.06-2.06.94z\"/><path d=\"M17.41 7.96l-1.37-1.37c-.4-.4-.92-.59-1.43-.59-.52 0-1.04.2-1.43.59L10.3 9.45l-7.72 7.72c-.78.78-.78 2.05 0 2.83L4 21.41c.39.39.9.59 1.41.59.51 0 1.02-.2 1.41-.59l7.78-7.78 2.81-2.81c.8-.78.8-2.07 0-2.86zM5.41 20L4 18.59l7.72-7.72 1.47 1.35L5.41 20z\"/>\n",
              "  </svg>\n",
              "      </button>\n",
              "      \n",
              "  <style>\n",
              "    .colab-df-container {\n",
              "      display:flex;\n",
              "      flex-wrap:wrap;\n",
              "      gap: 12px;\n",
              "    }\n",
              "\n",
              "    .colab-df-convert {\n",
              "      background-color: #E8F0FE;\n",
              "      border: none;\n",
              "      border-radius: 50%;\n",
              "      cursor: pointer;\n",
              "      display: none;\n",
              "      fill: #1967D2;\n",
              "      height: 32px;\n",
              "      padding: 0 0 0 0;\n",
              "      width: 32px;\n",
              "    }\n",
              "\n",
              "    .colab-df-convert:hover {\n",
              "      background-color: #E2EBFA;\n",
              "      box-shadow: 0px 1px 2px rgba(60, 64, 67, 0.3), 0px 1px 3px 1px rgba(60, 64, 67, 0.15);\n",
              "      fill: #174EA6;\n",
              "    }\n",
              "\n",
              "    [theme=dark] .colab-df-convert {\n",
              "      background-color: #3B4455;\n",
              "      fill: #D2E3FC;\n",
              "    }\n",
              "\n",
              "    [theme=dark] .colab-df-convert:hover {\n",
              "      background-color: #434B5C;\n",
              "      box-shadow: 0px 1px 3px 1px rgba(0, 0, 0, 0.15);\n",
              "      filter: drop-shadow(0px 1px 2px rgba(0, 0, 0, 0.3));\n",
              "      fill: #FFFFFF;\n",
              "    }\n",
              "  </style>\n",
              "\n",
              "      <script>\n",
              "        const buttonEl =\n",
              "          document.querySelector('#df-2a2505b4-e863-41ff-a862-fa212df47350 button.colab-df-convert');\n",
              "        buttonEl.style.display =\n",
              "          google.colab.kernel.accessAllowed ? 'block' : 'none';\n",
              "\n",
              "        async function convertToInteractive(key) {\n",
              "          const element = document.querySelector('#df-2a2505b4-e863-41ff-a862-fa212df47350');\n",
              "          const dataTable =\n",
              "            await google.colab.kernel.invokeFunction('convertToInteractive',\n",
              "                                                     [key], {});\n",
              "          if (!dataTable) return;\n",
              "\n",
              "          const docLinkHtml = 'Like what you see? Visit the ' +\n",
              "            '<a target=\"_blank\" href=https://colab.research.google.com/notebooks/data_table.ipynb>data table notebook</a>'\n",
              "            + ' to learn more about interactive tables.';\n",
              "          element.innerHTML = '';\n",
              "          dataTable['output_type'] = 'display_data';\n",
              "          await google.colab.output.renderOutput(dataTable, element);\n",
              "          const docLink = document.createElement('div');\n",
              "          docLink.innerHTML = docLinkHtml;\n",
              "          element.appendChild(docLink);\n",
              "        }\n",
              "      </script>\n",
              "    </div>\n",
              "  </div>\n",
              "  "
            ]
          },
          "metadata": {},
          "execution_count": 26
        }
      ],
      "source": [
        "current_liab_rat = np.divide(ra.BalanceSheet.loc['totalCurrentLiabilities']\n",
        "                             ,ra.BalanceSheet.loc['totalLiab'])\n",
        "\n",
        "current_liab_rat.to_frame(name='current_liab_rat')"
      ]
    },
    {
      "cell_type": "markdown",
      "metadata": {
        "id": "V0pXPnpWtORC"
      },
      "source": [
        "# WACC"
      ]
    },
    {
      "cell_type": "code",
      "source": [
        "def WACC(ticker=''):\n",
        "\n",
        "  ra = FinRatioAnalysis(ticker)\n",
        "\n",
        "  #Capitalizacion de mercado \n",
        "  info = ip.get_stock_information(stock=ticker, country='united states')\n",
        "  market_cap = info['Market Cap'].values\n",
        "\n",
        "  #Deuda total \n",
        "  total_debt = ra.BalanceSheet.loc['longTermDebt'] + ra.BalanceSheet.loc['shortLongTermDebt']\n",
        "  total_debt = (total_debt[0] + total_debt[1]) / 2\n",
        "\n",
        "  weight_equity = market_cap / (total_debt + market_cap)\n",
        "  weight_debt = total_debt / (total_debt + market_cap)\n",
        "\n",
        "  #Tasa libre de riesgo \n",
        "  bond = ip.get_bond_recent_data(bond='U.S. 10Y')\n",
        "  risk_free = np.divide(bond.iloc[0,-1], 100)\n",
        "  \n",
        "  #Beta\n",
        "  beta = info['Beta']\n",
        "\n",
        "  # Definicion rentabilidad del mercado a 10 años\n",
        "  tday = datetime.date.today()\n",
        "  tdelta = datetime.timedelta(days=252*10)\n",
        "  ytday_10 = tday - tdelta\n",
        "\n",
        "  # Importar datos de mercado\n",
        "  sp_data = yf.get_data(ticker='SPY', start_date=ytday_10)\n",
        "  sp_data = sp_data['adjclose']\n",
        "\n",
        "  # Retorno logaritmmico y covarianza del mercado  \n",
        "  log_return_sp = np.log(1 + sp_data.pct_change()).to_frame()\n",
        "  cov_sp = log_return_sp.cov()*252\n",
        "  cov_sp = cov_sp.iloc[0]\n",
        "\n",
        "  # Retorno medio del mercado - tasa libre de riesgo\n",
        "  risk_premium = (log_return_sp.mean()*252) - risk_free\n",
        "  risk_premium = risk_premium.values\n",
        "\n",
        "  capm = risk_free + beta * risk_premium\n",
        "  \n",
        "  # Costo de la deuda\n",
        "  cost_debt = (ra.IncomeSatement.loc['interestExpense'][0] / total_debt)\n",
        "\n",
        "  #Impuestos\n",
        "  tax_rate = np.divide(ra.IncomeSatement.loc['incomeTaxExpense'], \n",
        "                     ra.IncomeSatement.loc['netIncome'])\n",
        "  tax_rate = tax_rate[0]\n",
        "\n",
        "  wacc = round((weight_equity * capm) + (weight_debt * cost_debt * (1-tax_rate)), 5)\n",
        "\n",
        "  return round(wacc[0], 5)\n"
      ],
      "metadata": {
        "id": "bjPTU9HOPTgg"
      },
      "execution_count": 88,
      "outputs": []
    },
    {
      "cell_type": "code",
      "source": [
        "WACC('IBM')"
      ],
      "metadata": {
        "colab": {
          "base_uri": "https://localhost:8080/"
        },
        "id": "jlK2BaWdpHae",
        "outputId": "c35ce1d7-4369-4b81-8cb4-c0d4f446c50e"
      },
      "execution_count": 89,
      "outputs": [
        {
          "output_type": "execute_result",
          "data": {
            "text/plain": [
              "0.07788"
            ]
          },
          "metadata": {},
          "execution_count": 89
        }
      ]
    },
    {
      "cell_type": "markdown",
      "source": [
        "# CAPM"
      ],
      "metadata": {
        "id": "qrCOvjOvfC5D"
      }
    },
    {
      "cell_type": "code",
      "source": [
        "def CAPM (ticker=''): \n",
        "\n",
        "  ra = FinRatioAnalysis(ticker)\n",
        "  info = ip.get_stock_information(stock=ticker, country='united states')\n",
        "  #Tasa libre de riesgo \n",
        "  bond = ip.get_bond_recent_data(bond='U.S. 10Y')\n",
        "  risk_free = np.divide(bond.iloc[0,-1], 100)\n",
        "  \n",
        "  #Beta\n",
        "  beta = info['Beta']\n",
        "\n",
        "  # Definicion rentabilidad del mercado a 10 años\n",
        "  tday = datetime.date.today()\n",
        "  tdelta = datetime.timedelta(days=252*10)\n",
        "  ytday_10 = tday - tdelta\n",
        "\n",
        "  # Importar datos de mercado\n",
        "  sp_data = yf.get_data(ticker='SPY', start_date=ytday_10)\n",
        "  sp_data = sp_data['adjclose']\n",
        "\n",
        "  # Retorno logaritmmico y covarianza del mercado  \n",
        "  log_return_sp = np.log(1 + sp_data.pct_change()).to_frame()\n",
        "  cov_sp = log_return_sp.cov()*252\n",
        "  cov_sp = cov_sp.iloc[0]\n",
        "\n",
        "  # Retorno medio del mercado - tasa libre de riesgo\n",
        "  risk_premium = (log_return_sp.mean()*252) - risk_free\n",
        "  risk_premium = risk_premium.values\n",
        "\n",
        "  capm = risk_free + beta * risk_premium\n",
        "\n",
        "  return round(capm[0], 5)\n",
        "  \n"
      ],
      "metadata": {
        "id": "7q0ryzEEscQ-"
      },
      "execution_count": 85,
      "outputs": []
    },
    {
      "cell_type": "code",
      "source": [
        "CAPM('ibm')"
      ],
      "metadata": {
        "colab": {
          "base_uri": "https://localhost:8080/"
        },
        "id": "fPf2h7QBv6iD",
        "outputId": "cd8070e5-bd05-4f77-b054-ec88aac10c0f"
      },
      "execution_count": 86,
      "outputs": [
        {
          "output_type": "execute_result",
          "data": {
            "text/plain": [
              "0.12307"
            ]
          },
          "metadata": {},
          "execution_count": 86
        }
      ]
    },
    {
      "cell_type": "markdown",
      "source": [
        "# TIR y VPN"
      ],
      "metadata": {
        "id": "cQzsphfgU9om"
      }
    },
    {
      "cell_type": "code",
      "source": [
        "datos = {'Flujo de Caja': [-11600,-650000,50500,123250,125320,135400,\n",
        "                           185450,190500,195000,200000]}\n",
        "df = pd.DataFrame(data= datos)\n",
        "df"
      ],
      "metadata": {
        "colab": {
          "base_uri": "https://localhost:8080/",
          "height": 0
        },
        "id": "lWoG-7cqVcsj",
        "outputId": "66ccca2c-2727-42b4-a257-c50f05c63582"
      },
      "execution_count": 42,
      "outputs": [
        {
          "output_type": "execute_result",
          "data": {
            "text/plain": [
              "   Flujo de Caja\n",
              "0         -11600\n",
              "1        -650000\n",
              "2          50500\n",
              "3         123250\n",
              "4         125320\n",
              "5         135400\n",
              "6         185450\n",
              "7         190500\n",
              "8         195000\n",
              "9         200000"
            ],
            "text/html": [
              "\n",
              "  <div id=\"df-18785659-bed5-4f66-9b3a-9fcc3cd165d9\">\n",
              "    <div class=\"colab-df-container\">\n",
              "      <div>\n",
              "<style scoped>\n",
              "    .dataframe tbody tr th:only-of-type {\n",
              "        vertical-align: middle;\n",
              "    }\n",
              "\n",
              "    .dataframe tbody tr th {\n",
              "        vertical-align: top;\n",
              "    }\n",
              "\n",
              "    .dataframe thead th {\n",
              "        text-align: right;\n",
              "    }\n",
              "</style>\n",
              "<table border=\"1\" class=\"dataframe\">\n",
              "  <thead>\n",
              "    <tr style=\"text-align: right;\">\n",
              "      <th></th>\n",
              "      <th>Flujo de Caja</th>\n",
              "    </tr>\n",
              "  </thead>\n",
              "  <tbody>\n",
              "    <tr>\n",
              "      <th>0</th>\n",
              "      <td>-11600</td>\n",
              "    </tr>\n",
              "    <tr>\n",
              "      <th>1</th>\n",
              "      <td>-650000</td>\n",
              "    </tr>\n",
              "    <tr>\n",
              "      <th>2</th>\n",
              "      <td>50500</td>\n",
              "    </tr>\n",
              "    <tr>\n",
              "      <th>3</th>\n",
              "      <td>123250</td>\n",
              "    </tr>\n",
              "    <tr>\n",
              "      <th>4</th>\n",
              "      <td>125320</td>\n",
              "    </tr>\n",
              "    <tr>\n",
              "      <th>5</th>\n",
              "      <td>135400</td>\n",
              "    </tr>\n",
              "    <tr>\n",
              "      <th>6</th>\n",
              "      <td>185450</td>\n",
              "    </tr>\n",
              "    <tr>\n",
              "      <th>7</th>\n",
              "      <td>190500</td>\n",
              "    </tr>\n",
              "    <tr>\n",
              "      <th>8</th>\n",
              "      <td>195000</td>\n",
              "    </tr>\n",
              "    <tr>\n",
              "      <th>9</th>\n",
              "      <td>200000</td>\n",
              "    </tr>\n",
              "  </tbody>\n",
              "</table>\n",
              "</div>\n",
              "      <button class=\"colab-df-convert\" onclick=\"convertToInteractive('df-18785659-bed5-4f66-9b3a-9fcc3cd165d9')\"\n",
              "              title=\"Convert this dataframe to an interactive table.\"\n",
              "              style=\"display:none;\">\n",
              "        \n",
              "  <svg xmlns=\"http://www.w3.org/2000/svg\" height=\"24px\"viewBox=\"0 0 24 24\"\n",
              "       width=\"24px\">\n",
              "    <path d=\"M0 0h24v24H0V0z\" fill=\"none\"/>\n",
              "    <path d=\"M18.56 5.44l.94 2.06.94-2.06 2.06-.94-2.06-.94-.94-2.06-.94 2.06-2.06.94zm-11 1L8.5 8.5l.94-2.06 2.06-.94-2.06-.94L8.5 2.5l-.94 2.06-2.06.94zm10 10l.94 2.06.94-2.06 2.06-.94-2.06-.94-.94-2.06-.94 2.06-2.06.94z\"/><path d=\"M17.41 7.96l-1.37-1.37c-.4-.4-.92-.59-1.43-.59-.52 0-1.04.2-1.43.59L10.3 9.45l-7.72 7.72c-.78.78-.78 2.05 0 2.83L4 21.41c.39.39.9.59 1.41.59.51 0 1.02-.2 1.41-.59l7.78-7.78 2.81-2.81c.8-.78.8-2.07 0-2.86zM5.41 20L4 18.59l7.72-7.72 1.47 1.35L5.41 20z\"/>\n",
              "  </svg>\n",
              "      </button>\n",
              "      \n",
              "  <style>\n",
              "    .colab-df-container {\n",
              "      display:flex;\n",
              "      flex-wrap:wrap;\n",
              "      gap: 12px;\n",
              "    }\n",
              "\n",
              "    .colab-df-convert {\n",
              "      background-color: #E8F0FE;\n",
              "      border: none;\n",
              "      border-radius: 50%;\n",
              "      cursor: pointer;\n",
              "      display: none;\n",
              "      fill: #1967D2;\n",
              "      height: 32px;\n",
              "      padding: 0 0 0 0;\n",
              "      width: 32px;\n",
              "    }\n",
              "\n",
              "    .colab-df-convert:hover {\n",
              "      background-color: #E2EBFA;\n",
              "      box-shadow: 0px 1px 2px rgba(60, 64, 67, 0.3), 0px 1px 3px 1px rgba(60, 64, 67, 0.15);\n",
              "      fill: #174EA6;\n",
              "    }\n",
              "\n",
              "    [theme=dark] .colab-df-convert {\n",
              "      background-color: #3B4455;\n",
              "      fill: #D2E3FC;\n",
              "    }\n",
              "\n",
              "    [theme=dark] .colab-df-convert:hover {\n",
              "      background-color: #434B5C;\n",
              "      box-shadow: 0px 1px 3px 1px rgba(0, 0, 0, 0.15);\n",
              "      filter: drop-shadow(0px 1px 2px rgba(0, 0, 0, 0.3));\n",
              "      fill: #FFFFFF;\n",
              "    }\n",
              "  </style>\n",
              "\n",
              "      <script>\n",
              "        const buttonEl =\n",
              "          document.querySelector('#df-18785659-bed5-4f66-9b3a-9fcc3cd165d9 button.colab-df-convert');\n",
              "        buttonEl.style.display =\n",
              "          google.colab.kernel.accessAllowed ? 'block' : 'none';\n",
              "\n",
              "        async function convertToInteractive(key) {\n",
              "          const element = document.querySelector('#df-18785659-bed5-4f66-9b3a-9fcc3cd165d9');\n",
              "          const dataTable =\n",
              "            await google.colab.kernel.invokeFunction('convertToInteractive',\n",
              "                                                     [key], {});\n",
              "          if (!dataTable) return;\n",
              "\n",
              "          const docLinkHtml = 'Like what you see? Visit the ' +\n",
              "            '<a target=\"_blank\" href=https://colab.research.google.com/notebooks/data_table.ipynb>data table notebook</a>'\n",
              "            + ' to learn more about interactive tables.';\n",
              "          element.innerHTML = '';\n",
              "          dataTable['output_type'] = 'display_data';\n",
              "          await google.colab.output.renderOutput(dataTable, element);\n",
              "          const docLink = document.createElement('div');\n",
              "          docLink.innerHTML = docLinkHtml;\n",
              "          element.appendChild(docLink);\n",
              "        }\n",
              "      </script>\n",
              "    </div>\n",
              "  </div>\n",
              "  "
            ]
          },
          "metadata": {},
          "execution_count": 42
        }
      ]
    },
    {
      "cell_type": "code",
      "source": [
        "c = df['Flujo de Caja'][0] + df['Flujo de Caja'][1]\n",
        "n = len(df)"
      ],
      "metadata": {
        "id": "3CwPhsU8ViRs"
      },
      "execution_count": 43,
      "outputs": []
    },
    {
      "cell_type": "code",
      "source": [
        "VPN = npf.pv(fv=c, rate=wacc, nper=n, pmt=0, when='end')\n",
        "VPN.round(5)"
      ],
      "metadata": {
        "colab": {
          "base_uri": "https://localhost:8080/"
        },
        "id": "xt2ghHV_V5rw",
        "outputId": "ab5dc7ba-e4c8-4721-9f70-43ae1774b38b"
      },
      "execution_count": 44,
      "outputs": [
        {
          "output_type": "execute_result",
          "data": {
            "text/plain": [
              "403390.35223"
            ]
          },
          "metadata": {},
          "execution_count": 44
        }
      ]
    },
    {
      "cell_type": "code",
      "source": [
        "TIR = round(npf.irr(df['Flujo de Caja']), 5)\n",
        "TIR "
      ],
      "metadata": {
        "colab": {
          "base_uri": "https://localhost:8080/"
        },
        "id": "CYX4Sro0Ym5A",
        "outputId": "ed388706-cbd1-4a0d-a8a9-f12c67f707a4"
      },
      "execution_count": 45,
      "outputs": [
        {
          "output_type": "execute_result",
          "data": {
            "text/plain": [
              "0.12937"
            ]
          },
          "metadata": {},
          "execution_count": 45
        }
      ]
    }
  ],
  "metadata": {
    "colab": {
      "name": "Cash_convertion_cycle.ipynb",
      "provenance": [],
      "toc_visible": true,
      "authorship_tag": "ABX9TyNo5TZ0SRcs/0fswc9fgSeh",
      "include_colab_link": true
    },
    "kernelspec": {
      "display_name": "Python 3",
      "name": "python3"
    },
    "language_info": {
      "name": "python"
    }
  },
  "nbformat": 4,
  "nbformat_minor": 0
}