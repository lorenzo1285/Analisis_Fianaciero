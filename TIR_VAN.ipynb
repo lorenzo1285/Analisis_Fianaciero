{
  "nbformat": 4,
  "nbformat_minor": 0,
  "metadata": {
    "colab": {
      "provenance": [],
      "authorship_tag": "ABX9TyNPAiY4qNk5yhzMHFMWZJRp",
      "include_colab_link": true
    },
    "kernelspec": {
      "name": "python3",
      "display_name": "Python 3"
    },
    "language_info": {
      "name": "python"
    }
  },
  "cells": [
    {
      "cell_type": "markdown",
      "metadata": {
        "id": "view-in-github",
        "colab_type": "text"
      },
      "source": [
        "<a href=\"https://colab.research.google.com/github/lorenzo1285/Analisis_Financiero/blob/main/TIR_VAN.ipynb\" target=\"_parent\"><img src=\"https://colab.research.google.com/assets/colab-badge.svg\" alt=\"Open In Colab\"/></a>"
      ]
    },
    {
      "cell_type": "code",
      "source": [
        "pip install numpy-financial"
      ],
      "metadata": {
        "id": "fIJegZMVTrw0",
        "colab": {
          "base_uri": "https://localhost:8080/"
        },
        "outputId": "dc069605-8ed1-4357-8c85-e318c7f85e7f"
      },
      "execution_count": null,
      "outputs": [
        {
          "output_type": "stream",
          "name": "stdout",
          "text": [
            "Collecting numpy-financial\n",
            "  Downloading numpy_financial-1.0.0-py3-none-any.whl (14 kB)\n",
            "Requirement already satisfied: numpy>=1.15 in /usr/local/lib/python3.7/dist-packages (from numpy-financial) (1.21.5)\n",
            "Installing collected packages: numpy-financial\n",
            "Successfully installed numpy-financial-1.0.0\n"
          ]
        }
      ]
    },
    {
      "cell_type": "code",
      "execution_count": null,
      "metadata": {
        "id": "NJ-S0hcjPtLb"
      },
      "outputs": [],
      "source": [
        "import numpy as np\n",
        "import numpy_financial as npf\n",
        "import matplotlib.pyplot as plt\n",
        "import pandas as pd\n",
        "import seaborn as sns\n",
        "%matplotlib inline\n",
        "sns.set_style(\"whitegrid\")"
      ]
    },
    {
      "cell_type": "markdown",
      "source": [
        "¿Cuál será el valor presente de $11,600 invertidos nueve meses antes, a una tasa de 24% capitalizable mensualmente? (Valor Presente Neto / TIR)"
      ],
      "metadata": {
        "id": "mHgGWq6rT5HV"
      }
    },
    {
      "cell_type": "code",
      "source": [
        "c = -11600 # Capital \n",
        "i = .24/12 # Tasa de interes capitalizable mensualmente\n",
        "n = 9 # Numero de periodos"
      ],
      "metadata": {
        "id": "KWyA5ru3T6DW"
      },
      "execution_count": null,
      "outputs": []
    },
    {
      "cell_type": "code",
      "source": [
        "datos_1 = {'Flujo de Caja': [-11600,-650000,50500,123250,125320,135400,\n",
        "                           185450,190500,195000,200000]}\n",
        "df_1 = pd.DataFrame(data= datos_1)\n",
        "df_1"
      ],
      "metadata": {
        "colab": {
          "base_uri": "https://localhost:8080/",
          "height": 363
        },
        "id": "9nrcd8Q8fg7C",
        "outputId": "3176d463-8e3d-481e-f602-3f8b35749617"
      },
      "execution_count": null,
      "outputs": [
        {
          "output_type": "execute_result",
          "data": {
            "text/plain": [
              "   Flujo de Caja\n",
              "0         -11600\n",
              "1        -650000\n",
              "2          50500\n",
              "3         123250\n",
              "4         125320\n",
              "5         135400\n",
              "6         185450\n",
              "7         190500\n",
              "8         195000\n",
              "9         200000"
            ],
            "text/html": [
              "\n",
              "  <div id=\"df-a0a19bf4-11ea-40aa-a951-ffafaf25e19e\">\n",
              "    <div class=\"colab-df-container\">\n",
              "      <div>\n",
              "<style scoped>\n",
              "    .dataframe tbody tr th:only-of-type {\n",
              "        vertical-align: middle;\n",
              "    }\n",
              "\n",
              "    .dataframe tbody tr th {\n",
              "        vertical-align: top;\n",
              "    }\n",
              "\n",
              "    .dataframe thead th {\n",
              "        text-align: right;\n",
              "    }\n",
              "</style>\n",
              "<table border=\"1\" class=\"dataframe\">\n",
              "  <thead>\n",
              "    <tr style=\"text-align: right;\">\n",
              "      <th></th>\n",
              "      <th>Flujo de Caja</th>\n",
              "    </tr>\n",
              "  </thead>\n",
              "  <tbody>\n",
              "    <tr>\n",
              "      <th>0</th>\n",
              "      <td>-11600</td>\n",
              "    </tr>\n",
              "    <tr>\n",
              "      <th>1</th>\n",
              "      <td>-650000</td>\n",
              "    </tr>\n",
              "    <tr>\n",
              "      <th>2</th>\n",
              "      <td>50500</td>\n",
              "    </tr>\n",
              "    <tr>\n",
              "      <th>3</th>\n",
              "      <td>123250</td>\n",
              "    </tr>\n",
              "    <tr>\n",
              "      <th>4</th>\n",
              "      <td>125320</td>\n",
              "    </tr>\n",
              "    <tr>\n",
              "      <th>5</th>\n",
              "      <td>135400</td>\n",
              "    </tr>\n",
              "    <tr>\n",
              "      <th>6</th>\n",
              "      <td>185450</td>\n",
              "    </tr>\n",
              "    <tr>\n",
              "      <th>7</th>\n",
              "      <td>190500</td>\n",
              "    </tr>\n",
              "    <tr>\n",
              "      <th>8</th>\n",
              "      <td>195000</td>\n",
              "    </tr>\n",
              "    <tr>\n",
              "      <th>9</th>\n",
              "      <td>200000</td>\n",
              "    </tr>\n",
              "  </tbody>\n",
              "</table>\n",
              "</div>\n",
              "      <button class=\"colab-df-convert\" onclick=\"convertToInteractive('df-a0a19bf4-11ea-40aa-a951-ffafaf25e19e')\"\n",
              "              title=\"Convert this dataframe to an interactive table.\"\n",
              "              style=\"display:none;\">\n",
              "        \n",
              "  <svg xmlns=\"http://www.w3.org/2000/svg\" height=\"24px\"viewBox=\"0 0 24 24\"\n",
              "       width=\"24px\">\n",
              "    <path d=\"M0 0h24v24H0V0z\" fill=\"none\"/>\n",
              "    <path d=\"M18.56 5.44l.94 2.06.94-2.06 2.06-.94-2.06-.94-.94-2.06-.94 2.06-2.06.94zm-11 1L8.5 8.5l.94-2.06 2.06-.94-2.06-.94L8.5 2.5l-.94 2.06-2.06.94zm10 10l.94 2.06.94-2.06 2.06-.94-2.06-.94-.94-2.06-.94 2.06-2.06.94z\"/><path d=\"M17.41 7.96l-1.37-1.37c-.4-.4-.92-.59-1.43-.59-.52 0-1.04.2-1.43.59L10.3 9.45l-7.72 7.72c-.78.78-.78 2.05 0 2.83L4 21.41c.39.39.9.59 1.41.59.51 0 1.02-.2 1.41-.59l7.78-7.78 2.81-2.81c.8-.78.8-2.07 0-2.86zM5.41 20L4 18.59l7.72-7.72 1.47 1.35L5.41 20z\"/>\n",
              "  </svg>\n",
              "      </button>\n",
              "      \n",
              "  <style>\n",
              "    .colab-df-container {\n",
              "      display:flex;\n",
              "      flex-wrap:wrap;\n",
              "      gap: 12px;\n",
              "    }\n",
              "\n",
              "    .colab-df-convert {\n",
              "      background-color: #E8F0FE;\n",
              "      border: none;\n",
              "      border-radius: 50%;\n",
              "      cursor: pointer;\n",
              "      display: none;\n",
              "      fill: #1967D2;\n",
              "      height: 32px;\n",
              "      padding: 0 0 0 0;\n",
              "      width: 32px;\n",
              "    }\n",
              "\n",
              "    .colab-df-convert:hover {\n",
              "      background-color: #E2EBFA;\n",
              "      box-shadow: 0px 1px 2px rgba(60, 64, 67, 0.3), 0px 1px 3px 1px rgba(60, 64, 67, 0.15);\n",
              "      fill: #174EA6;\n",
              "    }\n",
              "\n",
              "    [theme=dark] .colab-df-convert {\n",
              "      background-color: #3B4455;\n",
              "      fill: #D2E3FC;\n",
              "    }\n",
              "\n",
              "    [theme=dark] .colab-df-convert:hover {\n",
              "      background-color: #434B5C;\n",
              "      box-shadow: 0px 1px 3px 1px rgba(0, 0, 0, 0.15);\n",
              "      filter: drop-shadow(0px 1px 2px rgba(0, 0, 0, 0.3));\n",
              "      fill: #FFFFFF;\n",
              "    }\n",
              "  </style>\n",
              "\n",
              "      <script>\n",
              "        const buttonEl =\n",
              "          document.querySelector('#df-a0a19bf4-11ea-40aa-a951-ffafaf25e19e button.colab-df-convert');\n",
              "        buttonEl.style.display =\n",
              "          google.colab.kernel.accessAllowed ? 'block' : 'none';\n",
              "\n",
              "        async function convertToInteractive(key) {\n",
              "          const element = document.querySelector('#df-a0a19bf4-11ea-40aa-a951-ffafaf25e19e');\n",
              "          const dataTable =\n",
              "            await google.colab.kernel.invokeFunction('convertToInteractive',\n",
              "                                                     [key], {});\n",
              "          if (!dataTable) return;\n",
              "\n",
              "          const docLinkHtml = 'Like what you see? Visit the ' +\n",
              "            '<a target=\"_blank\" href=https://colab.research.google.com/notebooks/data_table.ipynb>data table notebook</a>'\n",
              "            + ' to learn more about interactive tables.';\n",
              "          element.innerHTML = '';\n",
              "          dataTable['output_type'] = 'display_data';\n",
              "          await google.colab.output.renderOutput(dataTable, element);\n",
              "          const docLink = document.createElement('div');\n",
              "          docLink.innerHTML = docLinkHtml;\n",
              "          element.appendChild(docLink);\n",
              "        }\n",
              "      </script>\n",
              "    </div>\n",
              "  </div>\n",
              "  "
            ]
          },
          "metadata": {},
          "execution_count": 4
        }
      ]
    },
    {
      "cell_type": "code",
      "source": [
        "PV = npf.pv(fv=c, rate=i, nper=n, pmt=0, when='end')\n",
        "PV.round(5)"
      ],
      "metadata": {
        "colab": {
          "base_uri": "https://localhost:8080/"
        },
        "id": "0THZcDz2gFSP",
        "outputId": "4337d6f8-ef46-434e-ca6d-59fe34c265ea"
      },
      "execution_count": null,
      "outputs": [
        {
          "output_type": "execute_result",
          "data": {
            "text/plain": [
              "9706.36108"
            ]
          },
          "metadata": {},
          "execution_count": 5
        }
      ]
    },
    {
      "cell_type": "code",
      "source": [
        "TIR_1 = round(npf.irr(values=df_1['Flujo de Caja']),5)\n",
        "TIR_1"
      ],
      "metadata": {
        "colab": {
          "base_uri": "https://localhost:8080/"
        },
        "id": "NXjgHfjHgG07",
        "outputId": "6b745e79-483a-4afe-ee4f-2c33ea8961be"
      },
      "execution_count": null,
      "outputs": [
        {
          "output_type": "execute_result",
          "data": {
            "text/plain": [
              "0.12937"
            ]
          },
          "metadata": {},
          "execution_count": 6
        }
      ]
    },
    {
      "cell_type": "markdown",
      "source": [
        "Determinar el VAN y la TIR de una inversión cuyo flujo de caja por ocho años es el siguiente:\n",
        "\n",
        "![image.png](data:image/png;base64,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)\n",
        "\n",
        "El financiamiento en el mercado es de 7.5%. ¿Debe realizar la inversión? Argumenta tu respuesta a partir de los materiales revisados en la unidad. \n",
        "\n"
      ],
      "metadata": {
        "id": "4OtON2mvWdCJ"
      }
    },
    {
      "cell_type": "code",
      "source": [
        "datos = {'Flujo de Caja': [-650000,50500,123250,125320,135400,\n",
        "                           185450,190500,195000,200000]}\n",
        "df = pd.DataFrame(data= datos)\n",
        "df"
      ],
      "metadata": {
        "colab": {
          "base_uri": "https://localhost:8080/",
          "height": 332
        },
        "id": "kODG4FdtWeJr",
        "outputId": "4f9dbd57-ac2a-4caa-87f1-7e25e0f7a748"
      },
      "execution_count": null,
      "outputs": [
        {
          "output_type": "execute_result",
          "data": {
            "text/plain": [
              "   Flujo de Caja\n",
              "0        -650000\n",
              "1          50500\n",
              "2         123250\n",
              "3         125320\n",
              "4         135400\n",
              "5         185450\n",
              "6         190500\n",
              "7         195000\n",
              "8         200000"
            ],
            "text/html": [
              "\n",
              "  <div id=\"df-91fcff45-7e92-40ee-9b54-bc6c71a453cd\">\n",
              "    <div class=\"colab-df-container\">\n",
              "      <div>\n",
              "<style scoped>\n",
              "    .dataframe tbody tr th:only-of-type {\n",
              "        vertical-align: middle;\n",
              "    }\n",
              "\n",
              "    .dataframe tbody tr th {\n",
              "        vertical-align: top;\n",
              "    }\n",
              "\n",
              "    .dataframe thead th {\n",
              "        text-align: right;\n",
              "    }\n",
              "</style>\n",
              "<table border=\"1\" class=\"dataframe\">\n",
              "  <thead>\n",
              "    <tr style=\"text-align: right;\">\n",
              "      <th></th>\n",
              "      <th>Flujo de Caja</th>\n",
              "    </tr>\n",
              "  </thead>\n",
              "  <tbody>\n",
              "    <tr>\n",
              "      <th>0</th>\n",
              "      <td>-650000</td>\n",
              "    </tr>\n",
              "    <tr>\n",
              "      <th>1</th>\n",
              "      <td>50500</td>\n",
              "    </tr>\n",
              "    <tr>\n",
              "      <th>2</th>\n",
              "      <td>123250</td>\n",
              "    </tr>\n",
              "    <tr>\n",
              "      <th>3</th>\n",
              "      <td>125320</td>\n",
              "    </tr>\n",
              "    <tr>\n",
              "      <th>4</th>\n",
              "      <td>135400</td>\n",
              "    </tr>\n",
              "    <tr>\n",
              "      <th>5</th>\n",
              "      <td>185450</td>\n",
              "    </tr>\n",
              "    <tr>\n",
              "      <th>6</th>\n",
              "      <td>190500</td>\n",
              "    </tr>\n",
              "    <tr>\n",
              "      <th>7</th>\n",
              "      <td>195000</td>\n",
              "    </tr>\n",
              "    <tr>\n",
              "      <th>8</th>\n",
              "      <td>200000</td>\n",
              "    </tr>\n",
              "  </tbody>\n",
              "</table>\n",
              "</div>\n",
              "      <button class=\"colab-df-convert\" onclick=\"convertToInteractive('df-91fcff45-7e92-40ee-9b54-bc6c71a453cd')\"\n",
              "              title=\"Convert this dataframe to an interactive table.\"\n",
              "              style=\"display:none;\">\n",
              "        \n",
              "  <svg xmlns=\"http://www.w3.org/2000/svg\" height=\"24px\"viewBox=\"0 0 24 24\"\n",
              "       width=\"24px\">\n",
              "    <path d=\"M0 0h24v24H0V0z\" fill=\"none\"/>\n",
              "    <path d=\"M18.56 5.44l.94 2.06.94-2.06 2.06-.94-2.06-.94-.94-2.06-.94 2.06-2.06.94zm-11 1L8.5 8.5l.94-2.06 2.06-.94-2.06-.94L8.5 2.5l-.94 2.06-2.06.94zm10 10l.94 2.06.94-2.06 2.06-.94-2.06-.94-.94-2.06-.94 2.06-2.06.94z\"/><path d=\"M17.41 7.96l-1.37-1.37c-.4-.4-.92-.59-1.43-.59-.52 0-1.04.2-1.43.59L10.3 9.45l-7.72 7.72c-.78.78-.78 2.05 0 2.83L4 21.41c.39.39.9.59 1.41.59.51 0 1.02-.2 1.41-.59l7.78-7.78 2.81-2.81c.8-.78.8-2.07 0-2.86zM5.41 20L4 18.59l7.72-7.72 1.47 1.35L5.41 20z\"/>\n",
              "  </svg>\n",
              "      </button>\n",
              "      \n",
              "  <style>\n",
              "    .colab-df-container {\n",
              "      display:flex;\n",
              "      flex-wrap:wrap;\n",
              "      gap: 12px;\n",
              "    }\n",
              "\n",
              "    .colab-df-convert {\n",
              "      background-color: #E8F0FE;\n",
              "      border: none;\n",
              "      border-radius: 50%;\n",
              "      cursor: pointer;\n",
              "      display: none;\n",
              "      fill: #1967D2;\n",
              "      height: 32px;\n",
              "      padding: 0 0 0 0;\n",
              "      width: 32px;\n",
              "    }\n",
              "\n",
              "    .colab-df-convert:hover {\n",
              "      background-color: #E2EBFA;\n",
              "      box-shadow: 0px 1px 2px rgba(60, 64, 67, 0.3), 0px 1px 3px 1px rgba(60, 64, 67, 0.15);\n",
              "      fill: #174EA6;\n",
              "    }\n",
              "\n",
              "    [theme=dark] .colab-df-convert {\n",
              "      background-color: #3B4455;\n",
              "      fill: #D2E3FC;\n",
              "    }\n",
              "\n",
              "    [theme=dark] .colab-df-convert:hover {\n",
              "      background-color: #434B5C;\n",
              "      box-shadow: 0px 1px 3px 1px rgba(0, 0, 0, 0.15);\n",
              "      filter: drop-shadow(0px 1px 2px rgba(0, 0, 0, 0.3));\n",
              "      fill: #FFFFFF;\n",
              "    }\n",
              "  </style>\n",
              "\n",
              "      <script>\n",
              "        const buttonEl =\n",
              "          document.querySelector('#df-91fcff45-7e92-40ee-9b54-bc6c71a453cd button.colab-df-convert');\n",
              "        buttonEl.style.display =\n",
              "          google.colab.kernel.accessAllowed ? 'block' : 'none';\n",
              "\n",
              "        async function convertToInteractive(key) {\n",
              "          const element = document.querySelector('#df-91fcff45-7e92-40ee-9b54-bc6c71a453cd');\n",
              "          const dataTable =\n",
              "            await google.colab.kernel.invokeFunction('convertToInteractive',\n",
              "                                                     [key], {});\n",
              "          if (!dataTable) return;\n",
              "\n",
              "          const docLinkHtml = 'Like what you see? Visit the ' +\n",
              "            '<a target=\"_blank\" href=https://colab.research.google.com/notebooks/data_table.ipynb>data table notebook</a>'\n",
              "            + ' to learn more about interactive tables.';\n",
              "          element.innerHTML = '';\n",
              "          dataTable['output_type'] = 'display_data';\n",
              "          await google.colab.output.renderOutput(dataTable, element);\n",
              "          const docLink = document.createElement('div');\n",
              "          docLink.innerHTML = docLinkHtml;\n",
              "          element.appendChild(docLink);\n",
              "        }\n",
              "      </script>\n",
              "    </div>\n",
              "  </div>\n",
              "  "
            ]
          },
          "metadata": {},
          "execution_count": 7
        }
      ]
    },
    {
      "cell_type": "code",
      "source": [
        "VAN = npf.npv(rate=.075, values=df['Flujo de Caja'])\n",
        "VAN.round(5)"
      ],
      "metadata": {
        "colab": {
          "base_uri": "https://localhost:8080/"
        },
        "id": "s4Vkz6JwYWle",
        "outputId": "2d2984c2-ebbc-4e1f-93b2-fefa769f384a"
      },
      "execution_count": null,
      "outputs": [
        {
          "output_type": "execute_result",
          "data": {
            "text/plain": [
              "188185.35894"
            ]
          },
          "metadata": {},
          "execution_count": 8
        }
      ]
    },
    {
      "cell_type": "code",
      "source": [
        "# Graficando el NPV en función de la tasa de descuento\n",
        "def npv_irr(tasas):\n",
        "    result = []\n",
        "    for tasa in tasas:\n",
        "        result.append(npf.npv(tasa/100,df['Flujo de Caja']))\n",
        "    return result\n",
        "\n",
        "tasas = list(range(21))\n",
        "\n",
        "plt.title(\"NPV y la tasa de descuento\")\n",
        "plt.plot(tasas, npv_irr(tasas), marker='o', label='NPV')\n",
        "plt.axhline(0, color='red')\n",
        "axes = plt.gca()\n",
        "axes.set_ylim([(df['Flujo de Caja'].max()*-1),df['Flujo de Caja'].max()])\n",
        "plt.xticks(tasas)\n",
        "plt.legend(loc='upper right')\n",
        "plt.show()"
      ],
      "metadata": {
        "colab": {
          "base_uri": "https://localhost:8080/",
          "height": 281
        },
        "id": "9dsWtWxyeNp1",
        "outputId": "48dded73-369c-4a46-dc32-37958f4b85f5"
      },
      "execution_count": null,
      "outputs": [
        {
          "output_type": "display_data",
          "data": {
            "text/plain": [
              "<Figure size 432x288 with 1 Axes>"
            ],
            "image/png": "[encoded data removed]"
          },
          "metadata": {}
        }
      ]
    },
    {
      "cell_type": "code",
      "source": [
        "TIR = round(npf.irr(values=df['Flujo de Caja']),5)\n",
        "TIR"
      ],
      "metadata": {
        "colab": {
          "base_uri": "https://localhost:8080/"
        },
        "id": "QvIigJaLgLKU",
        "outputId": "56fc9086-3956-4520-8d9d-deccc936a6d7"
      },
      "execution_count": null,
      "outputs": [
        {
          "output_type": "execute_result",
          "data": {
            "text/plain": [
              "0.13425"
            ]
          },
          "metadata": {},
          "execution_count": 10
        }
      ]
    },
    {
      "cell_type": "code",
      "source": [
        "(TIR/.075)-1"
      ],
      "metadata": {
        "colab": {
          "base_uri": "https://localhost:8080/"
        },
        "id": "rsdH7fx6kJaB",
        "outputId": "90d06d88-1dc4-4bad-cad4-749db7872252"
      },
      "execution_count": null,
      "outputs": [
        {
          "output_type": "execute_result",
          "data": {
            "text/plain": [
              "0.7900000000000003"
            ]
          },
          "metadata": {},
          "execution_count": 11
        }
      ]
    },
    {
      "cell_type": "code",
      "source": [
        "npf.pv(rate=.12, nper=10, pmt=100, fv=1000, when='end')"
      ],
      "metadata": {
        "colab": {
          "base_uri": "https://localhost:8080/"
        },
        "id": "OpsdBeMPbs6I",
        "outputId": "32043472-1be4-45d6-806c-886101f69373"
      },
      "execution_count": null,
      "outputs": [
        {
          "output_type": "execute_result",
          "data": {
            "text/plain": [
              "-886.9955394317828"
            ]
          },
          "metadata": {},
          "execution_count": 16
        }
      ]
    },
    {
      "cell_type": "code",
      "source": [
        "npf.fv(rate=.12, nper=10, pmt=100, pv=-887, when='end')"
      ],
      "metadata": {
        "colab": {
          "base_uri": "https://localhost:8080/"
        },
        "id": "l6kFATb4gU-z",
        "outputId": "edf15406-5e32-498c-8d5b-f6b46c93f185"
      },
      "execution_count": null,
      "outputs": [
        {
          "output_type": "execute_result",
          "data": {
            "text/plain": [
              "1000.0138538478056"
            ]
          },
          "metadata": {},
          "execution_count": 17
        }
      ]
    },
    {
      "cell_type": "markdown",
      "source": [
        "\"¿Cuántos años tardara un depósito de 1,000 usd a una tasa de 8% anual, en crecer hasta $2, 500 usd?\""
      ],
      "metadata": {
        "id": "mnhoUa_YrOJL"
      }
    },
    {
      "cell_type": "code",
      "source": [
        "npf.nper(rate=.08, pv=-1000,pmt=0, fv=2500, when='end')"
      ],
      "metadata": {
        "colab": {
          "base_uri": "https://localhost:8080/"
        },
        "id": "WKPgIrourPcG",
        "outputId": "73064d92-ac97-4583-c326-d1635022b2cb"
      },
      "execution_count": null,
      "outputs": [
        {
          "output_type": "stream",
          "name": "stderr",
          "text": [
            "/usr/local/lib/python3.7/dist-packages/numpy_financial/_financial.py:296: RuntimeWarning: divide by zero encountered in long_scalars\n",
            "  A = -(fv + pv)/(pmt+0)\n"
          ]
        },
        {
          "output_type": "execute_result",
          "data": {
            "text/plain": [
              "array(11.90590354)"
            ]
          },
          "metadata": {},
          "execution_count": 23
        }
      ]
    },
    {
      "cell_type": "markdown",
      "source": [
        "\n",
        "\"Suponga que deposita $100 en su cuenta que le paga 8% capitalizable semestralmente, si el dinero lo deja 2 años ¿Cuánto tendrá al final del 2do año?\""
      ],
      "metadata": {
        "id": "2X0zYFj6sH5L"
      }
    },
    {
      "cell_type": "code",
      "source": [
        "npf.fv(rate=.04, nper=4,pmt=0, pv=-100, when='end')"
      ],
      "metadata": {
        "colab": {
          "base_uri": "https://localhost:8080/"
        },
        "id": "RxfyPLUDsG5G",
        "outputId": "57c32bc2-4899-453c-8e12-3c6846558996"
      },
      "execution_count": null,
      "outputs": [
        {
          "output_type": "execute_result",
          "data": {
            "text/plain": [
              "116.98585600000003"
            ]
          },
          "metadata": {},
          "execution_count": 22
        }
      ]
    },
    {
      "cell_type": "markdown",
      "source": [
        "\"¿Cuál es el rendimiento de una máquina de juegos \"\"El Conquistador\"\" si cuando se compró hace un año fue en 20,000 y actualmente tiene un valor de mercado de 21,500 y durante el año genero ingresos en efectivo después de impuestos por $800?\""
      ],
      "metadata": {
        "id": "maMox9gGuCsI"
      }
    },
    {
      "cell_type": "code",
      "source": [
        "datos_1 = [-20000, 800, 1500]\n",
        "npf.irr(datos_1, )"
      ],
      "metadata": {
        "colab": {
          "base_uri": "https://localhost:8080/"
        },
        "id": "Dqht-XWvuD_2",
        "outputId": "d9465f36-3245-48fb-c39c-1881b95a58a5"
      },
      "execution_count": null,
      "outputs": [
        {
          "output_type": "execute_result",
          "data": {
            "text/plain": [
              "-0.7054093956450804"
            ]
          },
          "metadata": {},
          "execution_count": 26
        }
      ]
    },
    {
      "cell_type": "code",
      "source": [
        "1500+800"
      ],
      "metadata": {
        "colab": {
          "base_uri": "https://localhost:8080/"
        },
        "id": "6MDsxTkSuumH",
        "outputId": "791d67cf-4e9c-4c5e-a316-5dc3ab42a09c"
      },
      "execution_count": null,
      "outputs": [
        {
          "output_type": "execute_result",
          "data": {
            "text/plain": [
              "2300"
            ]
          },
          "metadata": {},
          "execution_count": 27
        }
      ]
    },
    {
      "cell_type": "code",
      "source": [
        "2300/20000"
      ],
      "metadata": {
        "colab": {
          "base_uri": "https://localhost:8080/"
        },
        "id": "mT5irIFqvYHS",
        "outputId": "c23bb69a-0c53-499e-dfb3-042b99aff914"
      },
      "execution_count": null,
      "outputs": [
        {
          "output_type": "execute_result",
          "data": {
            "text/plain": [
              "0.115"
            ]
          },
          "metadata": {},
          "execution_count": 28
        }
      ]
    },
    {
      "cell_type": "markdown",
      "source": [
        "3 = .15\n",
        "\n",
        "x = 1"
      ],
      "metadata": {
        "id": "OWV79Rx1vsZc"
      }
    },
    {
      "cell_type": "code",
      "source": [
        "3/.15"
      ],
      "metadata": {
        "colab": {
          "base_uri": "https://localhost:8080/"
        },
        "id": "XK6jeIg5v28s",
        "outputId": "417b83d2-23b4-4a2c-fb3c-1d394f8889e5"
      },
      "execution_count": null,
      "outputs": [
        {
          "output_type": "execute_result",
          "data": {
            "text/plain": [
              "20.0"
            ]
          },
          "metadata": {},
          "execution_count": 29
        }
      ]
    },
    {
      "cell_type": "code",
      "source": [
        ".02/.1"
      ],
      "metadata": {
        "colab": {
          "base_uri": "https://localhost:8080/"
        },
        "id": "VNQWpM-HxQ3K",
        "outputId": "b935d83b-72d1-4e91-ed11-0f43ea16f63b"
      },
      "execution_count": null,
      "outputs": [
        {
          "output_type": "execute_result",
          "data": {
            "text/plain": [
              "0.19999999999999998"
            ]
          },
          "metadata": {},
          "execution_count": 35
        }
      ]
    }
  ]
}