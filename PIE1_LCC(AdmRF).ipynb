{
  "cells": [
    {
      "cell_type": "markdown",
      "metadata": {
        "id": "view-in-github",
        "colab_type": "text"
      },
      "source": [
        "<a href=\"https://colab.research.google.com/github/lorenzo1285/Analisis_Financiero/blob/main/PIE1_LCC(AdmRF).ipynb\" target=\"_parent\"><img src=\"https://colab.research.google.com/assets/colab-badge.svg\" alt=\"Open In Colab\"/></a>"
      ]
    },
    {
      "cell_type": "markdown",
      "metadata": {
        "id": "DyvND2g6xTr3"
      },
      "source": [
        "<h1 style=\"text-align: center;\">Actividad 3.Proyecto Integrador</h1> "
      ]
    },
    {
      "cell_type": "markdown",
      "metadata": {
        "id": "FvZIjKf5xTr6"
      },
      "source": [
        "\n",
        "<h4 style=\"text-align: center;\">Lorenzo Cárdenas Cárdenas</h4>\n",
        "<h4 style=\"text-align: center;\">Universidad del Valle de México</h4>\n",
        "<h4 style=\"text-align: center;\">Administración de Riesgos</h4>\n",
        "<h5 style=\"text-align: center;\">Docente: Mtra Clara Arechiga Alvarado</h5>\n",
        "<h4 style=\"text-align: center;\">26 de mar de 2023</h4>\n",
        "\n",
        "**Matricula:** 860131208 <br />\n",
        "La correspondiente investigación está dirigida a nombre de Lorenzo Cárdenas  Cárdenas<br /> \n",
        "La correspondencia relacionada con esta investigación debe ser dirigida a nombre de Lorenzo Cárdenas Cárdenas,  Universidad del Valle de México, Calle Tezcatlipoca 2301, Los Rodríguez, 25204 Saltillo, Coah.  Correo: a860131208@my.uvm.edu.mx"
      ]
    },
    {
      "cell_type": "markdown",
      "metadata": {
        "id": "InRns8qixTr7"
      },
      "source": [
        "# Importación de Paqueterias"
      ]
    },
    {
      "cell_type": "code",
      "execution_count": null,
      "metadata": {
        "id": "rkG0aThtxTr7"
      },
      "outputs": [],
      "source": [
        "from scipy.stats import norm\n",
        "import pandas as pd\n",
        "import numpy as np\n",
        "import matplotlib.pyplot as plt\n",
        "import seaborn as sns\n",
        "import plotly.express as px\n",
        "import pandas_datareader as pdr\n",
        "import yfinance as yf"
      ]
    },
    {
      "cell_type": "markdown",
      "metadata": {
        "id": "jvrIxMHFxTr8"
      },
      "source": [
        "# Importar Datos"
      ]
    },
    {
      "cell_type": "code",
      "execution_count": null,
      "metadata": {
        "colab": {
          "base_uri": "https://localhost:8080/"
        },
        "id": "piJveW9nxTr8",
        "outputId": "3ffd67c1-dca8-4508-c649-f7b58eeceb52"
      },
      "outputs": [
        {
          "output_type": "stream",
          "name": "stdout",
          "text": [
            "\r[*********************100%***********************]  1 of 1 completed\n"
          ]
        }
      ],
      "source": [
        "tickers = ['AAPL']\n",
        "weights = np.random.random(len(tickers))\n",
        "weights /= np.sum(weights)\n",
        "\n",
        "data = yf.download(tickers, \n",
        "                   period='1y',\n",
        "                   interval='1d',\n",
        "                   prepost=False)['Adj Close']"
      ]
    },
    {
      "cell_type": "code",
      "execution_count": null,
      "metadata": {
        "colab": {
          "base_uri": "https://localhost:8080/"
        },
        "id": "e6Ko3DXTxTr9",
        "outputId": "55233ac9-1880-4ab8-bbf5-51c691ce5d28"
      },
      "outputs": [
        {
          "output_type": "execute_result",
          "data": {
            "text/plain": [
              "Date\n",
              "2022-03-25    173.667969\n",
              "2022-03-28    174.542679\n",
              "2022-03-29    177.882446\n",
              "2022-03-30    176.699615\n",
              "2022-03-31    173.558640\n",
              "                 ...    \n",
              "2023-03-20    157.399994\n",
              "2023-03-21    159.279999\n",
              "2023-03-22    157.830002\n",
              "2023-03-23    158.929993\n",
              "2023-03-24    160.250000\n",
              "Name: Adj Close, Length: 251, dtype: float64"
            ]
          },
          "metadata": {},
          "execution_count": 3
        }
      ],
      "source": [
        "data"
      ]
    },
    {
      "cell_type": "markdown",
      "metadata": {
        "id": "LOv5cbwexTr9"
      },
      "source": [
        "Retornos "
      ]
    },
    {
      "cell_type": "code",
      "execution_count": null,
      "metadata": {
        "colab": {
          "base_uri": "https://localhost:8080/"
        },
        "id": "a4-kCEPOxTr9",
        "outputId": "d0165287-68ef-431c-86b1-3a0b867f8e65"
      },
      "outputs": [
        {
          "output_type": "execute_result",
          "data": {
            "text/plain": [
              "Date\n",
              "2022-03-28    0.005037\n",
              "2022-03-29    0.019134\n",
              "2022-03-30   -0.006650\n",
              "2022-03-31   -0.017776\n",
              "2022-04-01   -0.001718\n",
              "                ...   \n",
              "2023-03-20    0.015484\n",
              "2023-03-21    0.011944\n",
              "2023-03-22   -0.009103\n",
              "2023-03-23    0.006969\n",
              "2023-03-24    0.008306\n",
              "Name: Adj Close, Length: 250, dtype: float64"
            ]
          },
          "metadata": {},
          "execution_count": 4
        }
      ],
      "source": [
        "returns = data.pct_change().dropna()\n",
        "returns"
      ]
    },
    {
      "cell_type": "markdown",
      "metadata": {
        "id": "ek-n2BhUxTr-"
      },
      "source": [
        "## Determina las observaciones de mínimo y máximo valor en la serie de tiempo"
      ]
    },
    {
      "cell_type": "code",
      "execution_count": null,
      "metadata": {
        "id": "nSl_153oxTr-"
      },
      "outputs": [],
      "source": [
        "num_data = len(returns)\n",
        "minima = returns.min()\n",
        "maxima = returns.max()    \n",
        "rango = maxima - minima"
      ]
    },
    {
      "cell_type": "code",
      "execution_count": null,
      "metadata": {
        "colab": {
          "base_uri": "https://localhost:8080/"
        },
        "id": "8kRtAevBxTr-",
        "outputId": "6d01bf35-5cdf-41ef-b135-4655898758b4"
      },
      "outputs": [
        {
          "output_type": "stream",
          "name": "stdout",
          "text": [
            "Minima:  -0.05867957400682189 \n",
            "Maxima:  0.08897456365827372 \n",
            "Rango:  0.1476541376650956 \n",
            "Numero de datos:  250\n"
          ]
        }
      ],
      "source": [
        "print('Minima: ', minima\n",
        "      ,'\\nMaxima: ', maxima\n",
        "      ,'\\nRango: ', rango\n",
        "      ,'\\nNumero de datos: ', num_data)\n"
      ]
    },
    {
      "cell_type": "markdown",
      "metadata": {
        "id": "crlxnby3xTr-"
      },
      "source": [
        "## Elige un número de subintervalos de igual magnitud que cubra desde el mínimo hasta el máximo valor. Estos son los rangos o clases"
      ]
    },
    {
      "cell_type": "code",
      "execution_count": null,
      "metadata": {
        "colab": {
          "base_uri": "https://localhost:8080/"
        },
        "id": "KcPEwQiSxTr_",
        "outputId": "62520c45-223e-485d-d040-5fc41705da34"
      },
      "outputs": [
        {
          "output_type": "stream",
          "name": "stdout",
          "text": [
            "Amplitud:  0.018457 \n",
            "Numero de intervalos:  8\n"
          ]
        }
      ],
      "source": [
        "k = 1 + 3.322 * np.log10(num_data)\n",
        "k = int(k)\n",
        "amplitud = rango / k\n",
        "\n",
        "print('Amplitud: ', amplitud.round(6)\n",
        "      ,'\\nNumero de intervalos: ', k)"
      ]
    },
    {
      "cell_type": "markdown",
      "metadata": {
        "id": "vNB9ZmgmxTr_"
      },
      "source": [
        "## Cuenta el número de observaciones que pertenecen a cada rango o intervalo. Ésta es la frecuencia por clase"
      ]
    },
    {
      "cell_type": "code",
      "execution_count": null,
      "metadata": {
        "colab": {
          "base_uri": "https://localhost:8080/"
        },
        "id": "mlBoCWMExTr_",
        "outputId": "bb7e34af-ee84-41ea-ce88-ffd7f6e3c537"
      },
      "outputs": [
        {
          "output_type": "execute_result",
          "data": {
            "text/plain": [
              "array([-0.05867957, -0.04022281, -0.02176604, -0.00330927,  0.01514749,\n",
              "        0.03360426,  0.05206103,  0.0705178 ,  0.08897456])"
            ]
          },
          "metadata": {},
          "execution_count": 8
        }
      ],
      "source": [
        "grupos = minima + np.arange(k+1) * amplitud\n",
        "grupos"
      ]
    },
    {
      "cell_type": "code",
      "execution_count": null,
      "metadata": {
        "colab": {
          "base_uri": "https://localhost:8080/"
        },
        "id": "J6CdJvBjxTr_",
        "outputId": "d8951951-d590-4815-a7e0-ce1398cd7426"
      },
      "outputs": [
        {
          "output_type": "execute_result",
          "data": {
            "text/plain": [
              "Date\n",
              "2022-03-28     (-0.00331, 0.0151]\n",
              "2022-03-29       (0.0151, 0.0336]\n",
              "2022-03-30    (-0.0218, -0.00331]\n",
              "2022-03-31    (-0.0218, -0.00331]\n",
              "2022-04-01     (-0.00331, 0.0151]\n",
              "                     ...         \n",
              "2023-03-20       (0.0151, 0.0336]\n",
              "2023-03-21     (-0.00331, 0.0151]\n",
              "2023-03-22    (-0.0218, -0.00331]\n",
              "2023-03-23     (-0.00331, 0.0151]\n",
              "2023-03-24     (-0.00331, 0.0151]\n",
              "Name: Adj Close, Length: 250, dtype: category\n",
              "Categories (8, interval[float64, right]): [(-0.0587, -0.0402] < (-0.0402, -0.0218] <\n",
              "                                           (-0.0218, -0.00331] < (-0.00331, 0.0151] < (0.0151, 0.0336] <\n",
              "                                           (0.0336, 0.0521] < (0.0521, 0.0705] < (0.0705, 0.089]]"
            ]
          },
          "metadata": {},
          "execution_count": 9
        }
      ],
      "source": [
        "grupos = pd.cut(returns, bins=grupos)\n",
        "grupos"
      ]
    },
    {
      "cell_type": "code",
      "execution_count": null,
      "metadata": {
        "colab": {
          "base_uri": "https://localhost:8080/",
          "height": 300
        },
        "id": "uxQeo_a9xTr_",
        "outputId": "4a9b2181-e019-4dea-ce21-75c33af135ce"
      },
      "outputs": [
        {
          "output_type": "execute_result",
          "data": {
            "text/plain": [
              "                     Frecuencia\n",
              "(-0.0587, -0.0402]            6\n",
              "(-0.0402, -0.0218]           28\n",
              "(-0.0218, -0.00331]          70\n",
              "(-0.00331, 0.0151]           89\n",
              "(0.0151, 0.0336]             42\n",
              "(0.0336, 0.0521]             12\n",
              "(0.0521, 0.0705]              0\n",
              "(0.0705, 0.089]               2"
            ],
            "text/html": [
              "\n",
              "  <div id=\"df-8967e26f-9c4e-4dfd-b2fc-ee5a4e417297\">\n",
              "    <div class=\"colab-df-container\">\n",
              "      <div>\n",
              "<style scoped>\n",
              "    .dataframe tbody tr th:only-of-type {\n",
              "        vertical-align: middle;\n",
              "    }\n",
              "\n",
              "    .dataframe tbody tr th {\n",
              "        vertical-align: top;\n",
              "    }\n",
              "\n",
              "    .dataframe thead th {\n",
              "        text-align: right;\n",
              "    }\n",
              "</style>\n",
              "<table border=\"1\" class=\"dataframe\">\n",
              "  <thead>\n",
              "    <tr style=\"text-align: right;\">\n",
              "      <th></th>\n",
              "      <th>Frecuencia</th>\n",
              "    </tr>\n",
              "  </thead>\n",
              "  <tbody>\n",
              "    <tr>\n",
              "      <th>(-0.0587, -0.0402]</th>\n",
              "      <td>6</td>\n",
              "    </tr>\n",
              "    <tr>\n",
              "      <th>(-0.0402, -0.0218]</th>\n",
              "      <td>28</td>\n",
              "    </tr>\n",
              "    <tr>\n",
              "      <th>(-0.0218, -0.00331]</th>\n",
              "      <td>70</td>\n",
              "    </tr>\n",
              "    <tr>\n",
              "      <th>(-0.00331, 0.0151]</th>\n",
              "      <td>89</td>\n",
              "    </tr>\n",
              "    <tr>\n",
              "      <th>(0.0151, 0.0336]</th>\n",
              "      <td>42</td>\n",
              "    </tr>\n",
              "    <tr>\n",
              "      <th>(0.0336, 0.0521]</th>\n",
              "      <td>12</td>\n",
              "    </tr>\n",
              "    <tr>\n",
              "      <th>(0.0521, 0.0705]</th>\n",
              "      <td>0</td>\n",
              "    </tr>\n",
              "    <tr>\n",
              "      <th>(0.0705, 0.089]</th>\n",
              "      <td>2</td>\n",
              "    </tr>\n",
              "  </tbody>\n",
              "</table>\n",
              "</div>\n",
              "      <button class=\"colab-df-convert\" onclick=\"convertToInteractive('df-8967e26f-9c4e-4dfd-b2fc-ee5a4e417297')\"\n",
              "              title=\"Convert this dataframe to an interactive table.\"\n",
              "              style=\"display:none;\">\n",
              "        \n",
              "  <svg xmlns=\"http://www.w3.org/2000/svg\" height=\"24px\"viewBox=\"0 0 24 24\"\n",
              "       width=\"24px\">\n",
              "    <path d=\"M0 0h24v24H0V0z\" fill=\"none\"/>\n",
              "    <path d=\"M18.56 5.44l.94 2.06.94-2.06 2.06-.94-2.06-.94-.94-2.06-.94 2.06-2.06.94zm-11 1L8.5 8.5l.94-2.06 2.06-.94-2.06-.94L8.5 2.5l-.94 2.06-2.06.94zm10 10l.94 2.06.94-2.06 2.06-.94-2.06-.94-.94-2.06-.94 2.06-2.06.94z\"/><path d=\"M17.41 7.96l-1.37-1.37c-.4-.4-.92-.59-1.43-.59-.52 0-1.04.2-1.43.59L10.3 9.45l-7.72 7.72c-.78.78-.78 2.05 0 2.83L4 21.41c.39.39.9.59 1.41.59.51 0 1.02-.2 1.41-.59l7.78-7.78 2.81-2.81c.8-.78.8-2.07 0-2.86zM5.41 20L4 18.59l7.72-7.72 1.47 1.35L5.41 20z\"/>\n",
              "  </svg>\n",
              "      </button>\n",
              "      \n",
              "  <style>\n",
              "    .colab-df-container {\n",
              "      display:flex;\n",
              "      flex-wrap:wrap;\n",
              "      gap: 12px;\n",
              "    }\n",
              "\n",
              "    .colab-df-convert {\n",
              "      background-color: #E8F0FE;\n",
              "      border: none;\n",
              "      border-radius: 50%;\n",
              "      cursor: pointer;\n",
              "      display: none;\n",
              "      fill: #1967D2;\n",
              "      height: 32px;\n",
              "      padding: 0 0 0 0;\n",
              "      width: 32px;\n",
              "    }\n",
              "\n",
              "    .colab-df-convert:hover {\n",
              "      background-color: #E2EBFA;\n",
              "      box-shadow: 0px 1px 2px rgba(60, 64, 67, 0.3), 0px 1px 3px 1px rgba(60, 64, 67, 0.15);\n",
              "      fill: #174EA6;\n",
              "    }\n",
              "\n",
              "    [theme=dark] .colab-df-convert {\n",
              "      background-color: #3B4455;\n",
              "      fill: #D2E3FC;\n",
              "    }\n",
              "\n",
              "    [theme=dark] .colab-df-convert:hover {\n",
              "      background-color: #434B5C;\n",
              "      box-shadow: 0px 1px 3px 1px rgba(0, 0, 0, 0.15);\n",
              "      filter: drop-shadow(0px 1px 2px rgba(0, 0, 0, 0.3));\n",
              "      fill: #FFFFFF;\n",
              "    }\n",
              "  </style>\n",
              "\n",
              "      <script>\n",
              "        const buttonEl =\n",
              "          document.querySelector('#df-8967e26f-9c4e-4dfd-b2fc-ee5a4e417297 button.colab-df-convert');\n",
              "        buttonEl.style.display =\n",
              "          google.colab.kernel.accessAllowed ? 'block' : 'none';\n",
              "\n",
              "        async function convertToInteractive(key) {\n",
              "          const element = document.querySelector('#df-8967e26f-9c4e-4dfd-b2fc-ee5a4e417297');\n",
              "          const dataTable =\n",
              "            await google.colab.kernel.invokeFunction('convertToInteractive',\n",
              "                                                     [key], {});\n",
              "          if (!dataTable) return;\n",
              "\n",
              "          const docLinkHtml = 'Like what you see? Visit the ' +\n",
              "            '<a target=\"_blank\" href=https://colab.research.google.com/notebooks/data_table.ipynb>data table notebook</a>'\n",
              "            + ' to learn more about interactive tables.';\n",
              "          element.innerHTML = '';\n",
              "          dataTable['output_type'] = 'display_data';\n",
              "          await google.colab.output.renderOutput(dataTable, element);\n",
              "          const docLink = document.createElement('div');\n",
              "          docLink.innerHTML = docLinkHtml;\n",
              "          element.appendChild(docLink);\n",
              "        }\n",
              "      </script>\n",
              "    </div>\n",
              "  </div>\n",
              "  "
            ]
          },
          "metadata": {},
          "execution_count": 10
        }
      ],
      "source": [
        "frecuencia = grupos.value_counts(sort=False)\n",
        "frecuencia = frecuencia.to_frame()\n",
        "frecuencia.columns = ['Frecuencia']\n",
        "frecuencia\n"
      ]
    },
    {
      "cell_type": "markdown",
      "metadata": {
        "id": "SUF1F_5rxTsA"
      },
      "source": [
        "## Determina la frecuencia relativa mediante la división entre frecuencias por clase y el número de observaciones. Es decir, la frecuencia relativa es una fracción de las observaciones que pertenecen a cada clase"
      ]
    },
    {
      "cell_type": "code",
      "execution_count": null,
      "metadata": {
        "colab": {
          "base_uri": "https://localhost:8080/",
          "height": 300
        },
        "id": "NeBYtIv5xTsA",
        "outputId": "734424e6-2e1b-48d9-9ffc-2837e8b09047"
      },
      "outputs": [
        {
          "output_type": "execute_result",
          "data": {
            "text/plain": [
              "                     Frecuencia  Frecuencia relativa\n",
              "(-0.0587, -0.0402]            6                0.024\n",
              "(-0.0402, -0.0218]           28                0.112\n",
              "(-0.0218, -0.00331]          70                0.280\n",
              "(-0.00331, 0.0151]           89                0.356\n",
              "(0.0151, 0.0336]             42                0.168\n",
              "(0.0336, 0.0521]             12                0.048\n",
              "(0.0521, 0.0705]              0                0.000\n",
              "(0.0705, 0.089]               2                0.008"
            ],
            "text/html": [
              "\n",
              "  <div id=\"df-f68aa700-1a91-451f-9895-a13aa9ac4d80\">\n",
              "    <div class=\"colab-df-container\">\n",
              "      <div>\n",
              "<style scoped>\n",
              "    .dataframe tbody tr th:only-of-type {\n",
              "        vertical-align: middle;\n",
              "    }\n",
              "\n",
              "    .dataframe tbody tr th {\n",
              "        vertical-align: top;\n",
              "    }\n",
              "\n",
              "    .dataframe thead th {\n",
              "        text-align: right;\n",
              "    }\n",
              "</style>\n",
              "<table border=\"1\" class=\"dataframe\">\n",
              "  <thead>\n",
              "    <tr style=\"text-align: right;\">\n",
              "      <th></th>\n",
              "      <th>Frecuencia</th>\n",
              "      <th>Frecuencia relativa</th>\n",
              "    </tr>\n",
              "  </thead>\n",
              "  <tbody>\n",
              "    <tr>\n",
              "      <th>(-0.0587, -0.0402]</th>\n",
              "      <td>6</td>\n",
              "      <td>0.024</td>\n",
              "    </tr>\n",
              "    <tr>\n",
              "      <th>(-0.0402, -0.0218]</th>\n",
              "      <td>28</td>\n",
              "      <td>0.112</td>\n",
              "    </tr>\n",
              "    <tr>\n",
              "      <th>(-0.0218, -0.00331]</th>\n",
              "      <td>70</td>\n",
              "      <td>0.280</td>\n",
              "    </tr>\n",
              "    <tr>\n",
              "      <th>(-0.00331, 0.0151]</th>\n",
              "      <td>89</td>\n",
              "      <td>0.356</td>\n",
              "    </tr>\n",
              "    <tr>\n",
              "      <th>(0.0151, 0.0336]</th>\n",
              "      <td>42</td>\n",
              "      <td>0.168</td>\n",
              "    </tr>\n",
              "    <tr>\n",
              "      <th>(0.0336, 0.0521]</th>\n",
              "      <td>12</td>\n",
              "      <td>0.048</td>\n",
              "    </tr>\n",
              "    <tr>\n",
              "      <th>(0.0521, 0.0705]</th>\n",
              "      <td>0</td>\n",
              "      <td>0.000</td>\n",
              "    </tr>\n",
              "    <tr>\n",
              "      <th>(0.0705, 0.089]</th>\n",
              "      <td>2</td>\n",
              "      <td>0.008</td>\n",
              "    </tr>\n",
              "  </tbody>\n",
              "</table>\n",
              "</div>\n",
              "      <button class=\"colab-df-convert\" onclick=\"convertToInteractive('df-f68aa700-1a91-451f-9895-a13aa9ac4d80')\"\n",
              "              title=\"Convert this dataframe to an interactive table.\"\n",
              "              style=\"display:none;\">\n",
              "        \n",
              "  <svg xmlns=\"http://www.w3.org/2000/svg\" height=\"24px\"viewBox=\"0 0 24 24\"\n",
              "       width=\"24px\">\n",
              "    <path d=\"M0 0h24v24H0V0z\" fill=\"none\"/>\n",
              "    <path d=\"M18.56 5.44l.94 2.06.94-2.06 2.06-.94-2.06-.94-.94-2.06-.94 2.06-2.06.94zm-11 1L8.5 8.5l.94-2.06 2.06-.94-2.06-.94L8.5 2.5l-.94 2.06-2.06.94zm10 10l.94 2.06.94-2.06 2.06-.94-2.06-.94-.94-2.06-.94 2.06-2.06.94z\"/><path d=\"M17.41 7.96l-1.37-1.37c-.4-.4-.92-.59-1.43-.59-.52 0-1.04.2-1.43.59L10.3 9.45l-7.72 7.72c-.78.78-.78 2.05 0 2.83L4 21.41c.39.39.9.59 1.41.59.51 0 1.02-.2 1.41-.59l7.78-7.78 2.81-2.81c.8-.78.8-2.07 0-2.86zM5.41 20L4 18.59l7.72-7.72 1.47 1.35L5.41 20z\"/>\n",
              "  </svg>\n",
              "      </button>\n",
              "      \n",
              "  <style>\n",
              "    .colab-df-container {\n",
              "      display:flex;\n",
              "      flex-wrap:wrap;\n",
              "      gap: 12px;\n",
              "    }\n",
              "\n",
              "    .colab-df-convert {\n",
              "      background-color: #E8F0FE;\n",
              "      border: none;\n",
              "      border-radius: 50%;\n",
              "      cursor: pointer;\n",
              "      display: none;\n",
              "      fill: #1967D2;\n",
              "      height: 32px;\n",
              "      padding: 0 0 0 0;\n",
              "      width: 32px;\n",
              "    }\n",
              "\n",
              "    .colab-df-convert:hover {\n",
              "      background-color: #E2EBFA;\n",
              "      box-shadow: 0px 1px 2px rgba(60, 64, 67, 0.3), 0px 1px 3px 1px rgba(60, 64, 67, 0.15);\n",
              "      fill: #174EA6;\n",
              "    }\n",
              "\n",
              "    [theme=dark] .colab-df-convert {\n",
              "      background-color: #3B4455;\n",
              "      fill: #D2E3FC;\n",
              "    }\n",
              "\n",
              "    [theme=dark] .colab-df-convert:hover {\n",
              "      background-color: #434B5C;\n",
              "      box-shadow: 0px 1px 3px 1px rgba(0, 0, 0, 0.15);\n",
              "      filter: drop-shadow(0px 1px 2px rgba(0, 0, 0, 0.3));\n",
              "      fill: #FFFFFF;\n",
              "    }\n",
              "  </style>\n",
              "\n",
              "      <script>\n",
              "        const buttonEl =\n",
              "          document.querySelector('#df-f68aa700-1a91-451f-9895-a13aa9ac4d80 button.colab-df-convert');\n",
              "        buttonEl.style.display =\n",
              "          google.colab.kernel.accessAllowed ? 'block' : 'none';\n",
              "\n",
              "        async function convertToInteractive(key) {\n",
              "          const element = document.querySelector('#df-f68aa700-1a91-451f-9895-a13aa9ac4d80');\n",
              "          const dataTable =\n",
              "            await google.colab.kernel.invokeFunction('convertToInteractive',\n",
              "                                                     [key], {});\n",
              "          if (!dataTable) return;\n",
              "\n",
              "          const docLinkHtml = 'Like what you see? Visit the ' +\n",
              "            '<a target=\"_blank\" href=https://colab.research.google.com/notebooks/data_table.ipynb>data table notebook</a>'\n",
              "            + ' to learn more about interactive tables.';\n",
              "          element.innerHTML = '';\n",
              "          dataTable['output_type'] = 'display_data';\n",
              "          await google.colab.output.renderOutput(dataTable, element);\n",
              "          const docLink = document.createElement('div');\n",
              "          docLink.innerHTML = docLinkHtml;\n",
              "          element.appendChild(docLink);\n",
              "        }\n",
              "      </script>\n",
              "    </div>\n",
              "  </div>\n",
              "  "
            ]
          },
          "metadata": {},
          "execution_count": 11
        }
      ],
      "source": [
        "frecuencia_rel = frecuencia / num_data\n",
        "frecuencia['Frecuencia relativa'] = frecuencia_rel\n",
        "frecuencia"
      ]
    },
    {
      "cell_type": "markdown",
      "metadata": {
        "id": "yznn0DulxTsA"
      },
      "source": [
        "grafico"
      ]
    },
    {
      "cell_type": "code",
      "execution_count": null,
      "metadata": {
        "colab": {
          "base_uri": "https://localhost:8080/",
          "height": 542
        },
        "id": "6IkK2Df4xTsA",
        "outputId": "8dfd58f1-ed03-49b6-d033-f53c6e239336"
      },
      "outputs": [
        {
          "output_type": "display_data",
          "data": {
            "text/html": [
              "<html>\n",
              "<head><meta charset=\"utf-8\" /></head>\n",
              "<body>\n",
              "    <div>            <script src=\"https://cdnjs.cloudflare.com/ajax/libs/mathjax/2.7.5/MathJax.js?config=TeX-AMS-MML_SVG\"></script><script type=\"text/javascript\">if (window.MathJax && window.MathJax.Hub && window.MathJax.Hub.Config) {window.MathJax.Hub.Config({SVG: {font: \"STIX-Web\"}});}</script>                <script type=\"text/javascript\">window.PlotlyConfig = {MathJaxConfig: 'local'};</script>\n",
              "        <script src=\"https://cdn.plot.ly/plotly-2.18.2.min.js\"></script>                <div id=\"184d7f90-4019-4ab6-a2e9-50b9280c5760\" class=\"plotly-graph-div\" style=\"height:525px; width:100%;\"></div>            <script type=\"text/javascript\">                                    window.PLOTLYENV=window.PLOTLYENV || {};                                    if (document.getElementById(\"184d7f90-4019-4ab6-a2e9-50b9280c5760\")) {                    Plotly.newPlot(                        \"184d7f90-4019-4ab6-a2e9-50b9280c5760\",                        [{\"alignmentgroup\":\"True\",\"bingroup\":\"x\",\"hovertemplate\":\"x=%{x}<br>count=%{y}<extra></extra>\",\"legendgroup\":\"\",\"marker\":{\"color\":\"#636efa\",\"pattern\":{\"shape\":\"\"}},\"name\":\"\",\"nbinsx\":8,\"offsetgroup\":\"\",\"orientation\":\"v\",\"showlegend\":false,\"x\":[0.0050366805652399815,0.019134388668630375,-0.006649508342294497,-0.01777579392938944,-0.0017182536936871662,0.02369342643350225,-0.01894195105588703,-0.01845066987756816,0.0018040343256995328,-0.011908924639443819,-0.025515936562237607,0.011523559149908102,0.016342375256681585,-0.029988219917456593,-0.0013308913535713396,0.01411518205803275,-0.0010156200064393994,-0.004843488751278935,-0.02782129893916807,0.006737212650835378,-0.03732803153183295,-0.001466785703901019,0.04515535499930445,-0.036604749254132596,0.001966495091308751,0.00962259961019396,0.041008306197406474,-0.05571609725732596,0.004727083257239917,-0.03318915244894227,0.016111969874053944,-0.05184119024772749,-0.02689428198696775,0.031916514492536185,-0.010672363150645237,0.025422639881498954,-0.05641924711066759,-0.02464141324475011,0.0017472598064622868,0.04011922051450245,-0.01921598580817796,0.001140042148468856,0.023199439562139323,0.040756776004580164,-0.005346094274990554,-0.0008734392589988538,0.016811267640477023,-0.03855571841784633,0.005227763736837199,0.017585837935142123,-0.005043390599923092,-0.03595572620596443,-0.038628670172866975,-0.03828486231332928,0.006672657273478766,0.020111473699487847,-0.0396514568095746,0.011533180109177144,0.032760728604979805,-0.0038271547136008444,0.021573658962414033,0.024517273972338494,0.0,-0.029789575012162506,0.01302381792574514,-0.018027709463058428,0.016164311284275312,0.018930444348085995,0.009607292459396621,0.023999518645359874,0.004714556796363789,-0.01475794068739178,0.006833742148100619,-0.002536602713703595,0.02048244790570264,0.011450220901794816,-0.020643268478550247,0.026721883477908603,0.013509965990586403,0.01509412266926935,-0.008110742384689895,-0.00739824429724889,-0.008826304630730641,0.03423466619534632,0.0035717759892066603,0.03279299222732179,-0.006153363792025024,-0.009287477892211293,0.038247701700651504,-0.001926214079558286,-0.0013890219103992463,-0.002902997322980605,0.0003032334095998124,0.026194635955012258,-0.004431595186135007,0.021425596716582396,0.006333507695211349,-0.0009238907742439295,0.008784680707258019,-0.0022916868734189633,-0.015101844785828544,-0.023029339284004302,-0.002029055171172023,0.0017939075063926335,0.014922672907206058,-0.03769925867454493,-0.013690156377804685,-0.015305444924908373,-0.010635060646480343,0.004706827806610248,-0.013611079266378723,-0.00821518478958827,0.009254001845649285,-0.009617891209236396,0.018839762470120425,0.03850797758073621,-0.05867957400682189,0.009555407672982907,-0.01892993212726768,-0.010960134153319867,0.025082867888681637,0.01566555107723322,-0.020267672359166933,-0.006375211271420489,-0.015123836508469046,0.002260246205244787,0.0065663498303460965,-0.012651633248891625,-0.049119061203703684,-0.030039344027697812,0.030752556685706756,0.02562311591970423,0.002053250184925526,-0.0066255910067537505,-0.036718694904853466,0.00235561247235494,-0.010254959001748332,-0.0046050079488979545,0.03361307344251174,-0.03224014185739499,0.02912273715300251,0.009409435619817996,0.0007652121317962557,-0.0032670621105705955,0.027059116662976557,0.014802593626693117,0.019337663663868465,-0.019627161306367324,-0.030465336878932825,0.07555256360462237,-0.015410442553375536,-0.017542759803189534,-0.0373049355695505,-0.04240497023635814,-0.0019473775983680497,0.0039022441189144885,0.004175182536353628,-0.03319006149533299,0.08897456365827372,0.019268728127011414,-0.009485613297641748,0.011869383294394575,-0.008331101045729095,0.012971441219321367,0.0037817890098765794,-0.021680280037245092,0.014661140018347618,0.005926413763607474,-0.019593682865218565,-0.02626422358257896,-0.021148237616842258,0.04859383046247978,0.0018914976961761365,-0.0033713123759251395,-0.007983161478345768,-0.025369951976540905,-0.013784888625020697,0.012132744444250498,-0.0034349075222149805,0.01638997268982889,0.006782437097700322,-0.015535790149120876,-0.04685435641887625,-0.014578775296892332,-0.015909572215163093,-0.0005287599827979994,0.02380944405202845,-0.02377258719590114,-0.0027981139572388347,-0.013878350373759729,-0.030685225808309347,0.02832435997776317,0.002468880480197777,-0.037404769239074875,0.010314278622129303,-0.010604698830362858,0.03679417447115174,0.0040888601110185,0.004456404486017584,0.02111226190782345,-0.0005993087171427547,0.010119098552789474,0.008756354920472775,-0.005369977365783707,0.0004437354522925929,0.01922072317359458,0.023500519249589402,0.010063044155601109,-0.004700745372968496,0.01480334951960427,0.013684239579286217,-0.020078043055001715,0.009020919466503408,0.007900740676565654,0.03706266149802917,0.024399862520001925,-0.017928805457158914,0.019244672319954192,-0.017652712913862723,-0.0069115428539698875,0.0024561545319079503,0.01880677902118011,-0.004224953717818392,0.013903426404976438,-0.010429376798369527,-0.007546702305912589,-0.026679824600448265,0.0028960664530148783,0.0032905125399556034,-0.018005269695533066,0.008247504598905886,-0.003447772533457294,-0.014246021649447993,0.0041291453691869595,0.035090089703815774,0.01853938339660255,-0.014496494188358522,0.00837723590066819,-0.014914625839747453,-0.0138787196275717,0.013266001486216261,0.01408915464869298,0.0026214638237991306,0.018694035607962345,-0.00545400109224925,0.015483831590221708,0.011944122971497162,-0.009103446505241086,0.006969466083539766,0.008305589788276002],\"xaxis\":\"x\",\"yaxis\":\"y\",\"type\":\"histogram\"}],                        {\"template\":{\"data\":{\"histogram2dcontour\":[{\"type\":\"histogram2dcontour\",\"colorbar\":{\"outlinewidth\":0,\"ticks\":\"\"},\"colorscale\":[[0.0,\"#0d0887\"],[0.1111111111111111,\"#46039f\"],[0.2222222222222222,\"#7201a8\"],[0.3333333333333333,\"#9c179e\"],[0.4444444444444444,\"#bd3786\"],[0.5555555555555556,\"#d8576b\"],[0.6666666666666666,\"#ed7953\"],[0.7777777777777778,\"#fb9f3a\"],[0.8888888888888888,\"#fdca26\"],[1.0,\"#f0f921\"]]}],\"choropleth\":[{\"type\":\"choropleth\",\"colorbar\":{\"outlinewidth\":0,\"ticks\":\"\"}}],\"histogram2d\":[{\"type\":\"histogram2d\",\"colorbar\":{\"outlinewidth\":0,\"ticks\":\"\"},\"colorscale\":[[0.0,\"#0d0887\"],[0.1111111111111111,\"#46039f\"],[0.2222222222222222,\"#7201a8\"],[0.3333333333333333,\"#9c179e\"],[0.4444444444444444,\"#bd3786\"],[0.5555555555555556,\"#d8576b\"],[0.6666666666666666,\"#ed7953\"],[0.7777777777777778,\"#fb9f3a\"],[0.8888888888888888,\"#fdca26\"],[1.0,\"#f0f921\"]]}],\"heatmap\":[{\"type\":\"heatmap\",\"colorbar\":{\"outlinewidth\":0,\"ticks\":\"\"},\"colorscale\":[[0.0,\"#0d0887\"],[0.1111111111111111,\"#46039f\"],[0.2222222222222222,\"#7201a8\"],[0.3333333333333333,\"#9c179e\"],[0.4444444444444444,\"#bd3786\"],[0.5555555555555556,\"#d8576b\"],[0.6666666666666666,\"#ed7953\"],[0.7777777777777778,\"#fb9f3a\"],[0.8888888888888888,\"#fdca26\"],[1.0,\"#f0f921\"]]}],\"heatmapgl\":[{\"type\":\"heatmapgl\",\"colorbar\":{\"outlinewidth\":0,\"ticks\":\"\"},\"colorscale\":[[0.0,\"#0d0887\"],[0.1111111111111111,\"#46039f\"],[0.2222222222222222,\"#7201a8\"],[0.3333333333333333,\"#9c179e\"],[0.4444444444444444,\"#bd3786\"],[0.5555555555555556,\"#d8576b\"],[0.6666666666666666,\"#ed7953\"],[0.7777777777777778,\"#fb9f3a\"],[0.8888888888888888,\"#fdca26\"],[1.0,\"#f0f921\"]]}],\"contourcarpet\":[{\"type\":\"contourcarpet\",\"colorbar\":{\"outlinewidth\":0,\"ticks\":\"\"}}],\"contour\":[{\"type\":\"contour\",\"colorbar\":{\"outlinewidth\":0,\"ticks\":\"\"},\"colorscale\":[[0.0,\"#0d0887\"],[0.1111111111111111,\"#46039f\"],[0.2222222222222222,\"#7201a8\"],[0.3333333333333333,\"#9c179e\"],[0.4444444444444444,\"#bd3786\"],[0.5555555555555556,\"#d8576b\"],[0.6666666666666666,\"#ed7953\"],[0.7777777777777778,\"#fb9f3a\"],[0.8888888888888888,\"#fdca26\"],[1.0,\"#f0f921\"]]}],\"surface\":[{\"type\":\"surface\",\"colorbar\":{\"outlinewidth\":0,\"ticks\":\"\"},\"colorscale\":[[0.0,\"#0d0887\"],[0.1111111111111111,\"#46039f\"],[0.2222222222222222,\"#7201a8\"],[0.3333333333333333,\"#9c179e\"],[0.4444444444444444,\"#bd3786\"],[0.5555555555555556,\"#d8576b\"],[0.6666666666666666,\"#ed7953\"],[0.7777777777777778,\"#fb9f3a\"],[0.8888888888888888,\"#fdca26\"],[1.0,\"#f0f921\"]]}],\"mesh3d\":[{\"type\":\"mesh3d\",\"colorbar\":{\"outlinewidth\":0,\"ticks\":\"\"}}],\"scatter\":[{\"fillpattern\":{\"fillmode\":\"overlay\",\"size\":10,\"solidity\":0.2},\"type\":\"scatter\"}],\"parcoords\":[{\"type\":\"parcoords\",\"line\":{\"colorbar\":{\"outlinewidth\":0,\"ticks\":\"\"}}}],\"scatterpolargl\":[{\"type\":\"scatterpolargl\",\"marker\":{\"colorbar\":{\"outlinewidth\":0,\"ticks\":\"\"}}}],\"bar\":[{\"error_x\":{\"color\":\"#2a3f5f\"},\"error_y\":{\"color\":\"#2a3f5f\"},\"marker\":{\"line\":{\"color\":\"#E5ECF6\",\"width\":0.5},\"pattern\":{\"fillmode\":\"overlay\",\"size\":10,\"solidity\":0.2}},\"type\":\"bar\"}],\"scattergeo\":[{\"type\":\"scattergeo\",\"marker\":{\"colorbar\":{\"outlinewidth\":0,\"ticks\":\"\"}}}],\"scatterpolar\":[{\"type\":\"scatterpolar\",\"marker\":{\"colorbar\":{\"outlinewidth\":0,\"ticks\":\"\"}}}],\"histogram\":[{\"marker\":{\"pattern\":{\"fillmode\":\"overlay\",\"size\":10,\"solidity\":0.2}},\"type\":\"histogram\"}],\"scattergl\":[{\"type\":\"scattergl\",\"marker\":{\"colorbar\":{\"outlinewidth\":0,\"ticks\":\"\"}}}],\"scatter3d\":[{\"type\":\"scatter3d\",\"line\":{\"colorbar\":{\"outlinewidth\":0,\"ticks\":\"\"}},\"marker\":{\"colorbar\":{\"outlinewidth\":0,\"ticks\":\"\"}}}],\"scattermapbox\":[{\"type\":\"scattermapbox\",\"marker\":{\"colorbar\":{\"outlinewidth\":0,\"ticks\":\"\"}}}],\"scatterternary\":[{\"type\":\"scatterternary\",\"marker\":{\"colorbar\":{\"outlinewidth\":0,\"ticks\":\"\"}}}],\"scattercarpet\":[{\"type\":\"scattercarpet\",\"marker\":{\"colorbar\":{\"outlinewidth\":0,\"ticks\":\"\"}}}],\"carpet\":[{\"aaxis\":{\"endlinecolor\":\"#2a3f5f\",\"gridcolor\":\"white\",\"linecolor\":\"white\",\"minorgridcolor\":\"white\",\"startlinecolor\":\"#2a3f5f\"},\"baxis\":{\"endlinecolor\":\"#2a3f5f\",\"gridcolor\":\"white\",\"linecolor\":\"white\",\"minorgridcolor\":\"white\",\"startlinecolor\":\"#2a3f5f\"},\"type\":\"carpet\"}],\"table\":[{\"cells\":{\"fill\":{\"color\":\"#EBF0F8\"},\"line\":{\"color\":\"white\"}},\"header\":{\"fill\":{\"color\":\"#C8D4E3\"},\"line\":{\"color\":\"white\"}},\"type\":\"table\"}],\"barpolar\":[{\"marker\":{\"line\":{\"color\":\"#E5ECF6\",\"width\":0.5},\"pattern\":{\"fillmode\":\"overlay\",\"size\":10,\"solidity\":0.2}},\"type\":\"barpolar\"}],\"pie\":[{\"automargin\":true,\"type\":\"pie\"}]},\"layout\":{\"autotypenumbers\":\"strict\",\"colorway\":[\"#636efa\",\"#EF553B\",\"#00cc96\",\"#ab63fa\",\"#FFA15A\",\"#19d3f3\",\"#FF6692\",\"#B6E880\",\"#FF97FF\",\"#FECB52\"],\"font\":{\"color\":\"#2a3f5f\"},\"hovermode\":\"closest\",\"hoverlabel\":{\"align\":\"left\"},\"paper_bgcolor\":\"white\",\"plot_bgcolor\":\"#E5ECF6\",\"polar\":{\"bgcolor\":\"#E5ECF6\",\"angularaxis\":{\"gridcolor\":\"white\",\"linecolor\":\"white\",\"ticks\":\"\"},\"radialaxis\":{\"gridcolor\":\"white\",\"linecolor\":\"white\",\"ticks\":\"\"}},\"ternary\":{\"bgcolor\":\"#E5ECF6\",\"aaxis\":{\"gridcolor\":\"white\",\"linecolor\":\"white\",\"ticks\":\"\"},\"baxis\":{\"gridcolor\":\"white\",\"linecolor\":\"white\",\"ticks\":\"\"},\"caxis\":{\"gridcolor\":\"white\",\"linecolor\":\"white\",\"ticks\":\"\"}},\"coloraxis\":{\"colorbar\":{\"outlinewidth\":0,\"ticks\":\"\"}},\"colorscale\":{\"sequential\":[[0.0,\"#0d0887\"],[0.1111111111111111,\"#46039f\"],[0.2222222222222222,\"#7201a8\"],[0.3333333333333333,\"#9c179e\"],[0.4444444444444444,\"#bd3786\"],[0.5555555555555556,\"#d8576b\"],[0.6666666666666666,\"#ed7953\"],[0.7777777777777778,\"#fb9f3a\"],[0.8888888888888888,\"#fdca26\"],[1.0,\"#f0f921\"]],\"sequentialminus\":[[0.0,\"#0d0887\"],[0.1111111111111111,\"#46039f\"],[0.2222222222222222,\"#7201a8\"],[0.3333333333333333,\"#9c179e\"],[0.4444444444444444,\"#bd3786\"],[0.5555555555555556,\"#d8576b\"],[0.6666666666666666,\"#ed7953\"],[0.7777777777777778,\"#fb9f3a\"],[0.8888888888888888,\"#fdca26\"],[1.0,\"#f0f921\"]],\"diverging\":[[0,\"#8e0152\"],[0.1,\"#c51b7d\"],[0.2,\"#de77ae\"],[0.3,\"#f1b6da\"],[0.4,\"#fde0ef\"],[0.5,\"#f7f7f7\"],[0.6,\"#e6f5d0\"],[0.7,\"#b8e186\"],[0.8,\"#7fbc41\"],[0.9,\"#4d9221\"],[1,\"#276419\"]]},\"xaxis\":{\"gridcolor\":\"white\",\"linecolor\":\"white\",\"ticks\":\"\",\"title\":{\"standoff\":15},\"zerolinecolor\":\"white\",\"automargin\":true,\"zerolinewidth\":2},\"yaxis\":{\"gridcolor\":\"white\",\"linecolor\":\"white\",\"ticks\":\"\",\"title\":{\"standoff\":15},\"zerolinecolor\":\"white\",\"automargin\":true,\"zerolinewidth\":2},\"scene\":{\"xaxis\":{\"backgroundcolor\":\"#E5ECF6\",\"gridcolor\":\"white\",\"linecolor\":\"white\",\"showbackground\":true,\"ticks\":\"\",\"zerolinecolor\":\"white\",\"gridwidth\":2},\"yaxis\":{\"backgroundcolor\":\"#E5ECF6\",\"gridcolor\":\"white\",\"linecolor\":\"white\",\"showbackground\":true,\"ticks\":\"\",\"zerolinecolor\":\"white\",\"gridwidth\":2},\"zaxis\":{\"backgroundcolor\":\"#E5ECF6\",\"gridcolor\":\"white\",\"linecolor\":\"white\",\"showbackground\":true,\"ticks\":\"\",\"zerolinecolor\":\"white\",\"gridwidth\":2}},\"shapedefaults\":{\"line\":{\"color\":\"#2a3f5f\"}},\"annotationdefaults\":{\"arrowcolor\":\"#2a3f5f\",\"arrowhead\":0,\"arrowwidth\":1},\"geo\":{\"bgcolor\":\"white\",\"landcolor\":\"#E5ECF6\",\"subunitcolor\":\"white\",\"showland\":true,\"showlakes\":true,\"lakecolor\":\"white\"},\"title\":{\"x\":0.05},\"mapbox\":{\"style\":\"light\"}}},\"xaxis\":{\"anchor\":\"y\",\"domain\":[0.0,1.0],\"title\":{\"text\":\"x\"}},\"yaxis\":{\"anchor\":\"x\",\"domain\":[0.0,1.0],\"title\":{\"text\":\"count\"}},\"legend\":{\"tracegroupgap\":0},\"margin\":{\"t\":60},\"barmode\":\"relative\"},                        {\"responsive\": true}                    ).then(function(){\n",
              "                            \n",
              "var gd = document.getElementById('184d7f90-4019-4ab6-a2e9-50b9280c5760');\n",
              "var x = new MutationObserver(function (mutations, observer) {{\n",
              "        var display = window.getComputedStyle(gd).display;\n",
              "        if (!display || display === 'none') {{\n",
              "            console.log([gd, 'removed!']);\n",
              "            Plotly.purge(gd);\n",
              "            observer.disconnect();\n",
              "        }}\n",
              "}});\n",
              "\n",
              "// Listen for the removal of the full notebook cells\n",
              "var notebookContainer = gd.closest('#notebook-container');\n",
              "if (notebookContainer) {{\n",
              "    x.observe(notebookContainer, {childList: true});\n",
              "}}\n",
              "\n",
              "// Listen for the clearing of the current output cell\n",
              "var outputEl = gd.closest('.output');\n",
              "if (outputEl) {{\n",
              "    x.observe(outputEl, {childList: true});\n",
              "}}\n",
              "\n",
              "                        })                };                            </script>        </div>\n",
              "</body>\n",
              "</html>"
            ]
          },
          "metadata": {}
        }
      ],
      "source": [
        "fig = px.histogram(returns, x=returns, nbins=k)\n",
        "fig.show()"
      ]
    },
    {
      "cell_type": "markdown",
      "metadata": {
        "id": "snd2VaukxTsA"
      },
      "source": [
        "<h2 style=\"text-align: center;\">Referencias</h2>"
      ]
    },
    {
      "cell_type": "markdown",
      "metadata": {
        "id": "fb3OPpHCxTsA"
      },
      "source": [
        "Lara, A. (2008). Medición y control de riesgos financieros. [versión electrónica]. Recuperado de https://es.scribd.com/doc/48773171/Medicion-y-Control-de-Riesgos-Financieros-LIBRO-DE-ALFONSO-DE-LARA-HARO\n",
        "\n",
        "\n",
        "Allen, F., Myers, S., y Brealey, R. (2015). Principios de finanzas corporativas. Haga clic para ver más opciones [archivo PDF]. Recuperado de https://www.u-cursos.cl/usuario/b8c892c6139f1d5b9af125a5c6dff4a6/mi_blog/r/Principios_de_Finanzas_Corporativas_9Ed__Myers.pdf"
      ]
    }
  ],
  "metadata": {
    "kernelspec": {
      "display_name": "EDA_101",
      "language": "python",
      "name": "python3"
    },
    "language_info": {
      "codemirror_mode": {
        "name": "ipython",
        "version": 3
      },
      "file_extension": ".py",
      "mimetype": "text/x-python",
      "name": "python",
      "nbconvert_exporter": "python",
      "pygments_lexer": "ipython3",
      "version": "3.10.9"
    },
    "orig_nbformat": 4,
    "colab": {
      "provenance": [],
      "include_colab_link": true
    }
  },
  "nbformat": 4,
  "nbformat_minor": 0
}